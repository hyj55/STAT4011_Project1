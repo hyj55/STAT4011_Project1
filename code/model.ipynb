{
 "cells": [
  {
   "cell_type": "code",
   "execution_count": 37,
   "id": "a99cb300",
   "metadata": {},
   "outputs": [],
   "source": [
    "#importing\n",
    "import numpy as np\n",
    "import pandas as pd\n",
    "import multiprocessing\n",
    "import math \n",
    "from numpy import mean\n",
    "from statistics import variance\n",
    "from numpy import std\n",
    "from pandas import read_csv\n",
    "from sklearn.impute import KNNImputer\n",
    "from sklearn.model_selection import cross_val_score\n",
    "from sklearn.model_selection import KFold\n",
    "from sklearn.pipeline import Pipeline\n",
    "from sklearn.ensemble import RandomForestRegressor\n",
    "from sklearn.model_selection import train_test_split\n",
    "from sklearn.preprocessing import StandardScaler\n",
    "from sklearn.pipeline import Pipeline\n",
    "from sklearn.linear_model import LinearRegression\n",
    "from sklearn.linear_model import Ridge, RidgeCV, Lasso, LassoCV, ElasticNet, ElasticNetCV\n",
    "from sklearn.metrics import mean_squared_error\n",
    "from sklearn.metrics import mean_absolute_error as mae\n",
    "from sklearn.ensemble import RandomForestRegressor\n",
    "from sklearn.model_selection import GridSearchCV\n",
    "import warnings"
   ]
  },
  {
   "cell_type": "code",
   "execution_count": 38,
   "id": "0f9fb3e5",
   "metadata": {},
   "outputs": [],
   "source": [
    "#warnings.filterwarnings('ignore')"
   ]
  },
  {
   "cell_type": "code",
   "execution_count": 3,
   "id": "396e5ab1",
   "metadata": {},
   "outputs": [
    {
     "data": {
      "text/plain": [
       "8"
      ]
     },
     "execution_count": 3,
     "metadata": {},
     "output_type": "execute_result"
    }
   ],
   "source": [
    "multiprocessing.cpu_count()"
   ]
  },
  {
   "cell_type": "code",
   "execution_count": 4,
   "id": "74708e98",
   "metadata": {},
   "outputs": [],
   "source": [
    "data_wd = \"C:/Users/Lenovo/Desktop/git/STAT4011_Project1/data/Lianjia_transformed.csv\"\n",
    "df = pd.read_csv(data_wd)"
   ]
  },
  {
   "cell_type": "code",
   "execution_count": 5,
   "id": "d77e2f5e",
   "metadata": {},
   "outputs": [],
   "source": [
    "X = df.drop(columns=['price'])\n",
    "y = df['price']\n",
    "Xtrain,Xtest,ytrain,ytest=train_test_split(X,y,test_size=0.2,random_state=4011)"
   ]
  },
  {
   "cell_type": "markdown",
   "id": "40c6b619",
   "metadata": {},
   "source": [
    "# Define a model Assess Function"
   ]
  },
  {
   "cell_type": "code",
   "execution_count": 8,
   "id": "1e3e35a8",
   "metadata": {},
   "outputs": [],
   "source": [
    "def model_assess(tuned_model,X_train,y_train,X_test,y_test):\n",
    "    y_train_pred=tuned_model.predict(X_train)\n",
    "    y_test_pred=tuned_model.predict(X_test)\n",
    "    train_R2 = tuned_model.score(X_train, y_train)\n",
    "    test_R2 = tuned_model.score(X_test, y_test)\n",
    "    train_RMSE=round(math.sqrt(mean_squared_error(y_train_pred,y_train)),4)\n",
    "    test_RMSE=round(math.sqrt(mean_squared_error(y_test_pred,y_test)),4)\n",
    "    train_MAE=round(mae(y_train_pred,ytrain),4)\n",
    "    test_MAE=round(mae(y_test_pred,ytest),4)\n",
    "    return([train_R2,test_R2,train_RMSE,test_RMSE,train_MAE,test_MAE])"
   ]
  },
  {
   "cell_type": "markdown",
   "id": "8b0efe32",
   "metadata": {},
   "source": [
    "# OLS"
   ]
  },
  {
   "cell_type": "code",
   "execution_count": 9,
   "id": "b26536ef",
   "metadata": {},
   "outputs": [],
   "source": [
    "model_ols = LinearRegression().fit(Xtrain, ytrain)"
   ]
  },
  {
   "cell_type": "code",
   "execution_count": 10,
   "id": "03954457",
   "metadata": {},
   "outputs": [],
   "source": [
    "ols_result=model_assess(model_ols,Xtrain,ytrain,Xtest,ytest)"
   ]
  },
  {
   "cell_type": "markdown",
   "id": "3832e536",
   "metadata": {},
   "source": [
    "# LASSO"
   ]
  },
  {
   "cell_type": "code",
   "execution_count": 11,
   "id": "734c741d",
   "metadata": {},
   "outputs": [],
   "source": [
    "# step 1: examine the model\n",
    "model_lasso = LassoCV(cv=5, random_state=4011,n_jobs=-2,alphas=np.logspace(-5,-1,100),tol=1e-2).fit(Xtrain, ytrain)"
   ]
  },
  {
   "cell_type": "code",
   "execution_count": 12,
   "id": "f5bc1f6b",
   "metadata": {},
   "outputs": [
    {
     "data": {
      "text/plain": [
       "0.0038535285937105314"
      ]
     },
     "execution_count": 12,
     "metadata": {},
     "output_type": "execute_result"
    }
   ],
   "source": [
    "# step 2: examine if the selected hyperparameter lies within boundary\n",
    "model_lasso.alpha_ "
   ]
  },
  {
   "cell_type": "code",
   "execution_count": 13,
   "id": "e7e3c803",
   "metadata": {},
   "outputs": [],
   "source": [
    "# step 3: model assessment\n",
    "lasso_result=model_assess(model_lasso,Xtrain,ytrain,Xtest,ytest)"
   ]
  },
  {
   "cell_type": "code",
   "execution_count": 14,
   "id": "c8cdc385",
   "metadata": {},
   "outputs": [
    {
     "name": "stdout",
     "output_type": "stream",
     "text": [
      "[(6.746396362533325, 'total_floor'), (26.433482136701418, 'area_size'), (3.7420521258645536, 'elevator'), (-0.42096604583414676, 'date_on_market'), (0.34081364442938944, 'last_transact_date'), (1.1199652772022928, 'bedrm_no'), (0.9128766955498774, 'parlour_no'), (0.048710482182980686, 'kitchen_no'), (3.94072790244851, 'toilet_no'), (-3.904172401406128, 'stair'), (2.142749096850644, 'unit'), (4.636422005474458, 'proportion'), (0.8743437420303899, 'mid_floor'), (0.08073072934462963, 'higher_floor'), (-0.8475476505669389, 'duplex_config'), (0.46740503400994804, 'levelling_config'), (0.2150233561903785, 'split_level_config'), (0.19744061750489922, 'diepin'), (-2.1963970291601607, 'talou'), (0.25537760298219936, 'pingfang'), (0.2947684186077513, 'bantajiehe'), (1.3968058560207328, 'banlou'), (2.153574876872985, 'dudong'), (-1.3155647517181457, 'lianpai'), (0.44731355258225675, 'south'), (-0.1443868466026778, 'west'), (-0.17237575966748908, 'north'), (-0.4619997462640114, 'northeast'), (0.2311295039681468, 'southeast'), (-0.09189114071519583, 'northwest'), (0.13347137548106164, 'southwest'), (0.5311799013334915, 'frame_struct'), (0.43266193465685343, 'mixed_struct'), (-0.09836403926277014, 'brickwood_struct'), (2.0573220817902738, 'brickmix_struct'), (2.055494629899901, 'steelmix_struct'), (-0.16686372002431685, 'steel_struct'), (-1.6610365259809712, 'maopei'), (-1.3401899793703795, 'jianzhuang'), (0.3499557386495578, 'jingzhuang'), (0.5041345765179587, 'public_housing'), (1.1311925134291778, 'commercial_housing'), (-4.807152912370905, 'office'), (0.0, 'n_linong'), (1.586974774702338, 'o_linong'), (-2.3065945218488557, 'residential'), (-0.11503684766543036, 'apartment'), (0.016825072048513592, 'garden_house'), (-0.15432850392151123, 'beyong_two'), (0.17933117543718474, 'beyond_five'), (-0.28661426692443276, 'shared'), (-0.8956416461659085, 'uploaded'), (6.267482671344695, 'central_outer'), (12.279116594883146, 'inner'), (9.986024813576309, 'inner_central'), (-0.3860087454833909, 'after_work'), (0.022258083006166336, 'call_agent'), (0.7567489692718271, 'only_weekend'), (-0.6954762775126488, 'reservation'), (-2.319055179774107, 'baoshan'), (0.0975388970098266, 'changning'), (-4.139803488026583, 'chongming'), (-5.514070169759793, 'fengxian'), (-0.7575233596078683, 'hongkou'), (2.152694318335896, 'huangpu'), (-2.8926810015614115, 'jiading'), (1.068432439682437, 'jingan'), (-5.481443824512374, 'jinshan'), (1.9469192359767475, 'minhang'), (-1.8039729804222302, 'pudong'), (-2.1288228282168924, 'putuo'), (-2.716866265397127, 'qingpu'), (-3.776354542104269, 'songjiang'), (1.7514675759487583, 'xuhui')]\n"
     ]
    }
   ],
   "source": [
    "# step 4: examine if coefficients are shrinked towards 0; this is only for lasso and ridge\n",
    "print(list(zip(model_lasso.coef_, X))) "
   ]
  },
  {
   "cell_type": "markdown",
   "id": "2de6ac24",
   "metadata": {},
   "source": [
    "# RIDGE"
   ]
  },
  {
   "cell_type": "code",
   "execution_count": 22,
   "id": "21ca7737",
   "metadata": {},
   "outputs": [
    {
     "data": {
      "text/plain": [
       "81.11308307896873"
      ]
     },
     "execution_count": 22,
     "metadata": {},
     "output_type": "execute_result"
    }
   ],
   "source": [
    "model_ridge = RidgeCV(cv=5,alphas=np.logspace(-1,3,100)).fit(Xtrain, ytrain)\n",
    "model_ridge.alpha_ "
   ]
  },
  {
   "cell_type": "code",
   "execution_count": 23,
   "id": "5c7a36a7",
   "metadata": {},
   "outputs": [],
   "source": [
    "ridge_result=model_assess(model_ridge,Xtrain,ytrain,Xtest,ytest)"
   ]
  },
  {
   "cell_type": "code",
   "execution_count": 24,
   "id": "841cb990",
   "metadata": {},
   "outputs": [
    {
     "name": "stdout",
     "output_type": "stream",
     "text": [
      "[(6.706065953939077, 'total_floor'), (25.97101465070193, 'area_size'), (3.7343712781167637, 'elevator'), (-0.4083998722356938, 'date_on_market'), (0.360552376120507, 'last_transact_date'), (1.292567365242712, 'bedrm_no'), (0.9637350515243888, 'parlour_no'), (0.048777130026567236, 'kitchen_no'), (4.082070884338945, 'toilet_no'), (-3.816967999201759, 'stair'), (2.0351392702175866, 'unit'), (4.606564294168615, 'proportion'), (0.858490799554046, 'mid_floor'), (0.06009602990876299, 'higher_floor'), (-0.8212047976799733, 'duplex_config'), (0.45694061694912474, 'levelling_config'), (0.21755780014733972, 'split_level_config'), (0.3012927271798949, 'diepin'), (-2.0723541450762886, 'talou'), (0.26495266367398296, 'pingfang'), (0.3470947386969166, 'bantajiehe'), (1.490416283581285, 'banlou'), (2.3140648088912186, 'dudong'), (-1.1473689306726822, 'lianpai'), (0.4612726397069366, 'south'), (-0.13667745363910186, 'west'), (-0.18127108084585633, 'north'), (-0.4587489845465758, 'northeast'), (0.2393885475281235, 'southeast'), (-0.0933222633604937, 'northwest'), (0.1514890148993894, 'southwest'), (0.5104782507954602, 'frame_struct'), (0.3550297117536012, 'mixed_struct'), (-0.114290708426196, 'brickwood_struct'), (1.7092103083060406, 'brickmix_struct'), (1.7417985973612793, 'steelmix_struct'), (-0.178668159747895, 'steel_struct'), (-1.6178723952104153, 'maopei'), (-1.258142132264521, 'jianzhuang'), (0.43839554275229503, 'jingzhuang'), (0.5177026217020168, 'public_housing'), (1.156899103902359, 'commercial_housing'), (-3.7451849793744496, 'office'), (0.13755876842160952, 'n_linong'), (1.6184639973716957, 'o_linong'), (-1.2250427073265067, 'residential'), (-0.028476653788538996, 'apartment'), (0.07065888857325364, 'garden_house'), (-0.17716724765117026, 'beyong_two'), (0.16803518075099572, 'beyond_five'), (-0.2914374521141372, 'shared'), (-0.8725267814211533, 'uploaded'), (6.166818543518818, 'central_outer'), (12.10596554649705, 'inner'), (9.820987668976466, 'inner_central'), (-0.3903768105888767, 'after_work'), (0.026701614788531596, 'call_agent'), (0.7646274772636938, 'only_weekend'), (-0.7040427606367656, 'reservation'), (-2.325708469084417, 'baoshan'), (0.1444337367430342, 'changning'), (-4.144382759119438, 'chongming'), (-5.50483891198574, 'fengxian'), (-0.7268468578637887, 'hongkou'), (2.179892698158899, 'huangpu'), (-2.915361584962435, 'jiading'), (1.1220636476916908, 'jingan'), (-5.487983611818453, 'jinshan'), (1.9214669715214834, 'minhang'), (-1.778478467920224, 'pudong'), (-2.069522487557948, 'putuo'), (-2.7222574358395417, 'qingpu'), (-3.7950696266847874, 'songjiang'), (1.788000484886848, 'xuhui')]\n"
     ]
    }
   ],
   "source": [
    "#examine if coefficients are shrinked \n",
    "print(list(zip(model_ridge.coef_, X))) "
   ]
  },
  {
   "cell_type": "markdown",
   "id": "e7567477",
   "metadata": {},
   "source": [
    "# Elastic Net"
   ]
  },
  {
   "cell_type": "code",
   "execution_count": 62,
   "id": "30abaceb",
   "metadata": {},
   "outputs": [],
   "source": [
    "model_elanet = ElasticNetCV(cv=5,l1_ratio=[0.5,0.7,0.8,0.9,0.95,1],alphas=np.logspace(-10,-1,20),n_jobs=-2,tol=1e-1,max_iter=1e5).fit(Xtrain, ytrain)"
   ]
  },
  {
   "cell_type": "code",
   "execution_count": 63,
   "id": "a5cbf4f9",
   "metadata": {},
   "outputs": [
    {
     "data": {
      "text/plain": [
       "5.455594781168514e-06"
      ]
     },
     "execution_count": 63,
     "metadata": {},
     "output_type": "execute_result"
    }
   ],
   "source": [
    "model_elanet.alpha_"
   ]
  },
  {
   "cell_type": "code",
   "execution_count": 64,
   "id": "b8b1e0e8",
   "metadata": {},
   "outputs": [
    {
     "data": {
      "text/plain": [
       "1.0"
      ]
     },
     "execution_count": 64,
     "metadata": {},
     "output_type": "execute_result"
    }
   ],
   "source": [
    "model_elanet.l1_ratio_ "
   ]
  },
  {
   "cell_type": "code",
   "execution_count": 65,
   "id": "047ff1a7",
   "metadata": {},
   "outputs": [],
   "source": [
    "elanet_result=model_assess(model_elanet,Xtrain,ytrain,Xtest,ytest)"
   ]
  },
  {
   "cell_type": "markdown",
   "id": "c90908f2",
   "metadata": {},
   "source": [
    "# SVM"
   ]
  },
  {
   "cell_type": "code",
   "execution_count": null,
   "id": "5d631623",
   "metadata": {},
   "outputs": [],
   "source": [
    "param_grid_svr = [\n",
    "    {'kernel': ['poly'], 'degree': [1,2,3,4,5], 'tol': [1e-3,1e-5,1e-7], \n",
    "     'C': [0.1,1,10,100], 'epsilon': [1e-3,1e-2,0.1,1]},\n",
    "    {'kernel': ['sigmoid'], 'tol': [1e-3,1e-5,1e-7], 'C': [0.1,1,10,100], \n",
    "     'epsilon': [1e-3,1e-2,0.1,1]},\n",
    "    {'kernel': ['linear','rbf'], 'tol': [1e-3,1e-5,1e-7], 'C': [0.1,1,10,100], 'epsilon': [1e-3,1e-2,0.1,1]}\n",
    "]\n",
    "\n",
    "select_model_svr = GridSearchCV(SVR(),param_grid_svr, n_jobs=-2, cv=5,scoring='neg_mean_squared_error',\n",
    "return_train_score=True)\n",
    "select_model_svr.fit(Xtrain, ytrain)\n",
    "\n",
    "model_svr = select_model_svr.best_estimator_\n",
    "select_model_svr.best_params_"
   ]
  },
  {
   "cell_type": "code",
   "execution_count": null,
   "id": "b0f964a6",
   "metadata": {},
   "outputs": [],
   "source": [
    "svr_result = model_assess(model_svr,X_train,y_train,X_test,y_test)"
   ]
  },
  {
   "cell_type": "markdown",
   "id": "0bb0df03",
   "metadata": {},
   "source": [
    "# Decision Tree"
   ]
  },
  {
   "cell_type": "code",
   "execution_count": null,
   "id": "c22d4f71",
   "metadata": {},
   "outputs": [],
   "source": [
    "param_grid_tree = {'max_depth':[10,15,20,25,30], 'min_samples_split': [1,2,3,4], \n",
    " 'min_samples_leaf': [1,2,3,4,5], 'max_features': [50,100,150], 'max_leaf_nodes': [250,300,350,400,450,500]}\n",
    "\n",
    "tree = DecisionTreeRegressor(random_state=4011)\n",
    "select_model_tree = GridSearchCV(tree, param_grid_tree, n_jobs=-2, cv=5,\n",
    "scoring='neg_mean_squared_error',\n",
    "return_train_score=True)\n",
    "select_model_tree.fit(Xtrain, ytrain)\n",
    "\n",
    "model_tree_reg = select_model_tree.best_estimator_\n",
    "select_model_tree.best_params_"
   ]
  },
  {
   "cell_type": "code",
   "execution_count": null,
   "id": "9c852f43",
   "metadata": {},
   "outputs": [],
   "source": [
    "tree_reg_result = model_assess(model_tree_reg,X_train,y_train,X_test,y_test)"
   ]
  },
  {
   "cell_type": "markdown",
   "id": "dd34f3bb",
   "metadata": {},
   "source": [
    "# Random Forest"
   ]
  },
  {
   "cell_type": "code",
   "execution_count": null,
   "id": "f11bed92",
   "metadata": {},
   "outputs": [],
   "source": [
    "param_grid_rfr = {'n_estimators': [26,30, 32, 34,38,42], 'max_features': [50,100,200,300]},\n",
    "\n",
    "forest_reg = RandomForestRegressor(random_state=4011)\n",
    "select_model_rfr = GridSearchCV(forest_reg, param_grid_rfr, n_jobs=-2, cv=5,\n",
    "scoring='neg_mean_squared_error',\n",
    "return_train_score=True)\n",
    "select_model_rfr.fit(Xtrain, ytrain)\n",
    "\n",
    "model_rfr = select_model_rfr.best_estimator_\n",
    "select_model_rfr.best_params_"
   ]
  },
  {
   "cell_type": "code",
   "execution_count": null,
   "id": "37124beb",
   "metadata": {},
   "outputs": [],
   "source": [
    "rfr_result = model_assess(model_rfr,X_train,y_train,X_test,y_test)"
   ]
  },
  {
   "cell_type": "markdown",
   "id": "b3c6cbcf",
   "metadata": {},
   "source": [
    "# Save All Results"
   ]
  },
  {
   "cell_type": "code",
   "execution_count": 56,
   "id": "7bc3ae4e",
   "metadata": {},
   "outputs": [],
   "source": [
    "all_results=np.vstack([ols_result,lasso_result,ridge_result,elanet_result])"
   ]
  },
  {
   "cell_type": "code",
   "execution_count": 57,
   "id": "046a5b9e",
   "metadata": {},
   "outputs": [],
   "source": [
    "all_results=pd.DataFrame(all_results)\n",
    "all_results.columns=[\"train_R2\",\"test_R2\",\"train_RMSE\",\"test_RMSE\",\"train_MAE\",\"test_MAE\"]\n",
    "all_results.index=[\"ols\",\"lasso\",\"ridge\",\"elastic_net\"]"
   ]
  },
  {
   "cell_type": "code",
   "execution_count": 58,
   "id": "0ebdab63",
   "metadata": {
    "scrolled": true
   },
   "outputs": [
    {
     "data": {
      "text/html": [
       "<div>\n",
       "<style scoped>\n",
       "    .dataframe tbody tr th:only-of-type {\n",
       "        vertical-align: middle;\n",
       "    }\n",
       "\n",
       "    .dataframe tbody tr th {\n",
       "        vertical-align: top;\n",
       "    }\n",
       "\n",
       "    .dataframe thead th {\n",
       "        text-align: right;\n",
       "    }\n",
       "</style>\n",
       "<table border=\"1\" class=\"dataframe\">\n",
       "  <thead>\n",
       "    <tr style=\"text-align: right;\">\n",
       "      <th></th>\n",
       "      <th>train_R2</th>\n",
       "      <th>test_R2</th>\n",
       "      <th>train_RMSE</th>\n",
       "      <th>test_RMSE</th>\n",
       "      <th>train_MAE</th>\n",
       "      <th>test_MAE</th>\n",
       "    </tr>\n",
       "  </thead>\n",
       "  <tbody>\n",
       "    <tr>\n",
       "      <th>ols</th>\n",
       "      <td>0.792032</td>\n",
       "      <td>0.773265</td>\n",
       "      <td>19.4346</td>\n",
       "      <td>21.9289</td>\n",
       "      <td>12.0421</td>\n",
       "      <td>12.5958</td>\n",
       "    </tr>\n",
       "    <tr>\n",
       "      <th>lasso</th>\n",
       "      <td>0.792025</td>\n",
       "      <td>0.773246</td>\n",
       "      <td>19.4349</td>\n",
       "      <td>21.9298</td>\n",
       "      <td>12.0369</td>\n",
       "      <td>12.5899</td>\n",
       "    </tr>\n",
       "    <tr>\n",
       "      <th>ridge</th>\n",
       "      <td>0.791957</td>\n",
       "      <td>0.772686</td>\n",
       "      <td>19.4380</td>\n",
       "      <td>21.9569</td>\n",
       "      <td>12.0241</td>\n",
       "      <td>12.5830</td>\n",
       "    </tr>\n",
       "    <tr>\n",
       "      <th>elastic_net</th>\n",
       "      <td>0.792032</td>\n",
       "      <td>0.773264</td>\n",
       "      <td>19.4346</td>\n",
       "      <td>21.9289</td>\n",
       "      <td>12.0421</td>\n",
       "      <td>12.5958</td>\n",
       "    </tr>\n",
       "  </tbody>\n",
       "</table>\n",
       "</div>"
      ],
      "text/plain": [
       "             train_R2   test_R2  train_RMSE  test_RMSE  train_MAE  test_MAE\n",
       "ols          0.792032  0.773265     19.4346    21.9289    12.0421   12.5958\n",
       "lasso        0.792025  0.773246     19.4349    21.9298    12.0369   12.5899\n",
       "ridge        0.791957  0.772686     19.4380    21.9569    12.0241   12.5830\n",
       "elastic_net  0.792032  0.773264     19.4346    21.9289    12.0421   12.5958"
      ]
     },
     "execution_count": 58,
     "metadata": {},
     "output_type": "execute_result"
    }
   ],
   "source": [
    "all_results"
   ]
  },
  {
   "cell_type": "code",
   "execution_count": null,
   "id": "e4f567c4",
   "metadata": {},
   "outputs": [],
   "source": []
  }
 ],
 "metadata": {
  "kernelspec": {
   "display_name": "Python 3 (ipykernel)",
   "language": "python",
   "name": "python3"
  },
  "language_info": {
   "codemirror_mode": {
    "name": "ipython",
    "version": 3
   },
   "file_extension": ".py",
   "mimetype": "text/x-python",
   "name": "python",
   "nbconvert_exporter": "python",
   "pygments_lexer": "ipython3",
   "version": "3.9.7"
  }
 },
 "nbformat": 4,
 "nbformat_minor": 5
}
