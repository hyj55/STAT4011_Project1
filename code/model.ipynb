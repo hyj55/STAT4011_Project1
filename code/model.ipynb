{
 "cells": [
  {
   "cell_type": "code",
   "execution_count": 1,
   "id": "a99cb300",
   "metadata": {},
   "outputs": [],
   "source": [
    "#importing\n",
    "import numpy as np\n",
    "import pandas as pd\n",
    "import multiprocessing\n",
    "import math \n",
    "import xgboost as xgb\n",
    "from numpy import mean\n",
    "from statistics import variance\n",
    "from numpy import std\n",
    "from pandas import read_csv\n",
    "from sklearn.impute import KNNImputer\n",
    "from sklearn.model_selection import cross_val_score\n",
    "from sklearn.model_selection import KFold\n",
    "from sklearn.pipeline import Pipeline\n",
    "from sklearn.ensemble import RandomForestRegressor\n",
    "from sklearn.model_selection import train_test_split\n",
    "from sklearn.preprocessing import StandardScaler\n",
    "from sklearn.pipeline import Pipeline\n",
    "from sklearn.linear_model import LinearRegression\n",
    "from sklearn.linear_model import Ridge, RidgeCV, Lasso, LassoCV, ElasticNet, ElasticNetCV\n",
    "from sklearn.tree import DecisionTreeRegressor\n",
    "from sklearn.svm import SVR\n",
    "from sklearn.metrics import mean_squared_error\n",
    "from sklearn.metrics import mean_absolute_error as mae\n",
    "from sklearn.ensemble import RandomForestRegressor\n",
    "from sklearn.neighbors import KNeighborsRegressor\n",
    "from sklearn.model_selection import GridSearchCV\n",
    "from sklearn.ensemble import AdaBoostRegressor\n",
    "from sklearn.ensemble import GradientBoostingRegressor\n",
    "import warnings\n",
    "from matplotlib import pyplot as plt "
   ]
  },
  {
   "cell_type": "code",
   "execution_count": 2,
   "id": "0f9fb3e5",
   "metadata": {},
   "outputs": [],
   "source": [
    "#warnings.filterwarnings('ignore')"
   ]
  },
  {
   "cell_type": "code",
   "execution_count": 3,
   "id": "396e5ab1",
   "metadata": {},
   "outputs": [
    {
     "data": {
      "text/plain": [
       "8"
      ]
     },
     "execution_count": 3,
     "metadata": {},
     "output_type": "execute_result"
    }
   ],
   "source": [
    "multiprocessing.cpu_count()"
   ]
  },
  {
   "cell_type": "code",
   "execution_count": 4,
   "id": "74708e98",
   "metadata": {},
   "outputs": [],
   "source": [
    "data_wd = \"C:/Users/Lenovo/Desktop/git/STAT4011_Project1/data/Lianjia_transformed.csv\"\n",
    "df = pd.read_csv(data_wd)"
   ]
  },
  {
   "cell_type": "code",
   "execution_count": 5,
   "id": "d77e2f5e",
   "metadata": {},
   "outputs": [],
   "source": [
    "X = df.drop(columns=['log_price'])\n",
    "y = df['log_price']\n",
    "Xtrain,Xtest,ytrain,ytest=train_test_split(X,y,test_size=0.2,random_state=4011)"
   ]
  },
  {
   "cell_type": "markdown",
   "id": "40c6b619",
   "metadata": {},
   "source": [
    "# Define a model Assess Function"
   ]
  },
  {
   "cell_type": "code",
   "execution_count": 6,
   "id": "1e3e35a8",
   "metadata": {},
   "outputs": [],
   "source": [
    "def model_assess(tuned_model,X_train,y_train,X_test,y_test):\n",
    "    y_train_pred=tuned_model.predict(X_train)\n",
    "    y_test_pred=tuned_model.predict(X_test)\n",
    "    train_R2 = tuned_model.score(X_train, y_train)\n",
    "    test_R2 = tuned_model.score(X_test, y_test)\n",
    "    train_RMSE=round(math.sqrt(mean_squared_error(y_train_pred,y_train)),4)\n",
    "    test_RMSE=round(math.sqrt(mean_squared_error(y_test_pred,y_test)),4)\n",
    "    train_MAE=round(mae(y_train_pred,ytrain),4)\n",
    "    test_MAE=round(mae(y_test_pred,ytest),4)\n",
    "    return([train_R2,test_R2,train_RMSE,test_RMSE,train_MAE,test_MAE])"
   ]
  },
  {
   "cell_type": "markdown",
   "id": "8b0efe32",
   "metadata": {},
   "source": [
    "# OLS"
   ]
  },
  {
   "cell_type": "code",
   "execution_count": 7,
   "id": "b26536ef",
   "metadata": {},
   "outputs": [],
   "source": [
    "model_ols = LinearRegression().fit(Xtrain, ytrain)"
   ]
  },
  {
   "cell_type": "code",
   "execution_count": 8,
   "id": "03954457",
   "metadata": {},
   "outputs": [
    {
     "data": {
      "text/plain": [
       "[0.8515848973043461, 0.8450110488717427, 0.2476, 0.2557, 0.1886, 0.1948]"
      ]
     },
     "execution_count": 8,
     "metadata": {},
     "output_type": "execute_result"
    }
   ],
   "source": [
    "ols_result=model_assess(model_ols,Xtrain,ytrain,Xtest,ytest)\n",
    "ols_result"
   ]
  },
  {
   "cell_type": "markdown",
   "id": "3832e536",
   "metadata": {},
   "source": [
    "# LASSO"
   ]
  },
  {
   "cell_type": "code",
   "execution_count": 19,
   "id": "734c741d",
   "metadata": {},
   "outputs": [
    {
     "name": "stderr",
     "output_type": "stream",
     "text": [
      "D:\\anoconda\\lib\\site-packages\\sklearn\\linear_model\\_coordinate_descent.py:526: ConvergenceWarning: Objective did not converge. You might want to increase the number of iterations. Duality gap: 68.66933355171693, tolerance: 56.194184499224434\n",
      "  model = cd_fast.enet_coordinate_descent_gram(\n",
      "D:\\anoconda\\lib\\site-packages\\sklearn\\linear_model\\_coordinate_descent.py:526: ConvergenceWarning: Objective did not converge. You might want to increase the number of iterations. Duality gap: 97.9156282179058, tolerance: 56.194184499224434\n",
      "  model = cd_fast.enet_coordinate_descent_gram(\n",
      "D:\\anoconda\\lib\\site-packages\\sklearn\\linear_model\\_coordinate_descent.py:526: ConvergenceWarning: Objective did not converge. You might want to increase the number of iterations. Duality gap: 111.30889008953238, tolerance: 56.194184499224434\n",
      "  model = cd_fast.enet_coordinate_descent_gram(\n",
      "D:\\anoconda\\lib\\site-packages\\sklearn\\linear_model\\_coordinate_descent.py:526: ConvergenceWarning: Objective did not converge. You might want to increase the number of iterations. Duality gap: 139.9589719202731, tolerance: 56.194184499224434\n",
      "  model = cd_fast.enet_coordinate_descent_gram(\n",
      "D:\\anoconda\\lib\\site-packages\\sklearn\\linear_model\\_coordinate_descent.py:526: ConvergenceWarning: Objective did not converge. You might want to increase the number of iterations. Duality gap: 141.99519655740505, tolerance: 56.194184499224434\n",
      "  model = cd_fast.enet_coordinate_descent_gram(\n",
      "D:\\anoconda\\lib\\site-packages\\sklearn\\linear_model\\_coordinate_descent.py:526: ConvergenceWarning: Objective did not converge. You might want to increase the number of iterations. Duality gap: 170.67581393812713, tolerance: 56.194184499224434\n",
      "  model = cd_fast.enet_coordinate_descent_gram(\n",
      "D:\\anoconda\\lib\\site-packages\\sklearn\\linear_model\\_coordinate_descent.py:526: ConvergenceWarning: Objective did not converge. You might want to increase the number of iterations. Duality gap: 196.4684413792748, tolerance: 56.194184499224434\n",
      "  model = cd_fast.enet_coordinate_descent_gram(\n",
      "D:\\anoconda\\lib\\site-packages\\sklearn\\linear_model\\_coordinate_descent.py:526: ConvergenceWarning: Objective did not converge. You might want to increase the number of iterations. Duality gap: 219.51127766312328, tolerance: 56.194184499224434\n",
      "  model = cd_fast.enet_coordinate_descent_gram(\n",
      "D:\\anoconda\\lib\\site-packages\\sklearn\\linear_model\\_coordinate_descent.py:526: ConvergenceWarning: Objective did not converge. You might want to increase the number of iterations. Duality gap: 240.04740652811427, tolerance: 56.194184499224434\n",
      "  model = cd_fast.enet_coordinate_descent_gram(\n",
      "D:\\anoconda\\lib\\site-packages\\sklearn\\linear_model\\_coordinate_descent.py:526: ConvergenceWarning: Objective did not converge. You might want to increase the number of iterations. Duality gap: 258.33858595163036, tolerance: 56.194184499224434\n",
      "  model = cd_fast.enet_coordinate_descent_gram(\n",
      "D:\\anoconda\\lib\\site-packages\\sklearn\\linear_model\\_coordinate_descent.py:526: ConvergenceWarning: Objective did not converge. You might want to increase the number of iterations. Duality gap: 274.6369715235145, tolerance: 56.194184499224434\n",
      "  model = cd_fast.enet_coordinate_descent_gram(\n",
      "D:\\anoconda\\lib\\site-packages\\sklearn\\linear_model\\_coordinate_descent.py:526: ConvergenceWarning: Objective did not converge. You might want to increase the number of iterations. Duality gap: 289.1736899973109, tolerance: 56.194184499224434\n",
      "  model = cd_fast.enet_coordinate_descent_gram(\n",
      "D:\\anoconda\\lib\\site-packages\\sklearn\\linear_model\\_coordinate_descent.py:526: ConvergenceWarning: Objective did not converge. You might want to increase the number of iterations. Duality gap: 302.1553638891274, tolerance: 56.194184499224434\n",
      "  model = cd_fast.enet_coordinate_descent_gram(\n",
      "D:\\anoconda\\lib\\site-packages\\sklearn\\linear_model\\_coordinate_descent.py:526: ConvergenceWarning: Objective did not converge. You might want to increase the number of iterations. Duality gap: 313.7643143363432, tolerance: 56.194184499224434\n",
      "  model = cd_fast.enet_coordinate_descent_gram(\n",
      "D:\\anoconda\\lib\\site-packages\\sklearn\\linear_model\\_coordinate_descent.py:526: ConvergenceWarning: Objective did not converge. You might want to increase the number of iterations. Duality gap: 324.16035429569973, tolerance: 56.194184499224434\n",
      "  model = cd_fast.enet_coordinate_descent_gram(\n",
      "D:\\anoconda\\lib\\site-packages\\sklearn\\linear_model\\_coordinate_descent.py:526: ConvergenceWarning: Objective did not converge. You might want to increase the number of iterations. Duality gap: 333.4831515677505, tolerance: 56.194184499224434\n",
      "  model = cd_fast.enet_coordinate_descent_gram(\n",
      "D:\\anoconda\\lib\\site-packages\\sklearn\\linear_model\\_coordinate_descent.py:526: ConvergenceWarning: Objective did not converge. You might want to increase the number of iterations. Duality gap: 341.8546718827474, tolerance: 56.194184499224434\n",
      "  model = cd_fast.enet_coordinate_descent_gram(\n",
      "D:\\anoconda\\lib\\site-packages\\sklearn\\linear_model\\_coordinate_descent.py:526: ConvergenceWarning: Objective did not converge. You might want to increase the number of iterations. Duality gap: 349.3814796455728, tolerance: 56.194184499224434\n",
      "  model = cd_fast.enet_coordinate_descent_gram(\n",
      "D:\\anoconda\\lib\\site-packages\\sklearn\\linear_model\\_coordinate_descent.py:526: ConvergenceWarning: Objective did not converge. You might want to increase the number of iterations. Duality gap: 356.1568076439989, tolerance: 56.194184499224434\n",
      "  model = cd_fast.enet_coordinate_descent_gram(\n",
      "D:\\anoconda\\lib\\site-packages\\sklearn\\linear_model\\_coordinate_descent.py:526: ConvergenceWarning: Objective did not converge. You might want to increase the number of iterations. Duality gap: 362.26237342770605, tolerance: 56.194184499224434\n",
      "  model = cd_fast.enet_coordinate_descent_gram(\n",
      "D:\\anoconda\\lib\\site-packages\\sklearn\\linear_model\\_coordinate_descent.py:526: ConvergenceWarning: Objective did not converge. You might want to increase the number of iterations. Duality gap: 367.76995139204877, tolerance: 56.194184499224434\n",
      "  model = cd_fast.enet_coordinate_descent_gram(\n",
      "D:\\anoconda\\lib\\site-packages\\sklearn\\linear_model\\_coordinate_descent.py:526: ConvergenceWarning: Objective did not converge. You might want to increase the number of iterations. Duality gap: 372.7427228431163, tolerance: 56.194184499224434\n",
      "  model = cd_fast.enet_coordinate_descent_gram(\n",
      "D:\\anoconda\\lib\\site-packages\\sklearn\\linear_model\\_coordinate_descent.py:526: ConvergenceWarning: Objective did not converge. You might want to increase the number of iterations. Duality gap: 377.23643086432344, tolerance: 56.194184499224434\n",
      "  model = cd_fast.enet_coordinate_descent_gram(\n",
      "D:\\anoconda\\lib\\site-packages\\sklearn\\linear_model\\_coordinate_descent.py:526: ConvergenceWarning: Objective did not converge. You might want to increase the number of iterations. Duality gap: 381.3003666391612, tolerance: 56.194184499224434\n",
      "  model = cd_fast.enet_coordinate_descent_gram(\n",
      "D:\\anoconda\\lib\\site-packages\\sklearn\\linear_model\\_coordinate_descent.py:526: ConvergenceWarning: Objective did not converge. You might want to increase the number of iterations. Duality gap: 384.97821178597997, tolerance: 56.194184499224434\n",
      "  model = cd_fast.enet_coordinate_descent_gram(\n",
      "D:\\anoconda\\lib\\site-packages\\sklearn\\linear_model\\_coordinate_descent.py:526: ConvergenceWarning: Objective did not converge. You might want to increase the number of iterations. Duality gap: 388.308758432246, tolerance: 56.194184499224434\n",
      "  model = cd_fast.enet_coordinate_descent_gram(\n",
      "D:\\anoconda\\lib\\site-packages\\sklearn\\linear_model\\_coordinate_descent.py:526: ConvergenceWarning: Objective did not converge. You might want to increase the number of iterations. Duality gap: 391.3265258867498, tolerance: 56.194184499224434\n",
      "  model = cd_fast.enet_coordinate_descent_gram(\n",
      "D:\\anoconda\\lib\\site-packages\\sklearn\\linear_model\\_coordinate_descent.py:526: ConvergenceWarning: Objective did not converge. You might want to increase the number of iterations. Duality gap: 394.0622897974691, tolerance: 56.194184499224434\n",
      "  model = cd_fast.enet_coordinate_descent_gram(\n",
      "D:\\anoconda\\lib\\site-packages\\sklearn\\linear_model\\_coordinate_descent.py:526: ConvergenceWarning: Objective did not converge. You might want to increase the number of iterations. Duality gap: 396.5435374412864, tolerance: 56.194184499224434\n",
      "  model = cd_fast.enet_coordinate_descent_gram(\n",
      "D:\\anoconda\\lib\\site-packages\\sklearn\\linear_model\\_coordinate_descent.py:526: ConvergenceWarning: Objective did not converge. You might want to increase the number of iterations. Duality gap: 398.7948604068499, tolerance: 56.194184499224434\n",
      "  model = cd_fast.enet_coordinate_descent_gram(\n"
     ]
    }
   ],
   "source": [
    "# step 1: examine the model\n",
    "model_lasso = LassoCV(cv=5, random_state=4011,n_jobs=-1,alphas=np.logspace(-6,-2,100),tol=1e-2).fit(Xtrain, ytrain)"
   ]
  },
  {
   "cell_type": "code",
   "execution_count": 20,
   "id": "f5bc1f6b",
   "metadata": {},
   "outputs": [
    {
     "data": {
      "text/plain": [
       "8.697490026177834e-05"
      ]
     },
     "execution_count": 20,
     "metadata": {},
     "output_type": "execute_result"
    }
   ],
   "source": [
    "# step 2: examine if the selected hyperparameter lies within boundary\n",
    "model_lasso.alpha_ "
   ]
  },
  {
   "cell_type": "code",
   "execution_count": 22,
   "id": "e7e3c803",
   "metadata": {},
   "outputs": [
    {
     "data": {
      "text/plain": [
       "[0.8515496590410763, 0.845461681579183, 0.2476, 0.2554, 0.1886, 0.1946]"
      ]
     },
     "execution_count": 22,
     "metadata": {},
     "output_type": "execute_result"
    }
   ],
   "source": [
    "# step 3: model assessment\n",
    "lasso_result=model_assess(model_lasso,Xtrain,ytrain,Xtest,ytest)\n",
    "lasso_result"
   ]
  },
  {
   "cell_type": "code",
   "execution_count": 23,
   "id": "c8cdc385",
   "metadata": {},
   "outputs": [
    {
     "name": "stdout",
     "output_type": "stream",
     "text": [
      "[(0.05538488221552098, 'total_floor'), (0.19784543427314297, 'area_size'), (0.06789003605170016, 'elevator'), (-0.004068966423095404, 'date_on_market'), (0.016878724161455576, 'last_transact_date'), (0.13176155022012445, 'bedrm_no'), (0.07905246048693856, 'parlour_no'), (-0.002574858887588115, 'kitchen_no'), (0.016279836217348034, 'toilet_no'), (-0.02613347145478699, 'stair'), (-0.042332652051492815, 'unit'), (0.049273451586230727, 'proportion'), (0.00821732447318167, 'mid_floor'), (-0.010174311626758286, 'higher_floor'), (-0.0053926815354830805, 'duplex_config'), (0.015251690042437451, 'levelling_config'), (0.006069259565467733, 'split_level_config'), (-0.0032505010221855735, 'diepin'), (-0.028528268303208183, 'talou'), (0.001827174144784119, 'pingfang'), (0.002427627621082817, 'bantajiehe'), (0.0, 'banlou'), (-0.0032846031928113906, 'dudong'), (-0.0054430528459324225, 'lianpai'), (0.03436235534476601, 'south'), (0.007386113533724957, 'west'), (-0.0009623971759129498, 'north'), (0.0029336787254625133, 'northeast'), (0.01352590743765415, 'southeast'), (-0.00165248653669297, 'northwest'), (0.00623821641355479, 'southwest'), (0.00888575689422966, 'frame_struct'), (0.00875417473216691, 'mixed_struct'), (-0.005387570970556676, 'brickwood_struct'), (0.0027594916556414814, 'brickmix_struct'), (0.05438120110807893, 'steelmix_struct'), (-0.0030249964224600976, 'steel_struct'), (-0.031686963159774886, 'maopei'), (-0.017819645009659636, 'jianzhuang'), (0.005735772081930739, 'jingzhuang'), (0.007798881320115408, 'public_housing'), (0.018789087085156763, 'commercial_housing'), (-0.18003026091150534, 'office'), (-0.008718357508682975, 'n_linong'), (0.0015050584200825008, 'o_linong'), (-0.08136847769954346, 'residential'), (-0.008164382426706923, 'apartment'), (-0.0004317265686128304, 'garden_house'), (-0.005387956145455318, 'beyong_two'), (0.0051188061248237755, 'beyond_five'), (0.00430843847776618, 'shared'), (-0.004285710444146879, 'uploaded'), (0.13385007942323487, 'central_outer'), (0.23374217655050966, 'inner'), (0.1923208968247514, 'inner_central'), (-0.0006751254768386292, 'after_work'), (-0.00038511944726160304, 'call_agent'), (0.008422910386513915, 'only_weekend'), (-0.0050776332702064594, 'reservation'), (-0.02530513341465184, 'baoshan'), (0.012760420899399407, 'changning'), (-0.12305921296027567, 'chongming'), (-0.11075647423908067, 'fengxian'), (-0.008100025756699394, 'hongkou'), (0.032781736248256525, 'huangpu'), (-0.059637444072799944, 'jiading'), (0.01981048130926277, 'jingan'), (-0.13673113426034622, 'jinshan'), (0.07135794368876842, 'minhang'), (-0.025213058383377, 'pudong'), (-0.0161944073893777, 'putuo'), (-0.033362376447505636, 'qingpu'), (-0.032246761704741195, 'songjiang'), (0.05404066404893537, 'xuhui')]\n"
     ]
    }
   ],
   "source": [
    "# step 4: examine if coefficients are shrinked towards 0; this is only for lasso and ridge\n",
    "print(list(zip(model_lasso.coef_, X))) "
   ]
  },
  {
   "cell_type": "markdown",
   "id": "2de6ac24",
   "metadata": {},
   "source": [
    "# RIDGE"
   ]
  },
  {
   "cell_type": "code",
   "execution_count": 24,
   "id": "21ca7737",
   "metadata": {},
   "outputs": [
    {
     "data": {
      "text/plain": [
       "13.848863713938732"
      ]
     },
     "execution_count": 24,
     "metadata": {},
     "output_type": "execute_result"
    }
   ],
   "source": [
    "model_ridge = RidgeCV(cv=5,alphas=np.logspace(-1,3,100)).fit(Xtrain, ytrain)\n",
    "model_ridge.alpha_ "
   ]
  },
  {
   "cell_type": "code",
   "execution_count": 25,
   "id": "5c7a36a7",
   "metadata": {},
   "outputs": [
    {
     "data": {
      "text/plain": [
       "[0.8515641106189493, 0.8453860346805724, 0.2476, 0.2554, 0.1886, 0.1946]"
      ]
     },
     "execution_count": 25,
     "metadata": {},
     "output_type": "execute_result"
    }
   ],
   "source": [
    "ridge_result=model_assess(model_ridge,Xtrain,ytrain,Xtest,ytest)\n",
    "ridge_result"
   ]
  },
  {
   "cell_type": "code",
   "execution_count": 26,
   "id": "841cb990",
   "metadata": {},
   "outputs": [
    {
     "name": "stdout",
     "output_type": "stream",
     "text": [
      "[(0.05560010679962209, 'total_floor'), (0.19745691966038373, 'area_size'), (0.06808280045903752, 'elevator'), (-0.00415414503660781, 'date_on_market'), (0.016969308770858137, 'last_transact_date'), (0.13178890993096612, 'bedrm_no'), (0.07908026122138863, 'parlour_no'), (-0.0026650381445148977, 'kitchen_no'), (0.016538445511905208, 'toilet_no'), (-0.026520186065110786, 'stair'), (-0.04234774593683582, 'unit'), (0.04949553610158656, 'proportion'), (0.00825837735676061, 'mid_floor'), (-0.010223838055979904, 'higher_floor'), (-0.005346781258118472, 'duplex_config'), (0.015431795276353244, 'levelling_config'), (0.006183454357011369, 'split_level_config'), (-0.0025641145197406005, 'diepin'), (-0.009080292875956427, 'talou'), (0.0037769251937985445, 'pingfang'), (0.011035087086888233, 'bantajiehe'), (0.021083235414099514, 'banlou'), (-0.0023795862667939263, 'dudong'), (-0.004371977954584201, 'lianpai'), (0.03459380408854662, 'south'), (0.007555174528033008, 'west'), (-0.0010059295783471716, 'north'), (0.0030757444832996855, 'northeast'), (0.01369386916458387, 'southeast'), (-0.0016970592072550548, 'northwest'), (0.0064014966346076915, 'southwest'), (0.009237487429462976, 'frame_struct'), (0.009563968226258088, 'mixed_struct'), (-0.005351746960923045, 'brickwood_struct'), (0.006147182397103045, 'brickmix_struct'), (0.05759179389174574, 'steelmix_struct'), (-0.0030653605418390546, 'steel_struct'), (-0.03181844827577076, 'maopei'), (-0.018055572032124045, 'jianzhuang'), (0.005596095582864962, 'jingzhuang'), (0.007935509643041122, 'public_housing'), (0.01886957192959095, 'commercial_housing'), (-0.1878467364232471, 'office'), (-0.00987869422246671, 'n_linong'), (0.0013698702755975858, 'o_linong'), (-0.08981892976793708, 'residential'), (-0.009016884280669104, 'apartment'), (-0.0009047366087408306, 'garden_house'), (-0.005441055787904022, 'beyong_two'), (0.005112108360637064, 'beyond_five'), (0.00439422055095438, 'shared'), (-0.0043941136321244, 'uploaded'), (0.1334475343448385, 'central_outer'), (0.2331202772903238, 'inner'), (0.19175379390636105, 'inner_central'), (-0.0008505888494186659, 'after_work'), (-0.0004897469443628104, 'call_agent'), (0.00843191699222886, 'only_weekend'), (-0.005246318160793344, 'reservation'), (-0.025668609256924102, 'baoshan'), (0.01274692431152776, 'changning'), (-0.12306306277346805, 'chongming'), (-0.11097573885236904, 'fengxian'), (-0.008203102822228144, 'hongkou'), (0.032809759668482014, 'huangpu'), (-0.06004635760690698, 'jiading'), (0.01980742037756679, 'jingan'), (-0.13690711649453782, 'jinshan'), (0.07092454344295708, 'minhang'), (-0.025534377913721536, 'pudong'), (-0.016377099200181863, 'putuo'), (-0.033647686929055266, 'qingpu'), (-0.032704538659217144, 'songjiang'), (0.05398972125774361, 'xuhui')]\n"
     ]
    }
   ],
   "source": [
    "#examine if coefficients are shrinked \n",
    "print(list(zip(model_ridge.coef_, X))) "
   ]
  },
  {
   "cell_type": "markdown",
   "id": "e7567477",
   "metadata": {},
   "source": [
    "# Elastic Net"
   ]
  },
  {
   "cell_type": "code",
   "execution_count": 35,
   "id": "30abaceb",
   "metadata": {},
   "outputs": [],
   "source": [
    "model_elanet = ElasticNetCV(cv=5,l1_ratio=[0.5,0.7,0.8,0.9,0.95,1],alphas=np.logspace(-20,0,20),n_jobs=-1,tol=1e-1,max_iter=1e5).fit(Xtrain, ytrain)"
   ]
  },
  {
   "cell_type": "code",
   "execution_count": 36,
   "id": "a5cbf4f9",
   "metadata": {},
   "outputs": [
    {
     "data": {
      "text/plain": [
       "1e-20"
      ]
     },
     "execution_count": 36,
     "metadata": {},
     "output_type": "execute_result"
    }
   ],
   "source": [
    "model_elanet.alpha_"
   ]
  },
  {
   "cell_type": "code",
   "execution_count": 37,
   "id": "b8b1e0e8",
   "metadata": {},
   "outputs": [
    {
     "data": {
      "text/plain": [
       "0.7"
      ]
     },
     "execution_count": 37,
     "metadata": {},
     "output_type": "execute_result"
    }
   ],
   "source": [
    "model_elanet.l1_ratio_ "
   ]
  },
  {
   "cell_type": "code",
   "execution_count": 39,
   "id": "047ff1a7",
   "metadata": {},
   "outputs": [
    {
     "data": {
      "text/plain": [
       "[0.8453872950500356, 0.8364816350999308, 0.2527, 0.2627, 0.1891, 0.1962]"
      ]
     },
     "execution_count": 39,
     "metadata": {},
     "output_type": "execute_result"
    }
   ],
   "source": [
    "elanet_result=model_assess(model_elanet,Xtrain,ytrain,Xtest,ytest)\n",
    "elanet_result"
   ]
  },
  {
   "cell_type": "markdown",
   "id": "2485d743",
   "metadata": {},
   "source": [
    "# KNN Regression"
   ]
  },
  {
   "cell_type": "code",
   "execution_count": 40,
   "id": "4edaeb9c",
   "metadata": {},
   "outputs": [
    {
     "name": "stderr",
     "output_type": "stream",
     "text": [
      "D:\\anoconda\\lib\\site-packages\\sklearn\\model_selection\\_search.py:922: UserWarning: One or more of the test scores are non-finite: [-0.1352965        nan        nan        nan        nan        nan\n",
      "        nan        nan]\n",
      "  warnings.warn(\n",
      "D:\\anoconda\\lib\\site-packages\\sklearn\\model_selection\\_search.py:922: UserWarning: One or more of the train scores are non-finite: [nan nan nan nan nan nan nan nan]\n",
      "  warnings.warn(\n"
     ]
    },
    {
     "data": {
      "text/plain": [
       "{'n_neighbors': 1, 'weights': 'uniform'}"
      ]
     },
     "execution_count": 40,
     "metadata": {},
     "output_type": "execute_result"
    }
   ],
   "source": [
    "param_grid_knr = {'n_neighbors': [1,2,3,4], }\n",
    "\n",
    "select_model_knr = GridSearchCV(KNeighborsRegressor(),param_grid_knr, n_jobs=-1, cv=5, \n",
    "                                scoring='neg_mean_squared_error', return_train_score=True)\n",
    "select_model_knr.fit(Xtrain, ytrain)\n",
    "model_knr = select_model_knr.best_estimator_\n",
    "select_model_knr.best_params_"
   ]
  },
  {
   "cell_type": "code",
   "execution_count": 42,
   "id": "5a39c5f4",
   "metadata": {},
   "outputs": [
    {
     "data": {
      "text/plain": [
       "[1.0, 0.6776991772158203, 0.0, 0.3688, 0.0, 0.2722]"
      ]
     },
     "execution_count": 42,
     "metadata": {},
     "output_type": "execute_result"
    }
   ],
   "source": [
    "knr_result = model_assess(model_knr, Xtrain,ytrain,Xtest,ytest)\n",
    "knr_result"
   ]
  },
  {
   "cell_type": "markdown",
   "id": "c90908f2",
   "metadata": {},
   "source": [
    "# SVR"
   ]
  },
  {
   "cell_type": "code",
   "execution_count": 43,
   "id": "5d631623",
   "metadata": {},
   "outputs": [
    {
     "data": {
      "text/plain": [
       "{'kernel': 'rbf'}"
      ]
     },
     "execution_count": 43,
     "metadata": {},
     "output_type": "execute_result"
    }
   ],
   "source": [
    "param_grid_svr = [\n",
    "    {'kernel': [\"linear\",\"poly\",\"rbf\",\"sigmoid\"]}]\n",
    "\n",
    "select_model_svr = GridSearchCV(SVR(),param_grid_svr, n_jobs=-1, cv=5,scoring='neg_mean_squared_error',\n",
    "return_train_score=True)\n",
    "select_model_svr.fit(Xtrain, ytrain)\n",
    "\n",
    "model_svr = select_model_svr.best_estimator_\n",
    "select_model_svr.best_params_"
   ]
  },
  {
   "cell_type": "code",
   "execution_count": 44,
   "id": "b0f964a6",
   "metadata": {},
   "outputs": [
    {
     "data": {
      "text/plain": [
       "[0.9429281219792197, 0.8887957510582891, 0.1535, 0.2166, 0.1134, 0.1541]"
      ]
     },
     "execution_count": 44,
     "metadata": {},
     "output_type": "execute_result"
    }
   ],
   "source": [
    "svr_result= model_assess(model_svr,Xtrain,ytrain,Xtest,ytest)\n",
    "svr_result "
   ]
  },
  {
   "cell_type": "markdown",
   "id": "0bb0df03",
   "metadata": {},
   "source": [
    "# Decision Tree"
   ]
  },
  {
   "cell_type": "code",
   "execution_count": 49,
   "id": "c22d4f71",
   "metadata": {},
   "outputs": [
    {
     "name": "stderr",
     "output_type": "stream",
     "text": [
      "D:\\anoconda\\lib\\site-packages\\sklearn\\model_selection\\_search.py:922: UserWarning: One or more of the test scores are non-finite: [        nan -0.05342095 -0.05342095 ...         nan         nan\n",
      "         nan]\n",
      "  warnings.warn(\n",
      "D:\\anoconda\\lib\\site-packages\\sklearn\\model_selection\\_search.py:922: UserWarning: One or more of the train scores are non-finite: [        nan -0.03554349 -0.03554349 ...         nan         nan\n",
      "         nan]\n",
      "  warnings.warn(\n"
     ]
    },
    {
     "data": {
      "text/plain": [
       "{'max_depth': 30,\n",
       " 'max_features': 70,\n",
       " 'max_leaf_nodes': 450,\n",
       " 'min_samples_leaf': 4,\n",
       " 'min_samples_split': 2}"
      ]
     },
     "execution_count": 49,
     "metadata": {},
     "output_type": "execute_result"
    }
   ],
   "source": [
    "param_grid_tree = {'max_depth':[25,30,35,40],'max_features': [60,70,80,90],'max_leaf_nodes': [350,400,450,500],\n",
    "                   'min_samples_leaf': [3,4,5,6],'min_samples_split': [1,2,3,4]}\n",
    "\n",
    "tree = DecisionTreeRegressor(random_state=4011)\n",
    "select_model_tree = GridSearchCV(tree, param_grid_tree, n_jobs=-1, cv=5,\n",
    "scoring='neg_mean_squared_error',\n",
    "return_train_score=True).fit(Xtrain, ytrain)\n",
    "\n",
    "model_tree_reg = select_model_tree.best_estimator_\n",
    "select_model_tree.best_params_"
   ]
  },
  {
   "cell_type": "code",
   "execution_count": 50,
   "id": "2dc709cc",
   "metadata": {},
   "outputs": [
    {
     "data": {
      "text/plain": [
       "[0.9205641456691595, 0.8740980093213135, 0.1811, 0.2305, 0.137, 0.1679]"
      ]
     },
     "execution_count": 50,
     "metadata": {},
     "output_type": "execute_result"
    }
   ],
   "source": [
    "tree_reg_result = model_assess(model_tree_reg,Xtrain,ytrain,Xtest,ytest)\n",
    "tree_reg_result"
   ]
  },
  {
   "cell_type": "markdown",
   "id": "dd34f3bb",
   "metadata": {},
   "source": [
    "# Random Forest"
   ]
  },
  {
   "cell_type": "code",
   "execution_count": 71,
   "id": "f11bed92",
   "metadata": {},
   "outputs": [
    {
     "data": {
      "text/plain": [
       "{'max_features': 30, 'n_estimators': 104}"
      ]
     },
     "execution_count": 71,
     "metadata": {},
     "output_type": "execute_result"
    }
   ],
   "source": [
    "param_grid_rfr = {'max_features': [10,20,30,40],'n_estimators': [96,100,104,108]}\n",
    "\n",
    "forest_reg = RandomForestRegressor(random_state=4011,max_depth=30)\n",
    "select_model_rfr = GridSearchCV(forest_reg, param_grid_rfr, n_jobs=-1, cv=5,\n",
    "scoring='neg_mean_squared_error',\n",
    "return_train_score=True).fit(Xtrain, ytrain)\n",
    "\n",
    "model_rfr = select_model_rfr.best_estimator_\n",
    "select_model_rfr.best_params_"
   ]
  },
  {
   "cell_type": "code",
   "execution_count": 72,
   "id": "37631f5a",
   "metadata": {},
   "outputs": [
    {
     "data": {
      "text/plain": [
       "[0.9892311806787124, 0.9172077472794686, 0.0667, 0.1869, 0.0485, 0.1344]"
      ]
     },
     "execution_count": 72,
     "metadata": {},
     "output_type": "execute_result"
    }
   ],
   "source": [
    "rfr_result = model_assess(model_rfr,Xtrain,ytrain,Xtest,ytest)\n",
    "rfr_result"
   ]
  },
  {
   "cell_type": "code",
   "execution_count": 73,
   "id": "51b365de",
   "metadata": {},
   "outputs": [
    {
     "data": {
      "image/png": "[encoded data removed]",
      "text/plain": [
       "<Figure size 432x288 with 1 Axes>"
      ]
     },
     "metadata": {
      "needs_background": "light"
     },
     "output_type": "display_data"
    }
   ],
   "source": [
    "sort = model_rfr.feature_importances_.argsort()\n",
    "feature_importance_sorted = model_rfr.feature_importances_[sort]\n",
    "feature_sorted = X.columns[sort]\n",
    "plt.barh(feature_sorted[60:74], feature_importance_sorted[60:74])\n",
    "plt.xlabel(\"Feature Importance\")\n",
    "plt.savefig(\"C:/Users/Lenovo/Desktop/git/STAT4011_Project1/figures/rfr.jpg\")"
   ]
  },
  {
   "cell_type": "markdown",
   "id": "11c7dc0e",
   "metadata": {},
   "source": [
    "# Tree with AdaBoost"
   ]
  },
  {
   "cell_type": "code",
   "execution_count": 98,
   "id": "0faa82ff",
   "metadata": {},
   "outputs": [],
   "source": [
    "param_grid_ada = [\n",
    "    {'learning_rate': np.logspace(-1,1,10),'n_estimators': [220,230,240,250]}\n",
    "]"
   ]
  },
  {
   "cell_type": "code",
   "execution_count": 99,
   "id": "4f9048c7",
   "metadata": {},
   "outputs": [
    {
     "data": {
      "text/plain": [
       "{'learning_rate': 1.291549665014884, 'n_estimators': 230}"
      ]
     },
     "execution_count": 99,
     "metadata": {},
     "output_type": "execute_result"
    }
   ],
   "source": [
    "ada_reg=AdaBoostRegressor(base_estimator=DecisionTreeRegressor(max_depth=30),random_state=4011)\n",
    "\n",
    "select_model_ada = GridSearchCV(ada_reg, param_grid_ada, n_jobs=-1, cv=5,\n",
    "scoring='neg_mean_squared_error',\n",
    "return_train_score=True).fit(Xtrain, ytrain)\n",
    "\n",
    "model_ada = select_model_ada.best_estimator_\n",
    "select_model_ada.best_params_"
   ]
  },
  {
   "cell_type": "code",
   "execution_count": 102,
   "id": "226b7caa",
   "metadata": {},
   "outputs": [
    {
     "data": {
      "text/plain": [
       "[0.9997645263617043, 0.9189074718069157, 0.0099, 0.185, 0.0028, 0.1271]"
      ]
     },
     "execution_count": 102,
     "metadata": {},
     "output_type": "execute_result"
    }
   ],
   "source": [
    "ada_result = model_assess(model_ada,Xtrain,ytrain,Xtest,ytest)\n",
    "ada_result"
   ]
  },
  {
   "cell_type": "code",
   "execution_count": 103,
   "id": "0d0a994e",
   "metadata": {},
   "outputs": [
    {
     "data": {
      "image/png": "[encoded data removed]",
      "text/plain": [
       "<Figure size 432x288 with 1 Axes>"
      ]
     },
     "metadata": {
      "needs_background": "light"
     },
     "output_type": "display_data"
    }
   ],
   "source": [
    "sort = model_ada.feature_importances_.argsort()\n",
    "feature_importance_sorted = model_ada.feature_importances_[sort]\n",
    "feature_sorted = X.columns[sort]\n",
    "plt.barh(feature_sorted[60:74], feature_importance_sorted[60:74])\n",
    "plt.xlabel(\"Feature Importance\")\n",
    "plt.savefig(\"C:/Users/Lenovo/Desktop/git/STAT4011_Project1/figures/ada.jpg\")"
   ]
  },
  {
   "cell_type": "markdown",
   "id": "ebc4300c",
   "metadata": {},
   "source": [
    "# Tree with Gradient boosting"
   ]
  },
  {
   "cell_type": "code",
   "execution_count": 115,
   "id": "a93c2c98",
   "metadata": {},
   "outputs": [],
   "source": [
    "param_grid_gb = [\n",
    "    {'learning_rate':np.logspace(-2,0,10),'n_estimators':[150,160,170,180]}\n",
    "]"
   ]
  },
  {
   "cell_type": "code",
   "execution_count": 116,
   "id": "779aea46",
   "metadata": {},
   "outputs": [
    {
     "data": {
      "text/plain": [
       "{'learning_rate': 0.016681005372000592, 'n_estimators': 160}"
      ]
     },
     "execution_count": 116,
     "metadata": {},
     "output_type": "execute_result"
    }
   ],
   "source": [
    "GB_reg=GradientBoostingRegressor(max_depth=30)\n",
    "\n",
    "select_model_GB = GridSearchCV(GB_reg, param_grid_gb, n_jobs=-1, cv=5,\n",
    "scoring='neg_mean_squared_error',\n",
    "return_train_score=True).fit(Xtrain, ytrain)\n",
    "\n",
    "model_GB = select_model_GB.best_estimator_\n",
    "select_model_GB.best_params_"
   ]
  },
  {
   "cell_type": "code",
   "execution_count": 117,
   "id": "0d25fcdc",
   "metadata": {},
   "outputs": [
    {
     "data": {
      "text/plain": [
       "[0.9997645263617043, 0.9189074718069157, 0.0099, 0.185, 0.0028, 0.1271]"
      ]
     },
     "execution_count": 117,
     "metadata": {},
     "output_type": "execute_result"
    }
   ],
   "source": [
    "ada_result = model_assess(model_ada,Xtrain,ytrain,Xtest,ytest)\n",
    "ada_result"
   ]
  },
  {
   "cell_type": "code",
   "execution_count": 118,
   "id": "a2074f4e",
   "metadata": {},
   "outputs": [
    {
     "data": {
      "image/png": "[encoded data removed]",
      "text/plain": [
       "<Figure size 432x288 with 1 Axes>"
      ]
     },
     "metadata": {
      "needs_background": "light"
     },
     "output_type": "display_data"
    }
   ],
   "source": [
    "sort = model_ada.feature_importances_.argsort()\n",
    "feature_importance_sorted = model_ada.feature_importances_[sort]\n",
    "feature_sorted = X.columns[sort]\n",
    "plt.barh(feature_sorted[60:74], feature_importance_sorted[60:74])\n",
    "plt.xlabel(\"Feature Importance\")\n",
    "plt.savefig(\"C:/Users/Lenovo/Desktop/git/STAT4011_Project1/figures/GB.jpg\")"
   ]
  },
  {
   "cell_type": "markdown",
   "id": "8b9ea46e",
   "metadata": {},
   "source": [
    "# Tree with XGB boosting"
   ]
  },
  {
   "cell_type": "code",
   "execution_count": 121,
   "id": "d0eb7d29",
   "metadata": {},
   "outputs": [],
   "source": [
    "param_grid_xgb = [\n",
    "    {'learning_rate': np.logspace(-2,0,10),'gamma': np.logspace(-5,0,5),\n",
    "                'n_estimators': [140,150,160,170]}\n",
    "]"
   ]
  },
  {
   "cell_type": "code",
   "execution_count": 122,
   "id": "c691d21f",
   "metadata": {},
   "outputs": [
    {
     "ename": "KeyboardInterrupt",
     "evalue": "",
     "output_type": "error",
     "traceback": [
      "\u001b[1;31m---------------------------------------------------------------------------\u001b[0m",
      "\u001b[1;31mKeyboardInterrupt\u001b[0m                         Traceback (most recent call last)",
      "\u001b[1;32m~\\AppData\\Local\\Temp/ipykernel_22568/1509052305.py\u001b[0m in \u001b[0;36m<module>\u001b[1;34m\u001b[0m\n\u001b[0;32m      1\u001b[0m \u001b[0mXGB_reg\u001b[0m\u001b[1;33m=\u001b[0m\u001b[0mxgb\u001b[0m\u001b[1;33m.\u001b[0m\u001b[0mXGBRegressor\u001b[0m\u001b[1;33m(\u001b[0m\u001b[0mobjective\u001b[0m\u001b[1;33m=\u001b[0m\u001b[1;34m\"reg:squarederror\"\u001b[0m\u001b[1;33m,\u001b[0m\u001b[0mmax_depth\u001b[0m\u001b[1;33m=\u001b[0m\u001b[1;36m30\u001b[0m\u001b[1;33m,\u001b[0m\u001b[0mbooster\u001b[0m\u001b[1;33m=\u001b[0m\u001b[1;34m\"gbtree\"\u001b[0m\u001b[1;33m,\u001b[0m\u001b[1;33m)\u001b[0m\u001b[1;33m\u001b[0m\u001b[1;33m\u001b[0m\u001b[0m\n\u001b[0;32m      2\u001b[0m \u001b[1;33m\u001b[0m\u001b[0m\n\u001b[1;32m----> 3\u001b[1;33m select_model_XGB = GridSearchCV(XGB_reg, param_grid_xgb, n_jobs=-1, cv=5,\n\u001b[0m\u001b[0;32m      4\u001b[0m \u001b[0mscoring\u001b[0m\u001b[1;33m=\u001b[0m\u001b[1;34m'neg_mean_squared_error'\u001b[0m\u001b[1;33m,\u001b[0m\u001b[1;33m\u001b[0m\u001b[1;33m\u001b[0m\u001b[0m\n\u001b[0;32m      5\u001b[0m return_train_score=True).fit(Xtrain, ytrain)\n",
      "\u001b[1;32mD:\\anoconda\\lib\\site-packages\\sklearn\\utils\\validation.py\u001b[0m in \u001b[0;36minner_f\u001b[1;34m(*args, **kwargs)\u001b[0m\n\u001b[0;32m     61\u001b[0m             \u001b[0mextra_args\u001b[0m \u001b[1;33m=\u001b[0m \u001b[0mlen\u001b[0m\u001b[1;33m(\u001b[0m\u001b[0margs\u001b[0m\u001b[1;33m)\u001b[0m \u001b[1;33m-\u001b[0m \u001b[0mlen\u001b[0m\u001b[1;33m(\u001b[0m\u001b[0mall_args\u001b[0m\u001b[1;33m)\u001b[0m\u001b[1;33m\u001b[0m\u001b[1;33m\u001b[0m\u001b[0m\n\u001b[0;32m     62\u001b[0m             \u001b[1;32mif\u001b[0m \u001b[0mextra_args\u001b[0m \u001b[1;33m<=\u001b[0m \u001b[1;36m0\u001b[0m\u001b[1;33m:\u001b[0m\u001b[1;33m\u001b[0m\u001b[1;33m\u001b[0m\u001b[0m\n\u001b[1;32m---> 63\u001b[1;33m                 \u001b[1;32mreturn\u001b[0m \u001b[0mf\u001b[0m\u001b[1;33m(\u001b[0m\u001b[1;33m*\u001b[0m\u001b[0margs\u001b[0m\u001b[1;33m,\u001b[0m \u001b[1;33m**\u001b[0m\u001b[0mkwargs\u001b[0m\u001b[1;33m)\u001b[0m\u001b[1;33m\u001b[0m\u001b[1;33m\u001b[0m\u001b[0m\n\u001b[0m\u001b[0;32m     64\u001b[0m \u001b[1;33m\u001b[0m\u001b[0m\n\u001b[0;32m     65\u001b[0m             \u001b[1;31m# extra_args > 0\u001b[0m\u001b[1;33m\u001b[0m\u001b[1;33m\u001b[0m\u001b[0m\n",
      "\u001b[1;32mD:\\anoconda\\lib\\site-packages\\sklearn\\model_selection\\_search.py\u001b[0m in \u001b[0;36mfit\u001b[1;34m(self, X, y, groups, **fit_params)\u001b[0m\n\u001b[0;32m    839\u001b[0m                 \u001b[1;32mreturn\u001b[0m \u001b[0mresults\u001b[0m\u001b[1;33m\u001b[0m\u001b[1;33m\u001b[0m\u001b[0m\n\u001b[0;32m    840\u001b[0m \u001b[1;33m\u001b[0m\u001b[0m\n\u001b[1;32m--> 841\u001b[1;33m             \u001b[0mself\u001b[0m\u001b[1;33m.\u001b[0m\u001b[0m_run_search\u001b[0m\u001b[1;33m(\u001b[0m\u001b[0mevaluate_candidates\u001b[0m\u001b[1;33m)\u001b[0m\u001b[1;33m\u001b[0m\u001b[1;33m\u001b[0m\u001b[0m\n\u001b[0m\u001b[0;32m    842\u001b[0m \u001b[1;33m\u001b[0m\u001b[0m\n\u001b[0;32m    843\u001b[0m             \u001b[1;31m# multimetric is determined here because in the case of a callable\u001b[0m\u001b[1;33m\u001b[0m\u001b[1;33m\u001b[0m\u001b[0m\n",
      "\u001b[1;32mD:\\anoconda\\lib\\site-packages\\sklearn\\model_selection\\_search.py\u001b[0m in \u001b[0;36m_run_search\u001b[1;34m(self, evaluate_candidates)\u001b[0m\n\u001b[0;32m   1294\u001b[0m     \u001b[1;32mdef\u001b[0m \u001b[0m_run_search\u001b[0m\u001b[1;33m(\u001b[0m\u001b[0mself\u001b[0m\u001b[1;33m,\u001b[0m \u001b[0mevaluate_candidates\u001b[0m\u001b[1;33m)\u001b[0m\u001b[1;33m:\u001b[0m\u001b[1;33m\u001b[0m\u001b[1;33m\u001b[0m\u001b[0m\n\u001b[0;32m   1295\u001b[0m         \u001b[1;34m\"\"\"Search all candidates in param_grid\"\"\"\u001b[0m\u001b[1;33m\u001b[0m\u001b[1;33m\u001b[0m\u001b[0m\n\u001b[1;32m-> 1296\u001b[1;33m         \u001b[0mevaluate_candidates\u001b[0m\u001b[1;33m(\u001b[0m\u001b[0mParameterGrid\u001b[0m\u001b[1;33m(\u001b[0m\u001b[0mself\u001b[0m\u001b[1;33m.\u001b[0m\u001b[0mparam_grid\u001b[0m\u001b[1;33m)\u001b[0m\u001b[1;33m)\u001b[0m\u001b[1;33m\u001b[0m\u001b[1;33m\u001b[0m\u001b[0m\n\u001b[0m\u001b[0;32m   1297\u001b[0m \u001b[1;33m\u001b[0m\u001b[0m\n\u001b[0;32m   1298\u001b[0m \u001b[1;33m\u001b[0m\u001b[0m\n",
      "\u001b[1;32mD:\\anoconda\\lib\\site-packages\\sklearn\\model_selection\\_search.py\u001b[0m in \u001b[0;36mevaluate_candidates\u001b[1;34m(candidate_params, cv, more_results)\u001b[0m\n\u001b[0;32m    793\u001b[0m                               n_splits, n_candidates, n_candidates * n_splits))\n\u001b[0;32m    794\u001b[0m \u001b[1;33m\u001b[0m\u001b[0m\n\u001b[1;32m--> 795\u001b[1;33m                 out = parallel(delayed(_fit_and_score)(clone(base_estimator),\n\u001b[0m\u001b[0;32m    796\u001b[0m                                                        \u001b[0mX\u001b[0m\u001b[1;33m,\u001b[0m \u001b[0my\u001b[0m\u001b[1;33m,\u001b[0m\u001b[1;33m\u001b[0m\u001b[1;33m\u001b[0m\u001b[0m\n\u001b[0;32m    797\u001b[0m                                                        \u001b[0mtrain\u001b[0m\u001b[1;33m=\u001b[0m\u001b[0mtrain\u001b[0m\u001b[1;33m,\u001b[0m \u001b[0mtest\u001b[0m\u001b[1;33m=\u001b[0m\u001b[0mtest\u001b[0m\u001b[1;33m,\u001b[0m\u001b[1;33m\u001b[0m\u001b[1;33m\u001b[0m\u001b[0m\n",
      "\u001b[1;32mD:\\anoconda\\lib\\site-packages\\joblib\\parallel.py\u001b[0m in \u001b[0;36m__call__\u001b[1;34m(self, iterable)\u001b[0m\n\u001b[0;32m   1054\u001b[0m \u001b[1;33m\u001b[0m\u001b[0m\n\u001b[0;32m   1055\u001b[0m             \u001b[1;32mwith\u001b[0m \u001b[0mself\u001b[0m\u001b[1;33m.\u001b[0m\u001b[0m_backend\u001b[0m\u001b[1;33m.\u001b[0m\u001b[0mretrieval_context\u001b[0m\u001b[1;33m(\u001b[0m\u001b[1;33m)\u001b[0m\u001b[1;33m:\u001b[0m\u001b[1;33m\u001b[0m\u001b[1;33m\u001b[0m\u001b[0m\n\u001b[1;32m-> 1056\u001b[1;33m                 \u001b[0mself\u001b[0m\u001b[1;33m.\u001b[0m\u001b[0mretrieve\u001b[0m\u001b[1;33m(\u001b[0m\u001b[1;33m)\u001b[0m\u001b[1;33m\u001b[0m\u001b[1;33m\u001b[0m\u001b[0m\n\u001b[0m\u001b[0;32m   1057\u001b[0m             \u001b[1;31m# Make sure that we get a last message telling us we are done\u001b[0m\u001b[1;33m\u001b[0m\u001b[1;33m\u001b[0m\u001b[0m\n\u001b[0;32m   1058\u001b[0m             \u001b[0melapsed_time\u001b[0m \u001b[1;33m=\u001b[0m \u001b[0mtime\u001b[0m\u001b[1;33m.\u001b[0m\u001b[0mtime\u001b[0m\u001b[1;33m(\u001b[0m\u001b[1;33m)\u001b[0m \u001b[1;33m-\u001b[0m \u001b[0mself\u001b[0m\u001b[1;33m.\u001b[0m\u001b[0m_start_time\u001b[0m\u001b[1;33m\u001b[0m\u001b[1;33m\u001b[0m\u001b[0m\n",
      "\u001b[1;32mD:\\anoconda\\lib\\site-packages\\joblib\\parallel.py\u001b[0m in \u001b[0;36mretrieve\u001b[1;34m(self)\u001b[0m\n\u001b[0;32m    933\u001b[0m             \u001b[1;32mtry\u001b[0m\u001b[1;33m:\u001b[0m\u001b[1;33m\u001b[0m\u001b[1;33m\u001b[0m\u001b[0m\n\u001b[0;32m    934\u001b[0m                 \u001b[1;32mif\u001b[0m \u001b[0mgetattr\u001b[0m\u001b[1;33m(\u001b[0m\u001b[0mself\u001b[0m\u001b[1;33m.\u001b[0m\u001b[0m_backend\u001b[0m\u001b[1;33m,\u001b[0m \u001b[1;34m'supports_timeout'\u001b[0m\u001b[1;33m,\u001b[0m \u001b[1;32mFalse\u001b[0m\u001b[1;33m)\u001b[0m\u001b[1;33m:\u001b[0m\u001b[1;33m\u001b[0m\u001b[1;33m\u001b[0m\u001b[0m\n\u001b[1;32m--> 935\u001b[1;33m                     \u001b[0mself\u001b[0m\u001b[1;33m.\u001b[0m\u001b[0m_output\u001b[0m\u001b[1;33m.\u001b[0m\u001b[0mextend\u001b[0m\u001b[1;33m(\u001b[0m\u001b[0mjob\u001b[0m\u001b[1;33m.\u001b[0m\u001b[0mget\u001b[0m\u001b[1;33m(\u001b[0m\u001b[0mtimeout\u001b[0m\u001b[1;33m=\u001b[0m\u001b[0mself\u001b[0m\u001b[1;33m.\u001b[0m\u001b[0mtimeout\u001b[0m\u001b[1;33m)\u001b[0m\u001b[1;33m)\u001b[0m\u001b[1;33m\u001b[0m\u001b[1;33m\u001b[0m\u001b[0m\n\u001b[0m\u001b[0;32m    936\u001b[0m                 \u001b[1;32melse\u001b[0m\u001b[1;33m:\u001b[0m\u001b[1;33m\u001b[0m\u001b[1;33m\u001b[0m\u001b[0m\n\u001b[0;32m    937\u001b[0m                     \u001b[0mself\u001b[0m\u001b[1;33m.\u001b[0m\u001b[0m_output\u001b[0m\u001b[1;33m.\u001b[0m\u001b[0mextend\u001b[0m\u001b[1;33m(\u001b[0m\u001b[0mjob\u001b[0m\u001b[1;33m.\u001b[0m\u001b[0mget\u001b[0m\u001b[1;33m(\u001b[0m\u001b[1;33m)\u001b[0m\u001b[1;33m)\u001b[0m\u001b[1;33m\u001b[0m\u001b[1;33m\u001b[0m\u001b[0m\n",
      "\u001b[1;32mD:\\anoconda\\lib\\site-packages\\joblib\\_parallel_backends.py\u001b[0m in \u001b[0;36mwrap_future_result\u001b[1;34m(future, timeout)\u001b[0m\n\u001b[0;32m    540\u001b[0m         AsyncResults.get from multiprocessing.\"\"\"\n\u001b[0;32m    541\u001b[0m         \u001b[1;32mtry\u001b[0m\u001b[1;33m:\u001b[0m\u001b[1;33m\u001b[0m\u001b[1;33m\u001b[0m\u001b[0m\n\u001b[1;32m--> 542\u001b[1;33m             \u001b[1;32mreturn\u001b[0m \u001b[0mfuture\u001b[0m\u001b[1;33m.\u001b[0m\u001b[0mresult\u001b[0m\u001b[1;33m(\u001b[0m\u001b[0mtimeout\u001b[0m\u001b[1;33m=\u001b[0m\u001b[0mtimeout\u001b[0m\u001b[1;33m)\u001b[0m\u001b[1;33m\u001b[0m\u001b[1;33m\u001b[0m\u001b[0m\n\u001b[0m\u001b[0;32m    543\u001b[0m         \u001b[1;32mexcept\u001b[0m \u001b[0mCfTimeoutError\u001b[0m \u001b[1;32mas\u001b[0m \u001b[0me\u001b[0m\u001b[1;33m:\u001b[0m\u001b[1;33m\u001b[0m\u001b[1;33m\u001b[0m\u001b[0m\n\u001b[0;32m    544\u001b[0m             \u001b[1;32mraise\u001b[0m \u001b[0mTimeoutError\u001b[0m \u001b[1;32mfrom\u001b[0m \u001b[0me\u001b[0m\u001b[1;33m\u001b[0m\u001b[1;33m\u001b[0m\u001b[0m\n",
      "\u001b[1;32mD:\\anoconda\\lib\\concurrent\\futures\\_base.py\u001b[0m in \u001b[0;36mresult\u001b[1;34m(self, timeout)\u001b[0m\n\u001b[0;32m    438\u001b[0m                     \u001b[1;32mreturn\u001b[0m \u001b[0mself\u001b[0m\u001b[1;33m.\u001b[0m\u001b[0m__get_result\u001b[0m\u001b[1;33m(\u001b[0m\u001b[1;33m)\u001b[0m\u001b[1;33m\u001b[0m\u001b[1;33m\u001b[0m\u001b[0m\n\u001b[0;32m    439\u001b[0m \u001b[1;33m\u001b[0m\u001b[0m\n\u001b[1;32m--> 440\u001b[1;33m                 \u001b[0mself\u001b[0m\u001b[1;33m.\u001b[0m\u001b[0m_condition\u001b[0m\u001b[1;33m.\u001b[0m\u001b[0mwait\u001b[0m\u001b[1;33m(\u001b[0m\u001b[0mtimeout\u001b[0m\u001b[1;33m)\u001b[0m\u001b[1;33m\u001b[0m\u001b[1;33m\u001b[0m\u001b[0m\n\u001b[0m\u001b[0;32m    441\u001b[0m \u001b[1;33m\u001b[0m\u001b[0m\n\u001b[0;32m    442\u001b[0m                 \u001b[1;32mif\u001b[0m \u001b[0mself\u001b[0m\u001b[1;33m.\u001b[0m\u001b[0m_state\u001b[0m \u001b[1;32min\u001b[0m \u001b[1;33m[\u001b[0m\u001b[0mCANCELLED\u001b[0m\u001b[1;33m,\u001b[0m \u001b[0mCANCELLED_AND_NOTIFIED\u001b[0m\u001b[1;33m]\u001b[0m\u001b[1;33m:\u001b[0m\u001b[1;33m\u001b[0m\u001b[1;33m\u001b[0m\u001b[0m\n",
      "\u001b[1;32mD:\\anoconda\\lib\\threading.py\u001b[0m in \u001b[0;36mwait\u001b[1;34m(self, timeout)\u001b[0m\n\u001b[0;32m    310\u001b[0m         \u001b[1;32mtry\u001b[0m\u001b[1;33m:\u001b[0m    \u001b[1;31m# restore state no matter what (e.g., KeyboardInterrupt)\u001b[0m\u001b[1;33m\u001b[0m\u001b[1;33m\u001b[0m\u001b[0m\n\u001b[0;32m    311\u001b[0m             \u001b[1;32mif\u001b[0m \u001b[0mtimeout\u001b[0m \u001b[1;32mis\u001b[0m \u001b[1;32mNone\u001b[0m\u001b[1;33m:\u001b[0m\u001b[1;33m\u001b[0m\u001b[1;33m\u001b[0m\u001b[0m\n\u001b[1;32m--> 312\u001b[1;33m                 \u001b[0mwaiter\u001b[0m\u001b[1;33m.\u001b[0m\u001b[0macquire\u001b[0m\u001b[1;33m(\u001b[0m\u001b[1;33m)\u001b[0m\u001b[1;33m\u001b[0m\u001b[1;33m\u001b[0m\u001b[0m\n\u001b[0m\u001b[0;32m    313\u001b[0m                 \u001b[0mgotit\u001b[0m \u001b[1;33m=\u001b[0m \u001b[1;32mTrue\u001b[0m\u001b[1;33m\u001b[0m\u001b[1;33m\u001b[0m\u001b[0m\n\u001b[0;32m    314\u001b[0m             \u001b[1;32melse\u001b[0m\u001b[1;33m:\u001b[0m\u001b[1;33m\u001b[0m\u001b[1;33m\u001b[0m\u001b[0m\n",
      "\u001b[1;31mKeyboardInterrupt\u001b[0m: "
     ]
    }
   ],
   "source": [
    "XGB_reg=xgb.XGBRegressor(objective=\"reg:squarederror\",max_depth=30,booster=\"gbtree\",)\n",
    "\n",
    "select_model_XGB = GridSearchCV(XGB_reg, param_grid_xgb, n_jobs=-1, cv=5,\n",
    "scoring='neg_mean_squared_error',\n",
    "return_train_score=True).fit(Xtrain, ytrain)\n",
    "\n",
    "model_XGB = select_model_XGB.best_estimator_\n",
    "select_model_XGB.best_params_"
   ]
  },
  {
   "cell_type": "code",
   "execution_count": null,
   "id": "def15625",
   "metadata": {},
   "outputs": [],
   "source": [
    "XGB_result = model_assess(model_XGB,Xtrain,ytrain,Xtest,ytest)\n",
    "XGB_result"
   ]
  },
  {
   "cell_type": "markdown",
   "id": "b3c6cbcf",
   "metadata": {},
   "source": [
    "# Save All Results"
   ]
  },
  {
   "cell_type": "code",
   "execution_count": null,
   "id": "7bc3ae4e",
   "metadata": {},
   "outputs": [],
   "source": [
    "all_results=np.vstack([ols_result,lasso_result,ridge_result,elanet_result,knr_result,svr_result,\n",
    "                      tree_reg_result,rfr_result,ada_result,XGB_result])"
   ]
  },
  {
   "cell_type": "code",
   "execution_count": null,
   "id": "046a5b9e",
   "metadata": {},
   "outputs": [],
   "source": [
    "all_results=pd.DataFrame(all_results)\n",
    "all_results.columns=[\"train_R2\",\"test_R2\",\"train_RMSE\",\"test_RMSE\",\"train_MAE\",\"test_MAE\"]\n",
    "all_results.index=[\"ols\",\"lasso\",\"ridge\",\"elastic_net\",\"knn\",\"svr\",\"tree\",\"rf\",\"ada\",\"xgb\"]"
   ]
  },
  {
   "cell_type": "code",
   "execution_count": null,
   "id": "0ebdab63",
   "metadata": {
    "scrolled": true
   },
   "outputs": [],
   "source": [
    "all_results"
   ]
  },
  {
   "cell_type": "code",
   "execution_count": null,
   "id": "e4f567c4",
   "metadata": {},
   "outputs": [],
   "source": [
    "all_results.to_csv(\"C:/Users/Lenovo/Desktop/git/STAT4011_Project1/data/model_results.csv\",index=True)"
   ]
  }
 ],
 "metadata": {
  "kernelspec": {
   "display_name": "Python 3 (ipykernel)",
   "language": "python",
   "name": "python3"
  },
  "language_info": {
   "codemirror_mode": {
    "name": "ipython",
    "version": 3
   },
   "file_extension": ".py",
   "mimetype": "text/x-python",
   "name": "python",
   "nbconvert_exporter": "python",
   "pygments_lexer": "ipython3",
   "version": "3.9.7"
  }
 },
 "nbformat": 4,
 "nbformat_minor": 5
}
