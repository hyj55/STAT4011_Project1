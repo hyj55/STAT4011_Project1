{
  "cells": [
    {
      "cell_type": "code",
      "execution_count": 1,
      "metadata": {
        "id": "gD6vekxDr9Q5"
      },
      "outputs": [],
      "source": [
        "#importing\n",
        "import numpy as np\n",
        "import pandas as pd\n",
        "import datetime as dt\n",
        "import re"
      ]
    },
    {
      "cell_type": "code",
      "execution_count": 3,
      "metadata": {
        "id": "xSJ8_9pCRQha"
      },
      "outputs": [],
      "source": [
        "data_wd = \"C:/Users/Lenovo/Desktop/git/STAT4011_Project1/data/Lianjia_raw.csv\"\n",
        "df1 = pd.read_csv(data_wd,header=None).astype(\"str\")\n",
        "\n",
        "dropped_column = [0,2,3,5,11,18,19,20,21,22,23,24,25,26,27,28,29,30,31,32,33,34,35,36,37,38,39,40,41,42,43,44,45,46,48,50,52,54,56,58,59,60,62,63,64,65,66,67,69]\n",
        "df = df1.drop(dropped_column,axis=1)\n",
        "df.index = range(21299)\n",
        "df.columns = [\"district\",\"price\",\"layout\",\"rel_floor\",\"total_floor\",\"area_size\",\"config\",\"building_type\",\"direction\",\"structure\",\"renovation_status\",\"no_of_units\",\"elevator\",\"date_on_market\",\"transact_property\",\"last_transact_date\",\"function\",\"age_limit\",\"property_belong\",\"upload_photo\",\"loc\",\"avail_visit_time\"]"
      ]
    },
    {
      "cell_type": "code",
      "execution_count": 4,
      "metadata": {
        "id": "PGlzCQQCTlNV"
      },
      "outputs": [],
      "source": [
        "#converting price to float\n",
        "pr = df[\"price\"]\n",
        "#for i in range(len(pr)):\n",
        "#  if(pr[i].find(\"万\")==-1):\n",
        "#    print(i)\n",
        "#df.iloc[2121],改一下那条record\n",
        "r1_reformat = [\"pudong\",\"371万\",\"2室2厅1厨1卫\",\"中楼层\",\"共6层\",\"72.88㎡\",\"平层\",\"板楼\",\"南 北\",\"砖混结构\",\"简装\",\"一梯两户\",\"无\",\"2022-07-09\",\"商品房\",\"2006-06-06\",\"普通住宅\",\"满五年\",\"共有\",\"已上传房本照片\",\"\\xa0外环外\",\"\\n\" ]\n",
        "r2_reformat = [\"pudong\",\"213万\",\"2室1厅1厨1卫\",\"中楼层\",\"共6层\",\"70.31㎡\",\"平层\",\"板楼\",\"南\",\"砖混结构\",\"简装\",\"一梯四户\",\"无\",\"2022-03-03\",\"商品房\",\"2020-03-23\",\"普通住宅\",\"满两年\",\"非共有\",\"已上传房本照片\",\"\\n\",\"\\n\"]\n",
        "df.iloc[2121]=r1_reformat\n",
        "df.iloc[2165]=r2_reformat\n",
        "for i in range(len(pr)):\n",
        "  price = df.iloc[i][\"price\"]\n",
        "  price = price.strip()\n",
        "  price = price[:-1]\n",
        "  price = float(price)*10000\n",
        "  df.loc[i,\"price\"]=price"
      ]
    },
    {
      "cell_type": "code",
      "execution_count": 5,
      "metadata": {
        "id": "QgcZLEmbpHVl"
      },
      "outputs": [],
      "source": [
        "# area size to float\n",
        "asi = df[\"area_size\"]\n",
        "for i in range(len(asi)):\n",
        "  size = df.iloc[i][\"area_size\"]\n",
        "  size = size.strip()\n",
        "  size = size.strip(\"'\")\n",
        "  size = size[:-1]\n",
        "  size = float(size)\n",
        "  df.loc[i,\"area_size\"]=size"
      ]
    },
    {
      "cell_type": "code",
      "execution_count": 6,
      "metadata": {
        "id": "nWaqz77WqM5T"
      },
      "outputs": [],
      "source": [
        "#layout_conversion\n",
        "lo = df[\"layout\"]\n",
        "for i in range(len(lo)):\n",
        "  layout = df.iloc[i][\"layout\"]\n",
        "  layout = layout.strip()\n",
        "  layout = layout.strip('\"')\n",
        "  layout = layout.strip(\"[\")\n",
        "  layout = layout.strip(\"'\")\n",
        "  df.loc[i,\"layout\"]=layout"
      ]
    },
    {
      "cell_type": "code",
      "execution_count": 7,
      "metadata": {
        "colab": {
          "base_uri": "https://localhost:8080/"
        },
        "id": "QPmEgZq4rnlZ",
        "outputId": "536dda5a-e00c-40b7-9502-83afcaa2f7b9"
      },
      "outputs": [
        {
          "output_type": "stream",
          "name": "stdout",
          "text": [
            "13972\n"
          ]
        }
      ],
      "source": [
        "for i in range(len(lo)):\n",
        "  layout = df.iloc[i][\"layout\"]\n",
        "  if(len(layout)!=8):\n",
        "    print(i)\n",
        "#室厅厨卫 4*n matrices, item 13972 as an exception"
      ]
    },
    {
      "cell_type": "code",
      "execution_count": 8,
      "metadata": {
        "id": "onX3024BBYgs"
      },
      "outputs": [],
      "source": [
        "#split the column into 4 columns\n",
        "lo = df[\"layout\"]\n",
        "bedroom_no = []\n",
        "parlour_no = []\n",
        "kitchen_no = []\n",
        "toilet_no = []\n",
        "for i in range(len(lo)):\n",
        "  strr = lo[i]\n",
        "  if i == 13972:\n",
        "    bedroom_no.append(10)\n",
        "    parlour_no.append(1)\n",
        "    kitchen_no.append(0)\n",
        "    toilet_no.append(1)\n",
        "  #elif strr.find(\"室\")!=1 or strr.find(\"厅\")!=3 or strr.find(\"厨\")!=5 or strr.find(\"卫\")!=7:\n",
        "  else:\n",
        "    bedroom_no.append(int(strr[0]))\n",
        "    parlour_no.append(int(strr[2]))\n",
        "    kitchen_no.append(int(strr[4]))\n",
        "    toilet_no.append(int(strr[6]))\n",
        "df['bedrm_no']=bedroom_no\n",
        "df['parlour_no']=parlour_no\n",
        "df['kitchen_no']=kitchen_no\n",
        "df['toilet_no']=toilet_no"
      ]
    },
    {
      "cell_type": "code",
      "execution_count": 9,
      "metadata": {
        "id": "2wErLKdSqMzM"
      },
      "outputs": [],
      "source": [
        "#total_floor\n",
        "tf = df[\"total_floor\"]\n",
        "for i in range(len(tf)):\n",
        "  totf = df.iloc[i][\"total_floor\"]\n",
        "  totf = totf.strip()\n",
        "  totf = totf.strip(\"'\")\n",
        "  totf = totf.strip(\")\")\n",
        "  totf = totf[:-1]\n",
        "  totf = int(totf[1:])\n",
        "  df.loc[i,\"total_floor\"] = totf"
      ]
    },
    {
      "cell_type": "markdown",
      "metadata": {
        "id": "5dwViLZOqMze"
      },
      "source": [
        "# pre-processed here: Stripping the rest of other columns."
      ]
    },
    {
      "cell_type": "code",
      "execution_count": 10,
      "metadata": {
        "id": "ygGqtSdWzCGt"
      },
      "outputs": [],
      "source": [
        "#strip formatting \n",
        "easy_strip = [\"config\",\"building_type\",\"rel_floor\",\"direction\",\"structure\",\"renovation_status\",\"no_of_units\",\"elevator\",\"date_on_market\",\"transact_property\",\"last_transact_date\",\"function\",\"age_limit\",\"property_belong\",\"upload_photo\",\"loc\",\"avail_visit_time\"]\n",
        "structure = df[\"structure\"]\n",
        "for i in easy_strip:\n",
        "    for j in range(len(structure)):\n",
        "      bti = df.iloc[j][i]\n",
        "      bti = bti.strip()\n",
        "      bti = bti.strip(\"'\")\n",
        "      df.loc[j,i] = bti"
      ]
    },
    {
      "cell_type": "code",
      "execution_count": 11,
      "metadata": {
        "id": "iDBAlZKq7BKS"
      },
      "outputs": [],
      "source": [
        "#available time data\n",
        "tim = df[\"avail_visit_time\"]\n",
        "for j in range(len(tim)):\n",
        "  tim = df.iloc[j][\"avail_visit_time\"]\n",
        "  tim = tim.strip(\"]\")\n",
        "  tim = tim.strip(\"'\")\n",
        "  df.loc[j,\"avail_visit_time\"]=tim\n",
        "#upload photo\n",
        "#location data\n",
        "pho = df[\"upload_photo\"]\n",
        "for j in range(len(pho)):\n",
        "  pho = df.iloc[j][\"upload_photo\"]\n",
        "  pho = pho.strip(\"]\")\n",
        "  pho = pho.strip(\"'\")\n",
        "  df.loc[j,\"upload_photo\"]=pho"
      ]
    },
    {
      "cell_type": "code",
      "execution_count": 12,
      "metadata": {
        "colab": {
          "base_uri": "https://localhost:8080/"
        },
        "id": "saX05lMbqMzn",
        "outputId": "bec5ded0-d4f7-41e8-e971-0bd7f5f4d32c"
      },
      "outputs": [
        {
          "output_type": "execute_result",
          "data": {
            "text/plain": [
              "21294    2022-08-03\n",
              "21295    2019-10-17\n",
              "21296    2020-12-28\n",
              "21297    2021-02-28\n",
              "21298    2022-07-17\n",
              "Name: date_on_market, dtype: object"
            ]
          },
          "metadata": {},
          "execution_count": 12
        }
      ],
      "source": [
        "date1 = df[\"date_on_market\"]\n",
        "date1.tail()"
      ]
    },
    {
      "cell_type": "code",
      "execution_count": 13,
      "metadata": {
        "id": "w5cCCIY5n_u5"
      },
      "outputs": [],
      "source": [
        "now = dt.date.today()\n",
        "date1 = df[\"date_on_market\"]\n",
        "date2 = df[\"last_transact_date\"]\n",
        "for i in range(len(date1)):\n",
        " datetemp1 = now -dt.date.fromisoformat(date1[i])\n",
        " df.loc[i,\"date_on_market\"]=datetemp1.days"
      ]
    },
    {
      "cell_type": "code",
      "execution_count": 14,
      "metadata": {
        "id": "x3VKQs-uqMzp"
      },
      "outputs": [],
      "source": [
        "for i in range(len(date2)):\n",
        "  if date2[i].find(\"暂无数据\")!=-1:\n",
        "    continue\n",
        "  else:\n",
        "    datetemp2 = now-dt.date.fromisoformat(date2[i])\n",
        "    df.loc[i,\"last_transact_date\"]=datetemp2.days"
      ]
    },
    {
      "cell_type": "code",
      "execution_count": 15,
      "metadata": {
        "id": "iA6Flixxn95u"
      },
      "outputs": [],
      "source": [
        "for t in range(len(date1)):\n",
        "  str1 = df[\"loc\"][t]\n",
        "  if(type(str1)==str):\n",
        "    str1 = str1.strip()\n",
        "    str1 = str1.strip(\"\\\\\")\n",
        "    str1 = str1.strip(\"xa0\")\n",
        "    str1 = str1.strip(\"xa1\")\n",
        "    str1 = str1.strip('\"')\n",
        "    str1 = str1.strip(\"]\")\n",
        "    str1 = str1.strip(\"'\")\n",
        "    df.loc[t,\"loc\"] = str1"
      ]
    },
    {
      "cell_type": "markdown",
      "metadata": {
        "id": "woBc0bGaqMzr"
      },
      "source": [
        "# “暂无数据” is replaced with na."
      ]
    },
    {
      "cell_type": "code",
      "execution_count": 16,
      "metadata": {
        "id": "-NUnAIkYsVUA"
      },
      "outputs": [],
      "source": [
        "column_name = [\"district\",\"rel_floor\",\"config\",\"building_type\",\"direction\",\"structure\",\"renovation_status\",\"no_of_units\",\"elevator\",\"date_on_market\",\"transact_property\",\"last_transact_date\",\"function\",\"age_limit\",\"property_belong\",\"upload_photo\",\"loc\",\"avail_visit_time\"]\n",
        "for j in column_name:\n",
        "  for i in range(len(date1)):\n",
        "    if(type(df[j][i])!=str):\n",
        "      continue\n",
        "    elif(df[j][i].find(\"暂无数据\")!=-1):\n",
        "      df.loc[i,j]=np.NaN\n",
        "    elif(df[j][i].find(\"\\n\")!=-1):\n",
        "      df.loc[i,j]=np.NaN"
      ]
    },
    {
      "cell_type": "code",
      "execution_count": 17,
      "metadata": {
        "id": "RuY95TUd6G06"
      },
      "outputs": [],
      "source": [
        "#elevator\n",
        "ele = df[\"elevator\"]\n",
        "for i in range(len(ele)):\n",
        "  if(ele[i]==\"有\"):\n",
        "    df.loc[i,\"elevator\"]=1\n",
        "  elif ele[i]==\"无\":\n",
        "    df.loc[i,\"elevator\"]=0\n",
        "  else:\n",
        "    df.loc[i,\"elevator\"]=np.nan"
      ]
    },
    {
      "cell_type": "markdown",
      "metadata": {
        "id": "PxDpGfIhtuhI"
      },
      "source": [
        "to be processed:\\\n",
        "*no_of_units* column. concatenate the string into two parts, output all possible values in chinese character. substitue them with decimal number representation. compute the proportion. substitute the previous column with new arrays."
      ]
    },
    {
      "cell_type": "code",
      "execution_count": 18,
      "metadata": {
        "id": "7N8-KfZe3OyX"
      },
      "outputs": [],
      "source": [
        "ar1 = df[\"no_of_units\"]\n",
        "stair = []\n",
        "unit = []\n",
        "for i in range(len(ar1)):\n",
        "  str1 = df[\"no_of_units\"][i]\n",
        "  if (str1.find(\"梯\")== -1):\n",
        "    stair.append(np.NaN)\n",
        "    unit.append(np.NaN)\n",
        "  else:\n",
        "    inde = str1.index(\"梯\")\n",
        "    if inde > 1:\n",
        "      stair.append(str1[0:(inde-1)])\n",
        "    else:\n",
        "      stair.append(str1[0])\n",
        "    str1 = str1[:-1]\n",
        "    unit.append(str1[(inde+1):])\n",
        "\n",
        "x = np.array(stair)\n",
        "y = np.array(unit)\n",
        "xu = np.unique(x)\n",
        "yu = np.unique(y)\n",
        "xu1 = xu.tolist()\n",
        "yu1 = yu.tolist()"
      ]
    },
    {
      "cell_type": "code",
      "execution_count": 19,
      "metadata": {
        "colab": {
          "base_uri": "https://localhost:8080/"
        },
        "id": "95Xtb3rBBG6L",
        "outputId": "bfb5e704-22e4-4dd5-aaa3-5c590188324e"
      },
      "outputs": [
        {
          "output_type": "stream",
          "name": "stdout",
          "text": [
            "['nan' '一' '七' '三' '两' '九' '二' '五' '八' '六' '十' '四']\n",
            "['nan' '一' '一百' '七' '七十七' '七十四' '三' '三十' '三十一' '三十七' '三十三' '三十二' '三十五'\n",
            " '三十六' '三十四' '两' '九' '二十' '二十一' '二十七' '二十三' '二十九' '二十二' '二十五' '二十八' '二十六'\n",
            " '二十四' '五' '五十' '五十一' '五十七' '五十三' '五十九' '五十二' '五十五' '五十八' '五十六' '八' '八十'\n",
            " '八十四' '六' '六十五' '六十六' '十' '十一' '十七' '十三' '十九' '十二' '十五' '十八' '十六' '十四'\n",
            " '四' '四十' '四十一' '四十七' '四十三' '四十二' '四十五' '四十六']\n"
          ]
        }
      ],
      "source": [
        "print(xu)\n",
        "print(yu)\n",
        "xup = [np.NaN,1,7,3,2,9,2,5,8,6,10,4] #preparing the integer vector to substitute the respected in vector in Chinese character\n",
        "yup = [np.NaN,1,100,7,77,74,3,30,31,37,33,32,35,36,34,2,9,20,21,27,23,29,22,25,28,26,24,5,50,51,57,53,59,52,55,58,56,8,80,84,6,65,66,10,11,17,13,19,12,15,18,16,14,4,40,41,47,43,42,45,46]\n"
      ]
    },
    {
      "cell_type": "code",
      "execution_count": 20,
      "metadata": {
        "id": "0EloR7sp8zge"
      },
      "outputs": [],
      "source": [
        "xu1 = xu.tolist()\n",
        "yu1 = yu.tolist()\n",
        "for i in range(len(stair)):\n",
        "  if(stair[i] in [np.nan]):\n",
        "    continue\n",
        "  else:\n",
        "    stair[i]=xup[xu1.index(stair[i])]\n",
        "for j in range(len(unit)):\n",
        "  if(unit[j] in [np.nan]):\n",
        "    continue\n",
        "  else:\n",
        "    unit[j]=yup[yu1.index(unit[j])]\n"
      ]
    },
    {
      "cell_type": "code",
      "execution_count": 21,
      "metadata": {
        "id": "XFGQMno6IL2S"
      },
      "outputs": [],
      "source": [
        "df[\"stair\"]=stair\n",
        "df[\"unit\"]=unit\n",
        "st = np.array(stair)\n",
        "un = np.array(unit)\n",
        "proportion = np.divide(st,un)\n",
        "df[\"proportion\"]=proportion"
      ]
    },
    {
      "cell_type": "code",
      "execution_count": 22,
      "metadata": {
        "colab": {
          "base_uri": "https://localhost:8080/"
        },
        "id": "5a9m9ETvUMKW",
        "outputId": "6cf5baff-19b5-4ca9-cf73-0c41896f79c8"
      },
      "outputs": [
        {
          "output_type": "stream",
          "name": "stdout",
          "text": [
            "['中楼层' '低楼层' '高楼层']\n"
          ]
        }
      ],
      "source": [
        "rf = df[\"rel_floor\"]\n",
        "rfp = np.array(rf)\n",
        "print(np.unique(rfp))"
      ]
    },
    {
      "cell_type": "code",
      "execution_count": 23,
      "metadata": {
        "id": "76HAX-gl323A"
      },
      "outputs": [],
      "source": [
        "df2 = pd.get_dummies(pd.Series(rf))\n",
        "df2.columns=[\"mid_floor\",\"lower_floor\",\"higher_floor\"]\n",
        "df = pd.concat([df,df2],axis=1)"
      ]
    },
    {
      "cell_type": "code",
      "execution_count": 24,
      "metadata": {
        "colab": {
          "base_uri": "https://localhost:8080/"
        },
        "id": "x_J-L0eMVkkC",
        "outputId": "f692d434-7407-479f-f703-a3349dd07d61"
      },
      "outputs": [
        {
          "output_type": "stream",
          "name": "stdout",
          "text": [
            "['108.88㎡' '182.54㎡' '303.19㎡' '356.3㎡' '403.3㎡' '538.45㎡' '555.51㎡' 'nan'\n",
            " '复式' '平层' '跃层' '错层']\n"
          ]
        }
      ],
      "source": [
        "config = df[\"config\"]\n",
        "con = np.array(config)\n",
        "for i in range(len(con)):\n",
        "  con[i]=str(con[i])\n",
        "print(np.unique(con))"
      ]
    },
    {
      "cell_type": "code",
      "execution_count": 25,
      "metadata": {
        "id": "gcX0rwkAafGM"
      },
      "outputs": [],
      "source": [
        "#we found that there are duplicated area size data in the config data, and removed them in this section\n",
        "for i in range(len(con)):\n",
        "  if(con[i].find(\"㎡\")!=-1):\n",
        "    df.loc[i,\"config\"]=np.nan"
      ]
    },
    {
      "cell_type": "code",
      "execution_count": 26,
      "metadata": {
        "id": "ljCIsLO2bDsq"
      },
      "outputs": [],
      "source": [
        "config = df[\"config\"]\n",
        "df2 = pd.get_dummies(pd.Series(config))\n",
        "df2.columns=[\"duplex_config\",\"levelling_config\",\"yue_config\",\"split_level_config\"]\n",
        "df = pd.concat([df,df2],axis=1)"
      ]
    },
    {
      "cell_type": "code",
      "execution_count": 27,
      "metadata": {
        "colab": {
          "base_uri": "https://localhost:8080/"
        },
        "id": "FuBKFeaGdbej",
        "outputId": "7611ea37-1685-4612-8135-cc22b99b0adf"
      },
      "outputs": [
        {
          "output_type": "stream",
          "name": "stdout",
          "text": [
            "['nan' '塔楼' '平房' '未知结构' '板塔结合' '板楼' '框架结构' '砖混结构' '钢混结构']\n"
          ]
        }
      ],
      "source": [
        "bt = df[\"building_type\"]\n",
        "btt = np.array(bt)\n",
        "for i in range(len(btt)):\n",
        "  btt[i]=str(btt[i])\n",
        "print(np.unique(btt))"
      ]
    },
    {
      "cell_type": "code",
      "execution_count": 28,
      "metadata": {
        "id": "7ZKT36lZd-d7",
        "colab": {
          "base_uri": "https://localhost:8080/"
        },
        "outputId": "d4d9e84b-2095-4516-eb8e-4799a5a94e13"
      },
      "outputs": [
        {
          "output_type": "execute_result",
          "data": {
            "text/plain": [
              "[804,\n",
              " 807,\n",
              " 1166,\n",
              " 1169,\n",
              " 1183,\n",
              " 1243,\n",
              " 4174,\n",
              " 5398,\n",
              " 5479,\n",
              " 5604,\n",
              " 5651,\n",
              " 5666,\n",
              " 5730,\n",
              " 6602,\n",
              " 10736,\n",
              " 11783,\n",
              " 12230,\n",
              " 14051,\n",
              " 14060,\n",
              " 14158,\n",
              " 14193,\n",
              " 14236,\n",
              " 14241,\n",
              " 14278,\n",
              " 14286,\n",
              " 14365,\n",
              " 14367,\n",
              " 14371,\n",
              " 14372,\n",
              " 14376,\n",
              " 14378,\n",
              " 14382,\n",
              " 14383,\n",
              " 14384,\n",
              " 14385,\n",
              " 14387,\n",
              " 14388,\n",
              " 14391,\n",
              " 14394,\n",
              " 14395,\n",
              " 14594,\n",
              " 14604,\n",
              " 14799,\n",
              " 14987,\n",
              " 14988,\n",
              " 15107,\n",
              " 15154,\n",
              " 15295,\n",
              " 15372,\n",
              " 15872,\n",
              " 17057,\n",
              " 17105,\n",
              " 17109,\n",
              " 17115,\n",
              " 17116,\n",
              " 17135,\n",
              " 17150,\n",
              " 17327,\n",
              " 17354,\n",
              " 17500,\n",
              " 18529,\n",
              " 18717,\n",
              " 18846,\n",
              " 19019,\n",
              " 19111,\n",
              " 19697,\n",
              " 20693,\n",
              " 20752,\n",
              " 20777,\n",
              " 20781,\n",
              " 20784,\n",
              " 20785,\n",
              " 20786,\n",
              " 20787,\n",
              " 20791,\n",
              " 20794,\n",
              " 20796,\n",
              " 20878,\n",
              " 20890,\n",
              " 20923,\n",
              " 21008,\n",
              " 21009,\n",
              " 21244]"
            ]
          },
          "metadata": {},
          "execution_count": 28
        }
      ],
      "source": [
        "#horizontal position changes are observed, need to be adjusted back to the right format \n",
        "anomaly_list = []\n",
        "for i in range(len(btt)):\n",
        "  if(btt[i]==\"钢混结构\" or btt[i]==\"未知结构\" or btt[i]==\"框架结构\" or btt[i]==\"砖混结构\"):\n",
        "    anomaly_list.append(i)\n",
        "anomaly_list"
      ]
    },
    {
      "cell_type": "code",
      "execution_count": 29,
      "metadata": {
        "id": "Y0y658xgRQh-"
      },
      "outputs": [],
      "source": [
        "df_correct = pd.read_csv(data_wd,header=None).astype(\"str\")\n",
        "df_correct.index = range(21299)"
      ]
    },
    {
      "cell_type": "code",
      "execution_count": 30,
      "metadata": {
        "id": "AG3CXXSAg202"
      },
      "outputs": [],
      "source": [
        "for i in anomaly_list:\n",
        "  struct = df.iloc[i][\"building_type\"]\n",
        "  bt = df.iloc[i][\"structure\"]\n",
        "  renova = df.iloc[i][\"direction\"]\n",
        "  df.loc[i,\"building_type\"]=bt\n",
        "  df.loc[i,\"structure\"]=struct\n",
        "  df.loc[i,\"renovation_status\"]=renova\n",
        "  df.loc[i,\"direction\"]=df_correct.iloc[i,11]"
      ]
    },
    {
      "cell_type": "code",
      "execution_count": 31,
      "metadata": {
        "id": "4e_-7cwS8nig",
        "colab": {
          "base_uri": "https://localhost:8080/",
          "height": 661
        },
        "outputId": "a9061df0-e988-4903-b592-2c424fba28f1"
      },
      "outputs": [
        {
          "output_type": "execute_result",
          "data": {
            "text/plain": [
              "      district       price    layout rel_floor total_floor area_size config  \\\n",
              "804     pudong  13800000.0  4室2厅1厨4卫       低楼层           4    358.84    NaN   \n",
              "807     pudong  14000000.0  4室2厅1厨2卫       中楼层           4     245.0    NaN   \n",
              "1166    pudong  14500000.0  6室3厅1厨4卫       低楼层           4     361.0    NaN   \n",
              "1169    pudong  26000000.0  4室2厅1厨3卫       低楼层           3    246.03    NaN   \n",
              "1183    pudong  77000000.0  6室3厅1厨4卫       低楼层           2    527.71    NaN   \n",
              "...        ...         ...       ...       ...         ...       ...    ...   \n",
              "20890   qingpu   8600000.0  3室2厅1厨3卫       低楼层           4    182.54    NaN   \n",
              "20923   qingpu  10000000.0  4室2厅3厨3卫       低楼层           1    294.16    NaN   \n",
              "21008   qingpu  33000000.0  4室2厅1厨4卫       低楼层           1    563.21    NaN   \n",
              "21009   qingpu  24500000.0  3室2厅1厨3卫       低楼层           3    229.75    NaN   \n",
              "21244   qingpu  23000000.0  4室2厅1厨4卫       低楼层           3    330.57    NaN   \n",
              "\n",
              "      building_type direction structure  ... stair unit proportion mid_floor  \\\n",
              "804              联排       '南'      钢混结构  ...   NaN  NaN        NaN         0   \n",
              "807             NaN     '南 北'      未知结构  ...   NaN  NaN        NaN         1   \n",
              "1166             联排     '南 北'      钢混结构  ...   NaN  NaN        NaN         0   \n",
              "1169             双拼       '南'      钢混结构  ...   NaN  NaN        NaN         0   \n",
              "1183             独栋     '南 北'      钢混结构  ...   NaN  NaN        NaN         0   \n",
              "...             ...       ...       ...  ...   ...  ...        ...       ...   \n",
              "20890            叠拼       '南'      钢混结构  ...   NaN  NaN        NaN         0   \n",
              "20923           NaN       '南'      钢混结构  ...   NaN  NaN        NaN         0   \n",
              "21008           NaN       '南'      钢混结构  ...   NaN  NaN        NaN         0   \n",
              "21009           NaN       '南'      钢混结构  ...   NaN  NaN        NaN         0   \n",
              "21244            双拼       '南'      钢混结构  ...   NaN  NaN        NaN         0   \n",
              "\n",
              "      lower_floor higher_floor duplex_config levelling_config yue_config  \\\n",
              "804             1            0             0                0          0   \n",
              "807             0            0             0                0          0   \n",
              "1166            1            0             0                0          0   \n",
              "1169            1            0             0                0          0   \n",
              "1183            1            0             0                0          0   \n",
              "...           ...          ...           ...              ...        ...   \n",
              "20890           1            0             0                0          0   \n",
              "20923           1            0             0                0          0   \n",
              "21008           1            0             0                0          0   \n",
              "21009           1            0             0                0          0   \n",
              "21244           1            0             0                0          0   \n",
              "\n",
              "      split_level_config  \n",
              "804                    0  \n",
              "807                    0  \n",
              "1166                   0  \n",
              "1169                   0  \n",
              "1183                   0  \n",
              "...                  ...  \n",
              "20890                  0  \n",
              "20923                  0  \n",
              "21008                  0  \n",
              "21009                  0  \n",
              "21244                  0  \n",
              "\n",
              "[83 rows x 36 columns]"
            ],
            "text/html": [
              "\n",
              "  <div id=\"df-09fd87ee-25b4-44cd-8981-b1bf2b8249db\">\n",
              "    <div class=\"colab-df-container\">\n",
              "      <div>\n",
              "<style scoped>\n",
              "    .dataframe tbody tr th:only-of-type {\n",
              "        vertical-align: middle;\n",
              "    }\n",
              "\n",
              "    .dataframe tbody tr th {\n",
              "        vertical-align: top;\n",
              "    }\n",
              "\n",
              "    .dataframe thead th {\n",
              "        text-align: right;\n",
              "    }\n",
              "</style>\n",
              "<table border=\"1\" class=\"dataframe\">\n",
              "  <thead>\n",
              "    <tr style=\"text-align: right;\">\n",
              "      <th></th>\n",
              "      <th>district</th>\n",
              "      <th>price</th>\n",
              "      <th>layout</th>\n",
              "      <th>rel_floor</th>\n",
              "      <th>total_floor</th>\n",
              "      <th>area_size</th>\n",
              "      <th>config</th>\n",
              "      <th>building_type</th>\n",
              "      <th>direction</th>\n",
              "      <th>structure</th>\n",
              "      <th>...</th>\n",
              "      <th>stair</th>\n",
              "      <th>unit</th>\n",
              "      <th>proportion</th>\n",
              "      <th>mid_floor</th>\n",
              "      <th>lower_floor</th>\n",
              "      <th>higher_floor</th>\n",
              "      <th>duplex_config</th>\n",
              "      <th>levelling_config</th>\n",
              "      <th>yue_config</th>\n",
              "      <th>split_level_config</th>\n",
              "    </tr>\n",
              "  </thead>\n",
              "  <tbody>\n",
              "    <tr>\n",
              "      <th>804</th>\n",
              "      <td>pudong</td>\n",
              "      <td>13800000.0</td>\n",
              "      <td>4室2厅1厨4卫</td>\n",
              "      <td>低楼层</td>\n",
              "      <td>4</td>\n",
              "      <td>358.84</td>\n",
              "      <td>NaN</td>\n",
              "      <td>联排</td>\n",
              "      <td>'南'</td>\n",
              "      <td>钢混结构</td>\n",
              "      <td>...</td>\n",
              "      <td>NaN</td>\n",
              "      <td>NaN</td>\n",
              "      <td>NaN</td>\n",
              "      <td>0</td>\n",
              "      <td>1</td>\n",
              "      <td>0</td>\n",
              "      <td>0</td>\n",
              "      <td>0</td>\n",
              "      <td>0</td>\n",
              "      <td>0</td>\n",
              "    </tr>\n",
              "    <tr>\n",
              "      <th>807</th>\n",
              "      <td>pudong</td>\n",
              "      <td>14000000.0</td>\n",
              "      <td>4室2厅1厨2卫</td>\n",
              "      <td>中楼层</td>\n",
              "      <td>4</td>\n",
              "      <td>245.0</td>\n",
              "      <td>NaN</td>\n",
              "      <td>NaN</td>\n",
              "      <td>'南 北'</td>\n",
              "      <td>未知结构</td>\n",
              "      <td>...</td>\n",
              "      <td>NaN</td>\n",
              "      <td>NaN</td>\n",
              "      <td>NaN</td>\n",
              "      <td>1</td>\n",
              "      <td>0</td>\n",
              "      <td>0</td>\n",
              "      <td>0</td>\n",
              "      <td>0</td>\n",
              "      <td>0</td>\n",
              "      <td>0</td>\n",
              "    </tr>\n",
              "    <tr>\n",
              "      <th>1166</th>\n",
              "      <td>pudong</td>\n",
              "      <td>14500000.0</td>\n",
              "      <td>6室3厅1厨4卫</td>\n",
              "      <td>低楼层</td>\n",
              "      <td>4</td>\n",
              "      <td>361.0</td>\n",
              "      <td>NaN</td>\n",
              "      <td>联排</td>\n",
              "      <td>'南 北'</td>\n",
              "      <td>钢混结构</td>\n",
              "      <td>...</td>\n",
              "      <td>NaN</td>\n",
              "      <td>NaN</td>\n",
              "      <td>NaN</td>\n",
              "      <td>0</td>\n",
              "      <td>1</td>\n",
              "      <td>0</td>\n",
              "      <td>0</td>\n",
              "      <td>0</td>\n",
              "      <td>0</td>\n",
              "      <td>0</td>\n",
              "    </tr>\n",
              "    <tr>\n",
              "      <th>1169</th>\n",
              "      <td>pudong</td>\n",
              "      <td>26000000.0</td>\n",
              "      <td>4室2厅1厨3卫</td>\n",
              "      <td>低楼层</td>\n",
              "      <td>3</td>\n",
              "      <td>246.03</td>\n",
              "      <td>NaN</td>\n",
              "      <td>双拼</td>\n",
              "      <td>'南'</td>\n",
              "      <td>钢混结构</td>\n",
              "      <td>...</td>\n",
              "      <td>NaN</td>\n",
              "      <td>NaN</td>\n",
              "      <td>NaN</td>\n",
              "      <td>0</td>\n",
              "      <td>1</td>\n",
              "      <td>0</td>\n",
              "      <td>0</td>\n",
              "      <td>0</td>\n",
              "      <td>0</td>\n",
              "      <td>0</td>\n",
              "    </tr>\n",
              "    <tr>\n",
              "      <th>1183</th>\n",
              "      <td>pudong</td>\n",
              "      <td>77000000.0</td>\n",
              "      <td>6室3厅1厨4卫</td>\n",
              "      <td>低楼层</td>\n",
              "      <td>2</td>\n",
              "      <td>527.71</td>\n",
              "      <td>NaN</td>\n",
              "      <td>独栋</td>\n",
              "      <td>'南 北'</td>\n",
              "      <td>钢混结构</td>\n",
              "      <td>...</td>\n",
              "      <td>NaN</td>\n",
              "      <td>NaN</td>\n",
              "      <td>NaN</td>\n",
              "      <td>0</td>\n",
              "      <td>1</td>\n",
              "      <td>0</td>\n",
              "      <td>0</td>\n",
              "      <td>0</td>\n",
              "      <td>0</td>\n",
              "      <td>0</td>\n",
              "    </tr>\n",
              "    <tr>\n",
              "      <th>...</th>\n",
              "      <td>...</td>\n",
              "      <td>...</td>\n",
              "      <td>...</td>\n",
              "      <td>...</td>\n",
              "      <td>...</td>\n",
              "      <td>...</td>\n",
              "      <td>...</td>\n",
              "      <td>...</td>\n",
              "      <td>...</td>\n",
              "      <td>...</td>\n",
              "      <td>...</td>\n",
              "      <td>...</td>\n",
              "      <td>...</td>\n",
              "      <td>...</td>\n",
              "      <td>...</td>\n",
              "      <td>...</td>\n",
              "      <td>...</td>\n",
              "      <td>...</td>\n",
              "      <td>...</td>\n",
              "      <td>...</td>\n",
              "      <td>...</td>\n",
              "    </tr>\n",
              "    <tr>\n",
              "      <th>20890</th>\n",
              "      <td>qingpu</td>\n",
              "      <td>8600000.0</td>\n",
              "      <td>3室2厅1厨3卫</td>\n",
              "      <td>低楼层</td>\n",
              "      <td>4</td>\n",
              "      <td>182.54</td>\n",
              "      <td>NaN</td>\n",
              "      <td>叠拼</td>\n",
              "      <td>'南'</td>\n",
              "      <td>钢混结构</td>\n",
              "      <td>...</td>\n",
              "      <td>NaN</td>\n",
              "      <td>NaN</td>\n",
              "      <td>NaN</td>\n",
              "      <td>0</td>\n",
              "      <td>1</td>\n",
              "      <td>0</td>\n",
              "      <td>0</td>\n",
              "      <td>0</td>\n",
              "      <td>0</td>\n",
              "      <td>0</td>\n",
              "    </tr>\n",
              "    <tr>\n",
              "      <th>20923</th>\n",
              "      <td>qingpu</td>\n",
              "      <td>10000000.0</td>\n",
              "      <td>4室2厅3厨3卫</td>\n",
              "      <td>低楼层</td>\n",
              "      <td>1</td>\n",
              "      <td>294.16</td>\n",
              "      <td>NaN</td>\n",
              "      <td>NaN</td>\n",
              "      <td>'南'</td>\n",
              "      <td>钢混结构</td>\n",
              "      <td>...</td>\n",
              "      <td>NaN</td>\n",
              "      <td>NaN</td>\n",
              "      <td>NaN</td>\n",
              "      <td>0</td>\n",
              "      <td>1</td>\n",
              "      <td>0</td>\n",
              "      <td>0</td>\n",
              "      <td>0</td>\n",
              "      <td>0</td>\n",
              "      <td>0</td>\n",
              "    </tr>\n",
              "    <tr>\n",
              "      <th>21008</th>\n",
              "      <td>qingpu</td>\n",
              "      <td>33000000.0</td>\n",
              "      <td>4室2厅1厨4卫</td>\n",
              "      <td>低楼层</td>\n",
              "      <td>1</td>\n",
              "      <td>563.21</td>\n",
              "      <td>NaN</td>\n",
              "      <td>NaN</td>\n",
              "      <td>'南'</td>\n",
              "      <td>钢混结构</td>\n",
              "      <td>...</td>\n",
              "      <td>NaN</td>\n",
              "      <td>NaN</td>\n",
              "      <td>NaN</td>\n",
              "      <td>0</td>\n",
              "      <td>1</td>\n",
              "      <td>0</td>\n",
              "      <td>0</td>\n",
              "      <td>0</td>\n",
              "      <td>0</td>\n",
              "      <td>0</td>\n",
              "    </tr>\n",
              "    <tr>\n",
              "      <th>21009</th>\n",
              "      <td>qingpu</td>\n",
              "      <td>24500000.0</td>\n",
              "      <td>3室2厅1厨3卫</td>\n",
              "      <td>低楼层</td>\n",
              "      <td>3</td>\n",
              "      <td>229.75</td>\n",
              "      <td>NaN</td>\n",
              "      <td>NaN</td>\n",
              "      <td>'南'</td>\n",
              "      <td>钢混结构</td>\n",
              "      <td>...</td>\n",
              "      <td>NaN</td>\n",
              "      <td>NaN</td>\n",
              "      <td>NaN</td>\n",
              "      <td>0</td>\n",
              "      <td>1</td>\n",
              "      <td>0</td>\n",
              "      <td>0</td>\n",
              "      <td>0</td>\n",
              "      <td>0</td>\n",
              "      <td>0</td>\n",
              "    </tr>\n",
              "    <tr>\n",
              "      <th>21244</th>\n",
              "      <td>qingpu</td>\n",
              "      <td>23000000.0</td>\n",
              "      <td>4室2厅1厨4卫</td>\n",
              "      <td>低楼层</td>\n",
              "      <td>3</td>\n",
              "      <td>330.57</td>\n",
              "      <td>NaN</td>\n",
              "      <td>双拼</td>\n",
              "      <td>'南'</td>\n",
              "      <td>钢混结构</td>\n",
              "      <td>...</td>\n",
              "      <td>NaN</td>\n",
              "      <td>NaN</td>\n",
              "      <td>NaN</td>\n",
              "      <td>0</td>\n",
              "      <td>1</td>\n",
              "      <td>0</td>\n",
              "      <td>0</td>\n",
              "      <td>0</td>\n",
              "      <td>0</td>\n",
              "      <td>0</td>\n",
              "    </tr>\n",
              "  </tbody>\n",
              "</table>\n",
              "<p>83 rows × 36 columns</p>\n",
              "</div>\n",
              "      <button class=\"colab-df-convert\" onclick=\"convertToInteractive('df-09fd87ee-25b4-44cd-8981-b1bf2b8249db')\"\n",
              "              title=\"Convert this dataframe to an interactive table.\"\n",
              "              style=\"display:none;\">\n",
              "        \n",
              "  <svg xmlns=\"http://www.w3.org/2000/svg\" height=\"24px\"viewBox=\"0 0 24 24\"\n",
              "       width=\"24px\">\n",
              "    <path d=\"M0 0h24v24H0V0z\" fill=\"none\"/>\n",
              "    <path d=\"M18.56 5.44l.94 2.06.94-2.06 2.06-.94-2.06-.94-.94-2.06-.94 2.06-2.06.94zm-11 1L8.5 8.5l.94-2.06 2.06-.94-2.06-.94L8.5 2.5l-.94 2.06-2.06.94zm10 10l.94 2.06.94-2.06 2.06-.94-2.06-.94-.94-2.06-.94 2.06-2.06.94z\"/><path d=\"M17.41 7.96l-1.37-1.37c-.4-.4-.92-.59-1.43-.59-.52 0-1.04.2-1.43.59L10.3 9.45l-7.72 7.72c-.78.78-.78 2.05 0 2.83L4 21.41c.39.39.9.59 1.41.59.51 0 1.02-.2 1.41-.59l7.78-7.78 2.81-2.81c.8-.78.8-2.07 0-2.86zM5.41 20L4 18.59l7.72-7.72 1.47 1.35L5.41 20z\"/>\n",
              "  </svg>\n",
              "      </button>\n",
              "      \n",
              "  <style>\n",
              "    .colab-df-container {\n",
              "      display:flex;\n",
              "      flex-wrap:wrap;\n",
              "      gap: 12px;\n",
              "    }\n",
              "\n",
              "    .colab-df-convert {\n",
              "      background-color: #E8F0FE;\n",
              "      border: none;\n",
              "      border-radius: 50%;\n",
              "      cursor: pointer;\n",
              "      display: none;\n",
              "      fill: #1967D2;\n",
              "      height: 32px;\n",
              "      padding: 0 0 0 0;\n",
              "      width: 32px;\n",
              "    }\n",
              "\n",
              "    .colab-df-convert:hover {\n",
              "      background-color: #E2EBFA;\n",
              "      box-shadow: 0px 1px 2px rgba(60, 64, 67, 0.3), 0px 1px 3px 1px rgba(60, 64, 67, 0.15);\n",
              "      fill: #174EA6;\n",
              "    }\n",
              "\n",
              "    [theme=dark] .colab-df-convert {\n",
              "      background-color: #3B4455;\n",
              "      fill: #D2E3FC;\n",
              "    }\n",
              "\n",
              "    [theme=dark] .colab-df-convert:hover {\n",
              "      background-color: #434B5C;\n",
              "      box-shadow: 0px 1px 3px 1px rgba(0, 0, 0, 0.15);\n",
              "      filter: drop-shadow(0px 1px 2px rgba(0, 0, 0, 0.3));\n",
              "      fill: #FFFFFF;\n",
              "    }\n",
              "  </style>\n",
              "\n",
              "      <script>\n",
              "        const buttonEl =\n",
              "          document.querySelector('#df-09fd87ee-25b4-44cd-8981-b1bf2b8249db button.colab-df-convert');\n",
              "        buttonEl.style.display =\n",
              "          google.colab.kernel.accessAllowed ? 'block' : 'none';\n",
              "\n",
              "        async function convertToInteractive(key) {\n",
              "          const element = document.querySelector('#df-09fd87ee-25b4-44cd-8981-b1bf2b8249db');\n",
              "          const dataTable =\n",
              "            await google.colab.kernel.invokeFunction('convertToInteractive',\n",
              "                                                     [key], {});\n",
              "          if (!dataTable) return;\n",
              "\n",
              "          const docLinkHtml = 'Like what you see? Visit the ' +\n",
              "            '<a target=\"_blank\" href=https://colab.research.google.com/notebooks/data_table.ipynb>data table notebook</a>'\n",
              "            + ' to learn more about interactive tables.';\n",
              "          element.innerHTML = '';\n",
              "          dataTable['output_type'] = 'display_data';\n",
              "          await google.colab.output.renderOutput(dataTable, element);\n",
              "          const docLink = document.createElement('div');\n",
              "          docLink.innerHTML = docLinkHtml;\n",
              "          element.appendChild(docLink);\n",
              "        }\n",
              "      </script>\n",
              "    </div>\n",
              "  </div>\n",
              "  "
            ]
          },
          "metadata": {},
          "execution_count": 31
        }
      ],
      "source": [
        "df.iloc[anomaly_list]"
      ]
    },
    {
      "cell_type": "code",
      "execution_count": 34,
      "metadata": {
        "colab": {
          "base_uri": "https://localhost:8080/"
        },
        "id": "OFk3-LNUlo9z",
        "outputId": "305918ca-9200-4a01-b6f0-0418b6bcd3f2"
      },
      "outputs": [
        {
          "output_type": "stream",
          "name": "stdout",
          "text": [
            "['nan' '双拼' '叠拼' '塔楼' '平房' '板塔结合' '板楼' '独栋' '联排']\n",
            "[45, 93, 107, 327, 371, 393, 573, 593, 696, 753, 767, 807, 860, 874, 1278, 1282, 1317, 1354, 1386, 1430, 1561, 1581, 1599, 1752, 1945, 1950, 1964, 2019, 2130, 2232, 2296, 2365, 2580, 2916, 3128, 3947, 5371, 5479, 5515, 5671, 5723, 5725, 5730, 5803, 5959, 6069, 6143, 6537, 6627, 6638, 6713, 6748, 6770, 6888, 6999, 7188, 7213, 7283, 7430, 7490, 7780, 7814, 7824, 7917, 7929, 8004, 8024, 8090, 8112, 8401, 8451, 8603, 8959, 9974, 10011, 10064, 10078, 10103, 10104, 10127, 10155, 10158, 10236, 10705, 10736, 10933, 10980, 11668, 11783, 12027, 12230, 13976, 14041, 14099, 14192, 14207, 14225, 14382, 14384, 14399, 14465, 14638, 14661, 14691, 14799, 14995, 15091, 15098, 15178, 15203, 15215, 15317, 15357, 15437, 16731, 16743, 16884, 16890, 17046, 17049, 17057, 17115, 17228, 17243, 17282, 17312, 17316, 17353, 17358, 17364, 17410, 17451, 17467, 17504, 18118, 18121, 18122, 18145, 18156, 18172, 18175, 18181, 18200, 18201, 18206, 18211, 18215, 18234, 18241, 18257, 18258, 18270, 18272, 18277, 18278, 18281, 18285, 18291, 18303, 18310, 18312, 18315, 18317, 18320, 18321, 18323, 18326, 18336, 18340, 18350, 18351, 18357, 18360, 18361, 18362, 18366, 18373, 18400, 18404, 18413, 18423, 18424, 18425, 18426, 18428, 18429, 18453, 18457, 18466, 18467, 18473, 18480, 18487, 18499, 18500, 18502, 18507, 18508, 18514, 18529, 18671, 19232, 19446, 19505, 19506, 19527, 19528, 19529, 19534, 19536, 19559, 19594, 19631, 19697, 19706, 19749, 19782, 19866, 19870, 19902, 19944, 19961, 19968, 19969, 20191, 20600, 20777, 20784, 20878, 20923, 21008, 21009, 21108, 21134, 21144, 21147, 21148, 21151, 21158, 21175, 21176, 21199, 21216, 21227, 21229, 21239, 21240, 21255, 21256, 21257, 21258, 21259, 21262, 21274, 21287, 21288, 21289, 21292, 21298]\n"
          ]
        }
      ],
      "source": [
        "#building type\n",
        "bt = df[\"building_type\"]\n",
        "btt = np.array(bt)\n",
        "null_list = []\n",
        "for i in range(len(btt)):\n",
        "  btt[i]=str(btt[i])\n",
        "  if btt[i]==\"nan\":\n",
        "    null_list.append(i)\n",
        "print(np.unique(btt))\n",
        "#print(null_list)"
      ]
    },
    {
      "cell_type": "code",
      "execution_count": 45,
      "metadata": {
        "id": "cMCtgbI__4iF"
      },
      "outputs": [],
      "source": [
        "building_type = df[\"building_type\"]\n",
        "df2 = pd.get_dummies(pd.Series(building_type))\n",
        "for k in range(df2.shape[0]):\n",
        "  if np.isin(k,null_list):\n",
        "    for j in df2.columns:\n",
        "      df2.loc[k,j]=np.nan\n",
        "  else:\n",
        "    continue\n",
        "df2.columns=[\"doublepin\",\"diepin\",\"talou\",\"pingfang\",\"bantajiehe\",\"banlou\",\"dudong\",\"lianpai\"]\n",
        "df = pd.concat([df,df2],axis=1)"
      ]
    },
    {
      "cell_type": "code",
      "execution_count": 46,
      "metadata": {
        "id": "CogtCrRZtkLi",
        "colab": {
          "base_uri": "https://localhost:8080/"
        },
        "outputId": "a2f23489-250f-4b42-ec5f-f89c892d9db4"
      },
      "outputs": [
        {
          "output_type": "stream",
          "name": "stdout",
          "text": [
            "['nan' '东' '东 东北' '东 东南' '东 东南 东北' '东 东南 北' '东 东南 南' '东 东南 南 北' '东 东南 西'\n",
            " '东 北' '东 北 东北' '东 北 东南' '东 北 南' '东 南' '东 南 东南' '东 南 北' '东 南 西' '东 南 西 北'\n",
            " '东 南 西北' '东 西' '东 西 北' '东 西 南' '东 西 西南' '东 西北' '东北' '东北 东南' '东北 北'\n",
            " '东北 西南' '东南' '东南 东 南 西南' '东南 东北' '东南 东北 西北' '东南 北' '东南 北 东北' '东南 南'\n",
            " '东南 南 北' '东南 西' '东南 西北' '东南 西南' '北' '北 东' '北 东 西' '北 东北' '北 南' '北 南 东'\n",
            " '北 西' '北 西北' '北 西南' '南' '南 东' '南 东 北' '南 东 北 西' '南 东 西' '南 东北' '南 东北 北'\n",
            " '南 东南' '南 北' '南 北 东' '南 北 东南' '南 北 西' '南 北 西南' '南 西' '南 西 北' '南 西 西北'\n",
            " '南 西 西南' '南 西北' '南 西南' '南 西南 北' '南 西南 西' '南 西南 西 东北' '南 西南 西 北' '南 西南 西北'\n",
            " '西' '西 东' '西 东 东南' '西 东北' '西 北' '西 北 南' '西 南' '西 南 北' '西 西北' '西 西北 东北'\n",
            " '西 西北 北' '西 西南' '西北' '西北 东北' '西北 东北 北 西 东' '西北 北' '西南' '西南 东北' '西南 北'\n",
            " '西南 南' '西南 西' '西南 西 北' '西南 西 西北' '西南 西北']\n"
          ]
        }
      ],
      "source": [
        "direct = df[\"direction\"]\n",
        "directt = np.array(direct)\n",
        "for i in range(len(directt)):\n",
        "  directt[i]=str(directt[i])\n",
        "  t=directt[i]\n",
        "  t = t.strip()\n",
        "  t = t.strip('\"')\n",
        "  t = t.strip(\"'\")\n",
        "  directt[i]=t\n",
        "print(np.unique(directt))\n"
      ]
    },
    {
      "cell_type": "code",
      "execution_count": 48,
      "metadata": {
        "id": "bKut1HAIyQxE"
      },
      "outputs": [],
      "source": [
        "east = []\n",
        "southeast = []\n",
        "south = []\n",
        "southwest = []\n",
        "west = []\n",
        "northwest = []\n",
        "north = []\n",
        "northeast = []\n",
        "for i in range(len(directt)):\n",
        "  str1 = directt[i]\n",
        "  if str1 == \"nan\":\n",
        "    east.append(np.nan)\n",
        "    south.append(np.nan)\n",
        "    west.append(np.nan)\n",
        "    north.append(np.nan)\n",
        "    southwest.append(np.nan)\n",
        "    northwest.append(np.nan)\n",
        "    southeast.append(np.nan)\n",
        "    northeast.append(np.nan)\n",
        "  else:\n",
        "    arr1 = str1.split()\n",
        "    for j in range(len(arr1)):\n",
        "      if arr1[j]==\"东\":\n",
        "        east.append(1)\n",
        "      elif arr1[j]==\"西\":\n",
        "        west.append(1)\n",
        "      elif arr1[j]==\"南\":\n",
        "        south.append(1)\n",
        "      elif arr1[j]==\"北\":\n",
        "        north.append(1)\n",
        "      elif arr1[j]==\"东南\":\n",
        "        southeast.append(1)\n",
        "      elif arr1[j]==\"西南\":\n",
        "        southwest.append(1)\n",
        "      elif arr1[j]==\"西北\":\n",
        "        northwest.append(1)\n",
        "      elif arr1[j]==\"东北\":\n",
        "        northeast.append(1)\n",
        "    if len(east)==i:\n",
        "      east.append(0)\n",
        "    if len(west)==i:\n",
        "      west.append(0)\n",
        "    if len(north)==i:\n",
        "      north.append(0)\n",
        "    if len(south)==i:\n",
        "      south.append(0)\n",
        "    if len(northeast)==i:\n",
        "      northeast.append(0)\n",
        "    if len(southeast)==i:\n",
        "      southeast.append(0)\n",
        "    if len(southwest)==i:\n",
        "      southwest.append(0)\n",
        "    if len(northwest)==i:\n",
        "      northwest.append(0)\n",
        "df[\"south\"]=south\n",
        "df[\"west\"]=west\n",
        "df[\"north\"]=north\n",
        "df[\"east\"]=east\n",
        "df[\"northeast\"]=northeast\n",
        "df[\"southeast\"]=southeast\n",
        "df[\"northwest\"]=northwest\n",
        "df[\"southwest\"]=southwest  "
      ]
    },
    {
      "cell_type": "code",
      "execution_count": 71,
      "metadata": {
        "colab": {
          "base_uri": "https://localhost:8080/"
        },
        "id": "9fDipoYF2Rwx",
        "outputId": "8a067e3d-015a-4e35-ae6a-5dd268307c91"
      },
      "outputs": [
        {
          "output_type": "stream",
          "name": "stdout",
          "text": [
            "['未知结构' '框架结构' '混合结构' '砖木结构' '砖混结构' '钢混结构' '钢结构']\n"
          ]
        }
      ],
      "source": [
        "struct = df[\"structure\"]\n",
        "struc = np.array(struct)\n",
        "for i in range(len(struct)):\n",
        "  struc[i] = str(struc[i])\n",
        "print(np.unique(struc))"
      ]
    },
    {
      "cell_type": "code",
      "execution_count": 72,
      "metadata": {
        "id": "kwCT9v_1BFps"
      },
      "outputs": [],
      "source": [
        "df2 = pd.get_dummies(pd.Series(struct))\n",
        "df2.columns=[\"unknown_struct\",\"frame_struct\",\"mixed_struct\",\"brickwood_struct\",\"brickmix_struct\",\"steelmix_struct\",\"steel_struct\"]\n",
        "df = pd.concat([df,df2],axis=1)"
      ]
    },
    {
      "cell_type": "code",
      "execution_count": 73,
      "metadata": {
        "colab": {
          "base_uri": "https://localhost:8080/"
        },
        "id": "Z7ZeXK-q5oXb",
        "outputId": "932fa0c4-b768-47be-b701-f8df470fbe86"
      },
      "outputs": [
        {
          "output_type": "stream",
          "name": "stdout",
          "text": [
            "['其他' '毛坯' '简装' '精装']\n"
          ]
        }
      ],
      "source": [
        "renov = df[\"renovation_status\"]\n",
        "reno = np.array(renov)\n",
        "for i in range(len(reno)):\n",
        "  reno[i]=str(reno[i])\n",
        "print(np.unique(reno))"
      ]
    },
    {
      "cell_type": "code",
      "execution_count": 74,
      "metadata": {
        "id": "hfvrxhkfBKqG"
      },
      "outputs": [],
      "source": [
        "df2 = pd.get_dummies(pd.Series(renov))\n",
        "df2.columns = [\"other\",\"maopei\",\"jianzhuang\",\"jingzhuang\"]\n",
        "df = pd.concat([df,df2],axis=1)"
      ]
    },
    {
      "cell_type": "code",
      "execution_count": 75,
      "metadata": {
        "colab": {
          "base_uri": "https://localhost:8080/"
        },
        "id": "-CBeY2ob7zlc",
        "outputId": "6455aa53-f402-4419-8c30-316296708af2"
      },
      "outputs": [
        {
          "output_type": "stream",
          "name": "stdout",
          "text": [
            "['动迁安置房' '售后公房' '商品房']\n"
          ]
        }
      ],
      "source": [
        "tp = df[\"transact_property\"]\n",
        "tpp = np.array(tp)\n",
        "for i in range(len(tpp)):\n",
        "  tpp[i]=str(tpp[i])\n",
        "print(np.unique(tpp))"
      ]
    },
    {
      "cell_type": "code",
      "execution_count": 76,
      "metadata": {
        "id": "xp4ZVGzGBWnp"
      },
      "outputs": [],
      "source": [
        "df2 = pd.get_dummies(pd.Series(tp))\n",
        "df2.columns = [\"resettle_housing\",\"public_housing\",\"commercial_housing\"]\n",
        "df = pd.concat([df,df2],axis=1)"
      ]
    },
    {
      "cell_type": "code",
      "execution_count": 52,
      "metadata": {
        "colab": {
          "base_uri": "https://localhost:8080/"
        },
        "id": "cgSgYyXp8TBW",
        "outputId": "497c178b-b398-4519-b393-b49e47b6e28e"
      },
      "outputs": [
        {
          "output_type": "stream",
          "name": "stdout",
          "text": [
            "['nan' '别墅' '商业办公类' '新式里弄' '旧式里弄' '普通住宅' '老公寓' '花园洋房']\n",
            "[21144]\n"
          ]
        }
      ],
      "source": [
        "func = df[\"function\"]\n",
        "null_list = []\n",
        "funcc = np.array(func)\n",
        "for i in range(len(funcc)):\n",
        "  funcc[i]=str(funcc[i])\n",
        "  if funcc[i] == \"nan\":\n",
        "    null_list.append(i)\n",
        "print(np.unique(funcc))\n",
        "print(null_list)"
      ]
    },
    {
      "cell_type": "code",
      "execution_count": 53,
      "metadata": {
        "id": "_sN3gT2YBefx"
      },
      "outputs": [],
      "source": [
        "df2 = pd.get_dummies(pd.Series(func))\n",
        "for k in null_list:\n",
        "  for j in df2.columns:\n",
        "    df2.loc[k,j]=np.nan\n",
        "df2.columns = [\"villa\",\"office\",\"n_linong\",\"o_linong\",\"residential\",\"apartment\",\"garden_house\"]\n",
        "df = pd.concat([df,df2],axis=1)"
      ]
    },
    {
      "cell_type": "code",
      "execution_count": 55,
      "metadata": {
        "colab": {
          "base_uri": "https://localhost:8080/"
        },
        "id": "tMmbW-LT8kwi",
        "outputId": "bdfd6ae2-d5c4-4f7b-f725-e6304765c052"
      },
      "outputs": [
        {
          "output_type": "stream",
          "name": "stdout",
          "text": [
            "['nan' '未满两年' '满两年' '满五年']\n",
            "[2910, 2918, 2920, 2982, 3106, 3148, 3791, 4213, 4252, 4511, 4710, 4711, 6497, 6508, 6512, 6539, 6540, 6550, 6555, 6560, 6591, 6705, 6714, 6769, 6784, 6836, 6838, 6840, 6842, 6843, 6844, 6845, 6846, 6847, 6848, 6849, 6851, 6854, 6855, 6856, 6857, 6860, 6862, 6863, 6864, 6865, 6866, 6870, 6871, 6872, 6873, 6880, 6881, 6904, 6909, 6939, 6940, 6957, 6958, 6971, 6975, 6981, 6984, 6985, 6986, 6988, 6989, 6990, 6991, 6992, 6993, 6995, 6996, 6998, 6999, 7000, 7001, 7002, 7003, 7004, 7005, 7006, 7007, 7008, 7009, 7023, 7297, 7483, 7492, 7711, 7768, 7838, 7848, 7852, 7854, 7866, 7897, 8008, 8023, 8064, 8076, 8077, 8079, 8085, 8086, 8088, 8091, 8092, 8093, 8094, 8095, 8097, 8101, 8105, 8107, 8277, 8368, 8388, 8390, 8428, 8456, 9818, 9821, 9862, 9873, 10029, 10093, 10099, 10124, 10125, 10155, 10175, 10176, 10177, 10178, 10180, 10181, 10182, 10183, 10185, 10186, 10187, 10189, 10190, 10191, 10192, 10193, 10194, 10195, 10197, 10198, 10199, 10203, 10204, 10205, 10206, 10207, 10208, 10209, 10210, 10211, 10214, 10216, 10220, 10221, 10222, 10225, 10227, 10235, 10239, 10240, 10243, 10248, 10369, 10415, 10416, 10418, 10435, 11252, 11259, 11563, 11564, 11565, 11651, 12006, 12035, 12036, 12091, 12106, 12112, 12153, 12174, 12182, 12328, 12366, 12399, 12400, 12401, 12403, 12420, 12429, 12669, 12670, 12740, 12866, 13099, 13714, 13752, 13766, 13797, 13799, 13910, 13954, 13957, 13960, 13961, 13962, 13964, 13969, 13972, 13973, 13976, 13977, 13981, 13982, 13986, 14021, 14030, 14177, 14971, 15107, 15110, 15131, 15210, 15217, 15312, 15315, 15320, 15323, 15324, 15325, 15327, 15328, 15329, 15330, 15332, 15333, 15334, 15337, 15338, 15340, 15341, 15347, 15349, 15350, 15351, 15352, 15456, 15463, 15474, 15507, 15509, 15512, 15513, 15514, 15515, 15516, 15517, 15518, 15519, 15520, 15521, 15523, 15779, 16468, 16470, 16482, 16596, 16646, 16738, 16739, 16792, 16794, 16795, 16854, 16855, 16856, 16860, 16861, 16868, 16869, 16871, 16873, 16874, 16875, 16877, 16878, 16879, 16883, 16886, 16888, 16889, 16890, 16895, 16896, 16897, 16898, 16903, 16906, 16907, 16911, 16914, 17004, 17005, 17445, 17455, 17479, 17484, 17495, 17505, 17506, 17507, 17508, 17571, 17572, 17574, 17575, 17576, 17577, 17578, 17579, 17580, 17581, 17582, 17583, 17584, 17585, 17586, 17587, 17588, 17589, 17590, 17591, 17592, 17593, 17594, 17595, 17596, 17597, 17602, 17978, 17981, 17985, 17987, 18033, 18101, 18102, 18191, 18256, 18401, 18407, 18409, 18430, 18455, 18497, 18498, 18629, 18661, 18666, 18679, 19287, 19305, 19307, 19378, 19422, 19430, 19498, 19547, 19553, 19556, 19583, 19609, 19610, 19611, 19612, 19617, 19619, 19622, 19623, 19625, 19628, 19629, 19630, 19631, 19632, 19633, 19634, 19635, 19636, 19638, 19640, 19641, 19642, 19643, 19646, 19647, 19649, 19650, 19651, 19652, 19655, 19656, 19657, 19658, 19659, 19660, 19661, 19662, 19663, 19665, 19667, 19668, 19670, 19672, 19750, 19754, 19758, 19780, 19844, 19845, 19864, 19916, 19917, 19918, 19919, 19920, 19921, 19922, 19923, 19924, 19926, 19927, 19930, 19931, 19932, 19933, 19934, 19935, 19936, 19937, 19938, 19939, 19940, 19941, 19942, 19943, 19944, 19946, 19948, 19949, 19950, 19951, 19953, 19955, 19956, 19957, 19960, 19962, 19963, 19964, 19965, 19967, 19970, 19971, 19973, 19974, 19975, 19976, 19977, 19979, 19980, 19982, 19984, 19985, 19986, 19987, 19988, 19989, 19990, 19991, 19992, 19993, 19994, 19995, 19996, 19997, 19998, 19999, 20000, 20001, 20003, 20004, 20006, 20007, 20008, 20009, 20010, 20011, 20012, 20013, 20014, 20015, 20016, 20017, 20018, 20019, 20020, 20022, 20023, 20024, 20025, 20026, 20177, 20180, 20199, 20213, 20256, 20257, 20260, 20263, 20270, 20275, 20276, 20277, 20293, 20294, 20295, 20570, 20624, 20641, 20644, 20645, 20647, 20653, 20654, 20656, 20657, 20679, 20681, 21079, 21094, 21214, 21215, 21217, 21218, 21219, 21221, 21222, 21230, 21231, 21232, 21233, 21234, 21235, 21236, 21237, 21242, 21254, 21273, 21285, 21286, 21289, 21290, 21291, 21294, 21295, 21296]\n"
          ]
        }
      ],
      "source": [
        "agel = df[\"age_limit\"]\n",
        "agell = np.array(agel)\n",
        "null_list = []\n",
        "for i in range(len(agell)):\n",
        "  agell[i]=str(agell[i])\n",
        "  if agell[i]==\"nan\":\n",
        "    null_list.append(i)\n",
        "print(np.unique(agell))\n",
        "print(null_list)"
      ]
    },
    {
      "cell_type": "code",
      "execution_count": 56,
      "metadata": {
        "id": "nrTLXOkdBkcJ"
      },
      "outputs": [],
      "source": [
        "df2 = pd.get_dummies(pd.Series(agel))\n",
        "for k in null_list:\n",
        "  for j in df2.columns:\n",
        "    df2.loc[k,j]=np.nan\n",
        "df2.columns = [\"lessthan_two\",\"beyong_two\",\"beyond_five\"]\n",
        "df = pd.concat([df,df2],axis=1)"
      ]
    },
    {
      "cell_type": "code",
      "execution_count": 57,
      "metadata": {
        "colab": {
          "base_uri": "https://localhost:8080/"
        },
        "id": "5-aUYgqC859T",
        "outputId": "7fb8edcf-cd79-46d7-844b-0c712e16eb0c"
      },
      "outputs": [
        {
          "output_type": "stream",
          "name": "stdout",
          "text": [
            "['共有' '非共有']\n"
          ]
        }
      ],
      "source": [
        "prp = df[\"property_belong\"]\n",
        "prpp = np.array(prp)\n",
        "for i in range(len(prpp)):\n",
        "  prpp[i]=str(prpp[i])\n",
        "print(np.unique(prpp))"
      ]
    },
    {
      "cell_type": "code",
      "execution_count": 58,
      "metadata": {
        "id": "RjQQUYqaBqPD"
      },
      "outputs": [],
      "source": [
        "df2 = pd.get_dummies(pd.Series(prp))\n",
        "df2.columns = [\"shared\",\"not_shared\"]\n",
        "df = pd.concat([df,df2],axis=1)"
      ]
    },
    {
      "cell_type": "code",
      "execution_count": 59,
      "metadata": {
        "colab": {
          "base_uri": "https://localhost:8080/"
        },
        "id": "__ZZmOyl9PMt",
        "outputId": "f6564564-f79f-41b2-e633-dc0d154110a0"
      },
      "outputs": [
        {
          "output_type": "stream",
          "name": "stdout",
          "text": [
            "['已上传房本照片' '未上传房本照片']\n"
          ]
        }
      ],
      "source": [
        "upp = df[\"upload_photo\"]\n",
        "uppp = np.array(upp)\n",
        "for i in range(len(uppp)):\n",
        "  uppp[i]=str(uppp[i])\n",
        "print(np.unique(uppp))"
      ]
    },
    {
      "cell_type": "code",
      "execution_count": 60,
      "metadata": {
        "id": "PnEbX_1HBuW2"
      },
      "outputs": [],
      "source": [
        "df2 = pd.get_dummies(pd.Series(upp))\n",
        "df2.columns=[\"uploaded\",\"not_uploaded\"]\n",
        "df = pd.concat([df,df2],axis=1)"
      ]
    },
    {
      "cell_type": "code",
      "execution_count": 62,
      "metadata": {
        "colab": {
          "base_uri": "https://localhost:8080/"
        },
        "id": "7epU5wmX9lQy",
        "outputId": "4930989c-d090-4e36-ee7b-1291a4117a59"
      },
      "outputs": [
        {
          "output_type": "stream",
          "name": "stdout",
          "text": [
            "['' '中环至外环' '内环内' '内环至中环' '外环外']\n",
            "[4, 28, 31, 45, 93, 129, 131, 132, 133, 151, 196, 205, 241, 251, 261, 278, 347, 363, 411, 428, 451, 470, 487, 489, 502, 512, 525, 590, 593, 605, 613, 651, 667, 716, 739, 753, 766, 767, 769, 786, 841, 923, 939, 945, 953, 992, 1033, 1060, 1068, 1072, 1079, 1095, 1100, 1156, 1188, 1196, 1208, 1249, 1278, 1282, 1285, 1288, 1292, 1316, 1333, 1338, 1388, 1395, 1408, 1468, 1494, 1506, 1541, 1559, 1564, 1581, 1599, 1607, 1719, 1739, 1791, 1792, 1794, 1809, 1822, 1848, 1861, 1862, 1881, 1910, 1929, 1945, 1950, 1999, 2019, 2038, 2055, 2116, 2127, 2142, 2165, 2166, 2199, 2212, 2246, 2269, 2273, 2294, 2344, 2383, 2393, 2408, 2431, 2450, 2520, 2543, 2563, 2571, 2593, 2597, 2614, 2633, 2660, 2664, 2680, 2719, 2744, 2807, 2817, 2818, 2838, 2864, 2872, 2892, 2898, 2903, 2913, 2916, 2927, 2940, 2945, 2952, 2956, 2962, 2964, 2971, 2976, 2990, 3008, 3016, 3028, 3042, 3047, 3063, 3068, 3089, 3100, 3130, 3164, 3175, 3188, 3203, 3210, 3234, 3235, 3244, 3267, 3270, 3280, 3300, 3302, 3320, 3334, 3347, 3357, 3396, 3435, 3449, 3461, 3471, 3475, 3493, 3500, 3521, 3544, 3583, 3604, 3625, 3632, 3649, 3666, 3672, 3674, 3678, 3697, 3703, 3743, 3753, 3756, 3815, 3817, 3818, 3824, 3830, 3839, 3873, 3882, 3892, 3897, 3901, 3914, 3942, 3947, 3953, 3956, 3960, 3961, 3963, 3964, 3967, 4031, 4037, 4038, 4094, 4096, 4104, 4109, 4147, 4170, 4175, 4178, 4181, 4198, 4202, 4225, 4244, 4246, 4270, 4276, 4306, 4336, 4342, 4347, 4356, 4416, 4417, 4428, 4448, 4453, 4469, 4549, 4588, 4597, 4611, 4642, 4658, 4685, 4750, 4760, 4796, 4806, 4808, 4826, 4832, 4843, 4855, 4866, 4900, 4959, 4977, 5059, 5060, 5099, 5130, 5173, 5176, 5252, 5295, 5300, 5306, 5313, 5322, 5339, 5340, 5351, 5366, 5371, 5382, 5386, 5388, 5393, 5400, 5403, 5470, 5503, 5506, 5507, 5515, 5521, 5539, 5541, 5542, 5584, 5588, 5607, 5616, 5625, 5639, 5641, 5649, 5658, 5671, 5684, 5698, 5709, 5723, 5725, 5733, 5738, 5747, 5754, 5757, 5760, 5770, 5772, 5780, 5788, 5789, 5795, 5800, 5803, 5812, 5822, 5836, 5849, 5850, 5851, 5864, 5865, 5892, 5896, 5900, 5940, 5982, 5986, 6003, 6004, 6010, 6027, 6049, 6053, 6058, 6086, 6088, 6098, 6100, 6107, 6109, 6131, 6140, 6143, 6145, 6147, 6153, 6157, 6158, 6170, 6183, 6189, 6192, 6228, 6240, 6241, 6248, 6261, 6272, 6273, 6274, 6276, 6311, 6317, 6322, 6367, 6375, 6389, 6391, 6412, 6449, 6462, 6465, 6476, 6494, 6498, 6501, 6509, 6553, 6556, 6571, 6583, 6627, 6628, 6638, 6661, 6706, 6709, 6735, 6792, 6807, 6848, 6849, 6885, 6888, 6891, 6900, 6924, 6928, 6969, 6990, 6999, 7318, 7756, 7918, 8214, 8301, 8303, 8582, 8595, 8715, 8744, 8764, 8871, 8893, 9156, 9251, 9386, 9539, 9742, 9812, 9884, 9980, 10015, 10374, 10519, 10590, 10640, 10659, 11060, 11063, 11110, 11111, 11159, 11225, 11241, 11278, 11362, 11387, 11448, 11523, 11538, 11716, 11848, 11887, 11932, 11983, 12003, 12045, 12185, 12215, 12231, 12232, 12243, 12244, 12247, 12269, 12282, 12299, 12319, 12323, 12346, 12353, 12383, 12412, 12430, 12471, 12476, 12541, 12548, 12651, 12657, 12686, 12713, 12719, 12760, 12810, 12855, 13009, 13038, 13112, 13143, 13190, 13287, 13300, 13332, 13656, 13752, 13958, 14041, 14063, 14099, 14117, 14155, 14172, 14207, 14225, 14263, 14269, 14399, 14401, 14407, 14454, 14484, 14503, 14658, 14686, 14691, 14702, 14729, 14730, 14842, 14864, 14880, 14881, 14882, 14901, 14906, 14995, 15042, 15052, 15091, 15098, 15189, 15317, 15353, 15376, 15379, 15393, 15398, 15414, 15437, 15682, 15752, 15784, 15879, 15964, 16130, 16609, 16614, 16757, 16784, 16872, 17041, 17042, 17080, 17085, 17086, 17090, 17092, 17100, 17102, 17108, 17122, 17128, 17140, 17141, 17144, 17149, 17152, 17153, 17154, 17155, 17173, 17179, 17197, 17203, 17206, 17219, 17221, 17247, 17248, 17249, 17252, 17255, 17256, 17269, 17272, 17274, 17278, 17279, 17285, 17289, 17302, 17303, 17304, 17308, 17312, 17313, 17315, 17319, 17321, 17323, 17329, 17332, 17334, 17335, 17336, 17339, 17341, 17343, 17346, 17351, 17356, 17357, 17367, 17372, 17377, 17379, 17383, 17384, 17408, 17411, 17412, 17421, 17432, 17433, 17441, 17447, 17448, 17461, 17469, 17471, 17479, 17488, 17503, 17510, 17517, 17533, 17534, 17598, 17599, 17602, 17608, 17612, 17623, 17662, 17668, 17671, 17672, 17690, 17695, 17700, 17705, 17721, 17725, 17731, 17734, 17749, 17751, 17772, 17790, 17803, 17840, 17862, 17869, 17875, 17878, 17883, 17884, 17886, 17891, 17906, 17930, 17937, 17979, 17990, 17997, 18025, 18027, 18035, 18042, 18046, 18049, 18076, 18088, 18106, 18110, 18112, 18117, 18118, 18119, 18121, 18122, 18130, 18149, 18150, 18151, 18152, 18157, 18159, 18163, 18175, 18178, 18179, 18180, 18181, 18182, 18184, 18187, 18206, 18214, 18229, 18230, 18234, 18240, 18242, 18249, 18257, 18258, 18264, 18267, 18269, 18272, 18277, 18278, 18281, 18282, 18285, 18292, 18298, 18310, 18312, 18313, 18315, 18318, 18321, 18324, 18351, 18353, 18357, 18360, 18361, 18362, 18366, 18372, 18373, 18374, 18383, 18385, 18393, 18398, 18399, 18400, 18401, 18402, 18403, 18404, 18405, 18411, 18412, 18415, 18416, 18420, 18421, 18423, 18424, 18426, 18427, 18428, 18429, 18434, 18445, 18451, 18453, 18480, 18499, 18500, 18502, 18507, 18508, 18517, 18542, 18568, 18596, 18661, 18664, 18666, 18670, 18675, 18788, 18825, 18836, 18840, 18848, 18873, 18897, 18947, 18971, 18985, 19021, 19035, 19061, 19187, 19219, 19222, 19224, 19225, 19232, 19233, 19239, 19240, 19259, 19279, 19284, 19310, 19327, 19339, 19373, 19376, 19377, 19395, 19400, 19408, 19411, 19423, 19430, 19433, 19434, 19438, 19440, 19442, 19444, 19454, 19465, 19484, 19485, 19490, 19492, 19509, 19550, 19564, 19572, 19578, 19583, 19602, 19604, 19605, 19611, 19614, 19616, 19646, 19655, 19670, 19671, 19694, 19709, 19710, 19726, 19732, 19736, 19761, 19770, 19775, 19785, 19790, 19797, 19807, 19809, 19820, 19825, 19876, 19878, 19887, 19888, 19906, 19920, 19921, 19930, 19937, 19938, 19959, 19964, 19965, 19971, 19972, 19984, 19986, 19987, 20054, 20177, 20203, 20690, 20696, 20709, 20725, 20733, 20742, 20756, 20757, 20759, 20765, 20773, 20778, 20779, 20788, 20793, 20802, 20827, 20869, 20870, 20871, 20893, 20897, 20911, 20920, 20934, 20944, 20948, 20954, 20973, 20999, 21003, 21004, 21007, 21011, 21027, 21028, 21030, 21034, 21055, 21061, 21064, 21065, 21082, 21087, 21092, 21099, 21108, 21109, 21118, 21125, 21130, 21131, 21141, 21143, 21144, 21149, 21150, 21157, 21162, 21163, 21164, 21167, 21169, 21173, 21178, 21179, 21181, 21183, 21185, 21187, 21193, 21196, 21199, 21202, 21210, 21213, 21219, 21225, 21227, 21228, 21236, 21237, 21243, 21255, 21260, 21261, 21266, 21267, 21276, 21280, 21282, 21283, 21284, 21292, 21297, 21298]\n"
          ]
        }
      ],
      "source": [
        "locc = df[\"loc\"]\n",
        "loccc = np.array(locc)\n",
        "null_list = []\n",
        "for i in range(len(loccc)):\n",
        "  loccc[i]=str(loccc[i])\n",
        "  if loccc[i]==\"\":\n",
        "    null_list.append(i)\n",
        "print(np.unique(loccc))\n",
        "print(null_list)"
      ]
    },
    {
      "cell_type": "code",
      "execution_count": 63,
      "metadata": {
        "id": "VR7nHW8moJzn"
      },
      "outputs": [],
      "source": [
        "locc=locc.replace(\"\", np.nan)"
      ]
    },
    {
      "cell_type": "code",
      "execution_count": 64,
      "metadata": {
        "id": "Myu6jEnbBy4n"
      },
      "outputs": [],
      "source": [
        "df2 = pd.get_dummies(pd.Series(locc))\n",
        "for k in null_list:\n",
        "  for j in df2.columns:\n",
        "    df2.loc[k,j]=np.nan\n",
        "df2.columns = [\"central_outer\",\"inner\",\"inner_central\",\"outer\"]\n",
        "df = pd.concat([df,df2],axis=1)"
      ]
    },
    {
      "cell_type": "code",
      "execution_count": 65,
      "metadata": {
        "colab": {
          "base_uri": "https://localhost:8080/"
        },
        "id": "FJdlP81n9zhj",
        "outputId": "bfb2b02a-60bb-4281-9b7d-072cd2477b32"
      },
      "outputs": [
        {
          "output_type": "stream",
          "name": "stdout",
          "text": [
            "['' '下班后可看' '具体信息请致电经纪人' '只周末可看' '提前预约随时可看' '有租户需预约']\n",
            "[2121, 2165]\n"
          ]
        }
      ],
      "source": [
        "avt = df[\"avail_visit_time\"]\n",
        "avtt = np.array(avt)\n",
        "null_list = []\n",
        "for i in range(len(avtt)):\n",
        "  avtt[i]=str(avtt[i])\n",
        "  tt = avtt[i]\n",
        "  tt = tt.strip('\"')\n",
        "  tt = tt.strip(']')\n",
        "  tt = tt.strip(\"'\")\n",
        "  tt = tt.strip(\"\\\\\")\n",
        "  df.loc[i,\"avail_visit_time\"]=tt\n",
        "  avtt[i]=tt\n",
        "  if avtt[i] == \"\":\n",
        "    null_list.append(i)\n",
        "print(np.unique(avtt))\n",
        "print(null_list)"
      ]
    },
    {
      "cell_type": "code",
      "execution_count": 66,
      "metadata": {
        "id": "9XIxcyCxo9VA"
      },
      "outputs": [],
      "source": [
        "avt=avt.replace(\"\",np.nan)"
      ]
    },
    {
      "cell_type": "code",
      "execution_count": 67,
      "metadata": {
        "id": "OaKtm-odB4iI"
      },
      "outputs": [],
      "source": [
        "df2 = pd.get_dummies(pd.Series(avt))\n",
        "for k in null_list:\n",
        "  for j in df2.columns:\n",
        "    df2.loc[k,j]=np.nan\n",
        "df2.columns = [\"after_work\",\"call_agent\",\"only_weekend\",\"reservation\",\"rented\"]\n",
        "df = pd.concat([df,df2],axis=1)"
      ]
    },
    {
      "cell_type": "code",
      "execution_count": 68,
      "metadata": {
        "colab": {
          "base_uri": "https://localhost:8080/"
        },
        "id": "nycec2zOCddt",
        "outputId": "14fb14d9-d18f-4b29-ac13-38e19e478666"
      },
      "outputs": [
        {
          "output_type": "stream",
          "name": "stdout",
          "text": [
            "['baoshan' 'changning' 'chongming' 'fengxian' 'hongkou' 'huangpu'\n",
            " 'jiading' 'jingan' 'jinshan' 'minhang' 'pudong' 'putuo' 'qingpu'\n",
            " 'songjiang' 'xuhui' 'yangpu']\n"
          ]
        }
      ],
      "source": [
        "district = df[\"district\"]\n",
        "dist = np.array(district)\n",
        "for i in range(len(dist)):\n",
        "  dist[i]=str(dist[i])\n",
        "print(np.unique(dist))"
      ]
    },
    {
      "cell_type": "code",
      "execution_count": 69,
      "metadata": {
        "id": "ylY0MI_KCfxf"
      },
      "outputs": [],
      "source": [
        "df2 = pd.get_dummies(pd.Series(district))\n",
        "df = pd.concat([df,df2],axis=1)"
      ]
    },
    {
      "cell_type": "code",
      "execution_count": 77,
      "metadata": {
        "id": "falxcLSnZB2R"
      },
      "outputs": [],
      "source": [
        "# drop a dummy var for each categorical varariable to avoid multicolinearity\n",
        "df = df.drop(\"lower_floor\",axis=1)\n",
        "df = df.drop(\"yue_config\",axis=1)\n",
        "df = df.drop(\"doublepin\",axis=1)\n",
        "df = df.drop(\"east\",axis=1)\n",
        "df = df.drop(\"unknown_struct\",axis=1)\n",
        "df = df.drop(\"other\",axis=1)\n",
        "df = df.drop(\"resettle_housing\",axis=1)\n",
        "df = df.drop(\"villa\",axis=1)\n",
        "df = df.drop(\"lessthan_two\",axis=1)\n",
        "df = df.drop(\"not_shared\",axis=1)\n",
        "df = df.drop(\"not_uploaded\",axis=1)\n",
        "df = df.drop(\"outer\",axis=1)\n",
        "df = df.drop(\"rented\",axis=1)\n",
        "df = df.drop(\"yangpu\",axis=1)"
      ]
    },
    {
      "cell_type": "code",
      "execution_count": 78,
      "metadata": {
        "id": "q-agVkmau6Bu"
      },
      "outputs": [],
      "source": [
        "dropped_col = [\"district\",\"no_of_units\",\"rel_floor\",\"config\",\"layout\",\"building_type\",\"direction\",\"structure\",\"renovation_status\",\"transact_property\",\"function\",\"age_limit\",\"property_belong\",\"upload_photo\",\"loc\",\"avail_visit_time\"]\n",
        "df = df.drop(dropped_col,axis=1)\n",
        "df = df.apply(pd.to_numeric)"
      ]
    },
    {
      "cell_type": "code",
      "execution_count": 79,
      "metadata": {
        "id": "CvkO7xIgRQiN"
      },
      "outputs": [],
      "source": [
        "df.to_csv(\"C:/Users/Lenovo/Desktop/git/STAT4011_Project1/data/Lianjia_cleaned.csv\",index=False)"
      ]
    }
  ],
  "metadata": {
    "colab": {
      "provenance": []
    },
    "kernelspec": {
      "display_name": "Python 3 (ipykernel)",
      "language": "python",
      "name": "python3"
    },
    "language_info": {
      "codemirror_mode": {
        "name": "ipython",
        "version": 3
      },
      "file_extension": ".py",
      "mimetype": "text/x-python",
      "name": "python",
      "nbconvert_exporter": "python",
      "pygments_lexer": "ipython3",
      "version": "3.9.7"
    }
  },
  "nbformat": 4,
  "nbformat_minor": 0
}