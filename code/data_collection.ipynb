{
 "cells": [
  {
   "cell_type": "code",
   "execution_count": null,
   "id": "f3e4eb3f",
   "metadata": {},
   "outputs": [],
   "source": [
    "import requests\n",
    "import parsel\n",
    "import csv\n",
    "import time\n",
    "import random"
   ]
  },
  {
   "cell_type": "code",
   "execution_count": null,
   "id": "e9520d55",
   "metadata": {},
   "outputs": [],
   "source": [
    "region_list=['pudong','minhang','baoshan','xuhui','putuo','yangpu','changning','songjiang','jingan','fengxian','jinshan','chongming','jiading','huangpu','hongkou','qingpu']"
   ]
  },
  {
   "cell_type": "code",
   "execution_count": null,
   "id": "d692be36",
   "metadata": {},
   "outputs": [],
   "source": [
    "count=0\n",
    "base_url=\"https://sh.lianjia.com/ershoufang\"\n",
    "for i in range(0,len(region_list)):\n",
    "    url_region=base_url+\"/\"+region_list[i]\n",
    "    headers={\n",
    "    'User-Agent': 'Mozilla/5.0 (Macintosh; Intel Mac OS X 10_15_7) AppleWebKit/537.36 (KHTML, like Gecko) Chrome/105.0.0.0 Safari/537.36'\n",
    "}\n",
    "    response=requests.get(url=url_region,headers=headers)\n",
    "    html_data=response.text\n",
    "    selector=parsel.Selector(response.text)    \n",
    "    for page in range(1,60):\n",
    "        print(f'\\n====================================NO.{page}page===================================')\n",
    "        url=url_region+'/pg'+str(page)+'/'\n",
    "        print(url)\n",
    "        headers={\n",
    "    'User-Agent': 'Mozilla/5.0 (Macintosh; Intel Mac OS X 10_15_7) AppleWebKit/537.36 (KHTML, like Gecko) Chrome/105.0.0.0 Safari/537.36'\n",
    "}\n",
    "        response=requests.get(url=url,headers=headers)\n",
    "        html_data=response.text\n",
    "        selector=parsel.Selector(response.text)\n",
    "        lis2=selector.css('.title a::attr(href)').getall()\n",
    "        delay_choices=[1,2,0.5,0.8,1.5]\n",
    "        delay=random.choice(delay_choices)\n",
    "        time.sleep(delay)\n",
    "        lis=list(set(lis2))   \n",
    "        lis.sort(key=lis2.index)\n",
    "        time.sleep(delay)\n",
    "        print(f'\\n amount:{a}')\n",
    "        for link in lis:\n",
    "            response1=requests.get(url=link,headers=headers)\n",
    "            html_data=response1.text\n",
    "            li=parsel.Selector(response1.text)\n",
    "            region=\"shanghai\"\n",
    "            selling_point=li.css('.main::text').getall()\n",
    "            total_price=li.css('.price .total::text').get()   +  ' 万 '\n",
    "            unit_price=li.css('.unitPriceValue::text').get() + ' 平/米 '\n",
    "            communityname=li.css('.overview .content .aroundInfo .communityName .info::text').getall()#小區名字\n",
    "            aroundinfo=li.css('.areaName a::text').getall()#附近設施\n",
    "            aroundinfo='--'.join(aroundinfo)\n",
    "            areaname=li.css('.areaName span::text').getall()#所屬區域\n",
    "            visittime=li.css('.visitTime span::text').getall()#看房時間\n",
    "            houseinfo1=li.css('.introContent li::text').getall()\n",
    "        #房屋戶型、所在樓層（共有樓層）、建築面積、戶型結構、套內面積、建築類型、房屋朝向、建築結構、裝修情況、梯戶比例、供暖方式、配備電梯\n",
    "            houseinfo2=li.css('.transaction span::text').getall()\n",
    "        #掛牌時間、交易權屬、上次交易、房屋用途、房屋年限、產權所屬、抵押信息、房本備件\n",
    "            with open('Lianjia_raw.csv',mode='a',encoding='utf-8',newline='')as f:\n",
    "                 csv_write= csv.writer(f)\n",
    "                 csv_write.writerow([region,aroundinfo,selling_point,total_price,unit_price,houseinfo1,houseinfo2,communityname,areaname,visittime ])\n",
    "            count+=1\n",
    "    print(f\"\\n>>>>>>>>>>>>>>NO.{count}:DONE<<<<<<<<<<<<<<<\")\n",
    "print(f'\\n The amounts of collection:',count)\n",
    "        "
   ]
  }
 ],
 "metadata": {
  "kernelspec": {
   "display_name": "Python 3 (ipykernel)",
   "language": "python",
   "name": "python3"
  },
  "language_info": {
   "codemirror_mode": {
    "name": "ipython",
    "version": 3
   },
   "file_extension": ".py",
   "mimetype": "text/x-python",
   "name": "python",
   "nbconvert_exporter": "python",
   "pygments_lexer": "ipython3",
   "version": "3.9.12"
  }
 },
 "nbformat": 4,
 "nbformat_minor": 5
}
