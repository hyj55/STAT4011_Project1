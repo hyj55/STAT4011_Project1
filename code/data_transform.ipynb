{
 "cells": [
  {
   "cell_type": "markdown",
   "metadata": {
    "id": "uu3ZO2gms_gB"
   },
   "source": [
    "# impute missing data"
   ]
  },
  {
   "cell_type": "code",
   "execution_count": 1,
   "metadata": {},
   "outputs": [],
   "source": [
    "#importing\n",
    "import numpy as np\n",
    "import pandas as pd\n",
    "from numpy import mean\n",
    "from numpy import std\n",
    "from pandas import read_csv\n",
    "from sklearn.impute import KNNImputer\n",
    "from sklearn.model_selection import cross_val_score,train_test_split\n",
    "from sklearn.model_selection import KFold\n",
    "from sklearn.pipeline import Pipeline\n",
    "from sklearn.ensemble import RandomForestRegressor\n",
    "from sklearn.preprocessing import StandardScaler\n",
    "from matplotlib import pyplot"
   ]
  },
  {
   "cell_type": "code",
   "execution_count": 2,
   "metadata": {},
   "outputs": [],
   "source": [
    "data_wd = \"C:/Users/Lenovo/Desktop/git/STAT4011_Project1/data/Lianjia_cleaned.csv\"\n",
    "df1 = pd.read_csv(data_wd,na_values='?')\n",
    "df1 = df1.apply(pd.to_numeric)"
   ]
  },
  {
   "cell_type": "code",
   "execution_count": 3,
   "metadata": {},
   "outputs": [
    {
     "name": "stdout",
     "output_type": "stream",
     "text": [
      "> 0, Missing: 0 (0.0%)\n",
      "> 1, Missing: 0 (0.0%)\n",
      "> 2, Missing: 0 (0.0%)\n",
      "> 3, Missing: 588 (2.8%)\n",
      "> 4, Missing: 0 (0.0%)\n",
      "> 5, Missing: 575 (2.7%)\n",
      "> 6, Missing: 0 (0.0%)\n",
      "> 7, Missing: 0 (0.0%)\n",
      "> 8, Missing: 0 (0.0%)\n",
      "> 9, Missing: 0 (0.0%)\n",
      "> 10, Missing: 83 (0.4%)\n",
      "> 11, Missing: 83 (0.4%)\n",
      "> 12, Missing: 83 (0.4%)\n",
      "> 13, Missing: 0 (0.0%)\n",
      "> 14, Missing: 0 (0.0%)\n",
      "> 15, Missing: 0 (0.0%)\n",
      "> 16, Missing: 0 (0.0%)\n",
      "> 17, Missing: 0 (0.0%)\n",
      "> 18, Missing: 0 (0.0%)\n",
      "> 19, Missing: 0 (0.0%)\n",
      "> 20, Missing: 0 (0.0%)\n",
      "> 21, Missing: 0 (0.0%)\n",
      "> 22, Missing: 0 (0.0%)\n",
      "> 23, Missing: 0 (0.0%)\n",
      "> 24, Missing: 0 (0.0%)\n",
      "> 25, Missing: 0 (0.0%)\n",
      "> 26, Missing: 0 (0.0%)\n",
      "> 27, Missing: 0 (0.0%)\n",
      "> 28, Missing: 0 (0.0%)\n",
      "> 29, Missing: 0 (0.0%)\n",
      "> 30, Missing: 0 (0.0%)\n",
      "> 31, Missing: 0 (0.0%)\n",
      "> 32, Missing: 0 (0.0%)\n",
      "> 33, Missing: 0 (0.0%)\n",
      "> 34, Missing: 0 (0.0%)\n",
      "> 35, Missing: 0 (0.0%)\n",
      "> 36, Missing: 0 (0.0%)\n",
      "> 37, Missing: 0 (0.0%)\n",
      "> 38, Missing: 0 (0.0%)\n",
      "> 39, Missing: 0 (0.0%)\n",
      "> 40, Missing: 0 (0.0%)\n",
      "> 41, Missing: 0 (0.0%)\n",
      "> 42, Missing: 0 (0.0%)\n",
      "> 43, Missing: 0 (0.0%)\n",
      "> 44, Missing: 0 (0.0%)\n",
      "> 45, Missing: 0 (0.0%)\n",
      "> 46, Missing: 0 (0.0%)\n",
      "> 47, Missing: 0 (0.0%)\n",
      "> 48, Missing: 0 (0.0%)\n",
      "> 49, Missing: 0 (0.0%)\n",
      "> 50, Missing: 0 (0.0%)\n",
      "> 51, Missing: 0 (0.0%)\n",
      "> 52, Missing: 0 (0.0%)\n",
      "> 53, Missing: 0 (0.0%)\n",
      "> 54, Missing: 0 (0.0%)\n",
      "> 55, Missing: 0 (0.0%)\n",
      "> 56, Missing: 0 (0.0%)\n",
      "> 57, Missing: 0 (0.0%)\n",
      "> 58, Missing: 0 (0.0%)\n",
      "> 59, Missing: 0 (0.0%)\n",
      "> 60, Missing: 0 (0.0%)\n",
      "> 61, Missing: 0 (0.0%)\n",
      "> 62, Missing: 0 (0.0%)\n",
      "> 63, Missing: 0 (0.0%)\n",
      "> 64, Missing: 0 (0.0%)\n",
      "> 65, Missing: 0 (0.0%)\n",
      "> 66, Missing: 0 (0.0%)\n",
      "> 67, Missing: 0 (0.0%)\n",
      "> 68, Missing: 0 (0.0%)\n",
      "> 69, Missing: 0 (0.0%)\n",
      "> 70, Missing: 0 (0.0%)\n",
      "> 71, Missing: 0 (0.0%)\n",
      "> 72, Missing: 0 (0.0%)\n",
      "> 73, Missing: 0 (0.0%)\n",
      "> 74, Missing: 0 (0.0%)\n"
     ]
    }
   ],
   "source": [
    "# summarize the number of rows with missing values for each column\n",
    "for i in range(df1.shape[1]):\n",
    " n_miss = df1.iloc[0:df1.shape[0],i].isnull().sum()\n",
    " perc = n_miss / df1.shape[0] * 100\n",
    " print('> %d, Missing: %d (%.1f%%)' % (i, n_miss, perc))"
   ]
  },
  {
   "cell_type": "code",
   "execution_count": 4,
   "metadata": {},
   "outputs": [
    {
     "data": {
      "text/plain": [
       "(17039, 74)"
      ]
     },
     "execution_count": 4,
     "metadata": {},
     "output_type": "execute_result"
    }
   ],
   "source": [
    "X = df1.drop(columns=['price'])\n",
    "y = df1['price']/100000 \n",
    "Xtrain,Xtest,ytrain,ytest=train_test_split(X,y,test_size=0.2,random_state=4011)\n",
    "Xtrain.shape"
   ]
  },
  {
   "cell_type": "code",
   "execution_count": 5,
   "metadata": {},
   "outputs": [
    {
     "data": {
      "text/plain": [
       "['1', '3', '5', '7', '9', '15', '18']"
      ]
     },
     "execution_count": 5,
     "metadata": {},
     "output_type": "execute_result"
    }
   ],
   "source": [
    "# evaluate each strategy on the dataset\n",
    "results = list()\n",
    "strategies = [str(i) for i in [1,3,5,7,9,15,18]]\n",
    "strategies"
   ]
  },
  {
   "cell_type": "code",
   "execution_count": 6,
   "metadata": {},
   "outputs": [
    {
     "name": "stdout",
     "output_type": "stream",
     "text": [
      ">1 -16.483 (1.091)\n",
      ">3 -16.568 (1.205)\n",
      ">5 -16.576 (1.217)\n",
      ">7 -16.554 (0.980)\n",
      ">9 -16.686 (1.157)\n",
      ">15 -16.565 (1.092)\n",
      ">18 -16.591 (1.081)\n"
     ]
    }
   ],
   "source": [
    "for s in strategies:\n",
    " # create the modeling pipeline\n",
    " pipeline = Pipeline(steps=[('i', KNNImputer(n_neighbors=int(s))), ('m', RandomForestRegressor())])\n",
    " # evaluate the model\n",
    " cv = KFold(n_splits=5) \n",
    " scores = cross_val_score(pipeline, Xtrain, ytrain, scoring='neg_root_mean_squared_error', cv=cv)\n",
    " # store results\n",
    " results.append(scores)\n",
    " print('>%s %.3f (%.3f)' % (s, mean(scores), std(scores)))"
   ]
  },
  {
   "cell_type": "code",
   "execution_count": 7,
   "metadata": {},
   "outputs": [
    {
     "data": {
      "image/png": "[encoded data removed]",
      "text/plain": [
       "<Figure size 432x288 with 1 Axes>"
      ]
     },
     "metadata": {
      "needs_background": "light"
     },
     "output_type": "display_data"
    }
   ],
   "source": [
    "# plot performance of pipelines with different hyperparameters for comparison\n",
    "pyplot.boxplot(results, labels=strategies, showmeans=True)\n",
    "pyplot.savefig(\"C:/Users/Lenovo/Desktop/git/STAT4011_Project1/figures/impute.jpg\")"
   ]
  },
  {
   "cell_type": "code",
   "execution_count": 8,
   "metadata": {},
   "outputs": [],
   "source": [
    "my_imputer = KNNImputer(n_neighbors=3)\n",
    "X_trained_filled = my_imputer.fit_transform(Xtrain)\n",
    "\n",
    "# now transform test\n",
    "X_test_filled = my_imputer.transform(Xtest)"
   ]
  },
  {
   "cell_type": "code",
   "execution_count": 9,
   "metadata": {},
   "outputs": [],
   "source": [
    "my_scaler= StandardScaler()\n",
    "X_train_standarded = my_scaler.fit_transform(X_trained_filled)\n",
    "X_test_standarded = my_scaler.transform(X_test_filled)"
   ]
  },
  {
   "cell_type": "code",
   "execution_count": 10,
   "metadata": {},
   "outputs": [],
   "source": [
    "X_train_standarded = pd.DataFrame(X_train_standarded)\n",
    "X_test_standarded = pd.DataFrame(X_test_standarded)\n",
    "ytrain = pd.DataFrame(ytrain)\n",
    "ytest = pd.DataFrame(ytest)"
   ]
  },
  {
   "cell_type": "code",
   "execution_count": 11,
   "metadata": {},
   "outputs": [],
   "source": [
    "train_data=ytrain.reset_index(drop=True).join(X_train_standarded)\n",
    "test_data=ytest.reset_index(drop=True).join(X_test_standarded)\n",
    "transformed_data=pd.concat([train_data, test_data], axis=0)"
   ]
  },
  {
   "cell_type": "code",
   "execution_count": 12,
   "metadata": {},
   "outputs": [],
   "source": [
    "colnames=df1.columns\n",
    "transformed_data.columns=colnames\n",
    "transformed_data.to_csv(\"C:/Users/Lenovo/Desktop/git/STAT4011_Project1/data/Lianjia_transformed.csv\",index=False)"
   ]
  }
 ],
 "metadata": {
  "colab": {
   "authorship_tag": "ABX9TyMdvyyVKsFmSNUFariGlLLy",
   "collapsed_sections": [],
   "include_colab_link": true,
   "provenance": []
  },
  "kernelspec": {
   "display_name": "Python 3 (ipykernel)",
   "language": "python",
   "name": "python3"
  },
  "language_info": {
   "codemirror_mode": {
    "name": "ipython",
    "version": 3
   },
   "file_extension": ".py",
   "mimetype": "text/x-python",
   "name": "python",
   "nbconvert_exporter": "python",
   "pygments_lexer": "ipython3",
   "version": "3.9.7"
  }
 },
 "nbformat": 4,
 "nbformat_minor": 1
}
