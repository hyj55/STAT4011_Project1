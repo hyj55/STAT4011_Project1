{
  "cells": [
    {
      "cell_type": "markdown",
      "metadata": {
        "id": "uu3ZO2gms_gB"
      },
      "source": [
        "# impute missing data"
      ]
    },
    {
      "cell_type": "code",
      "execution_count": 25,
      "metadata": {
        "id": "Z2SFS-fkHKJX"
      },
      "outputs": [],
      "source": [
        "#importing\n",
        "import numpy as np\n",
        "import pandas as pd\n",
        "from numpy import mean\n",
        "from numpy import std\n",
        "from pandas import read_csv\n",
        "from sklearn.impute import KNNImputer\n",
        "from sklearn.model_selection import cross_val_score,train_test_split\n",
        "from sklearn.model_selection import KFold\n",
        "from sklearn.pipeline import Pipeline\n",
        "from sklearn.ensemble import RandomForestRegressor\n",
        "from sklearn.preprocessing import StandardScaler\n",
        "from matplotlib import pyplot"
      ]
    },
    {
      "cell_type": "code",
      "execution_count": 26,
      "metadata": {
        "id": "THnZxam0HKJc"
      },
      "outputs": [],
      "source": [
        "#data_wd = \"C:/Users/Lenovo/Desktop/git/STAT4011_Project1/data/Lianjia_cleaned.csv\"\n",
        "data_wd = \"Lianjia_cleaned.csv\"\n",
        "df1 = pd.read_csv(data_wd,na_values='?')\n",
        "df1 = df1.apply(pd.to_numeric)"
      ]
    },
    {
      "cell_type": "code",
      "execution_count": 27,
      "metadata": {
        "colab": {
          "base_uri": "https://localhost:8080/"
        },
        "id": "npUyq5wUHKJh",
        "outputId": "84130130-21f0-480f-a54b-6e5523d01275"
      },
      "outputs": [
        {
          "output_type": "stream",
          "name": "stdout",
          "text": [
            "> 0, Missing: 0 (0.0%)\n",
            "> 1, Missing: 0 (0.0%)\n",
            "> 2, Missing: 0 (0.0%)\n",
            "> 3, Missing: 588 (2.8%)\n",
            "> 4, Missing: 0 (0.0%)\n",
            "> 5, Missing: 575 (2.7%)\n",
            "> 6, Missing: 0 (0.0%)\n",
            "> 7, Missing: 0 (0.0%)\n",
            "> 8, Missing: 0 (0.0%)\n",
            "> 9, Missing: 0 (0.0%)\n",
            "> 10, Missing: 83 (0.4%)\n",
            "> 11, Missing: 83 (0.4%)\n",
            "> 12, Missing: 83 (0.4%)\n",
            "> 13, Missing: 0 (0.0%)\n",
            "> 14, Missing: 0 (0.0%)\n",
            "> 15, Missing: 0 (0.0%)\n",
            "> 16, Missing: 0 (0.0%)\n",
            "> 17, Missing: 0 (0.0%)\n",
            "> 18, Missing: 259 (1.2%)\n",
            "> 19, Missing: 259 (1.2%)\n",
            "> 20, Missing: 259 (1.2%)\n",
            "> 21, Missing: 259 (1.2%)\n",
            "> 22, Missing: 259 (1.2%)\n",
            "> 23, Missing: 259 (1.2%)\n",
            "> 24, Missing: 259 (1.2%)\n",
            "> 25, Missing: 8 (0.0%)\n",
            "> 26, Missing: 8 (0.0%)\n",
            "> 27, Missing: 8 (0.0%)\n",
            "> 28, Missing: 8 (0.0%)\n",
            "> 29, Missing: 8 (0.0%)\n",
            "> 30, Missing: 8 (0.0%)\n",
            "> 31, Missing: 8 (0.0%)\n",
            "> 32, Missing: 1 (0.0%)\n",
            "> 33, Missing: 1 (0.0%)\n",
            "> 34, Missing: 1 (0.0%)\n",
            "> 35, Missing: 1 (0.0%)\n",
            "> 36, Missing: 1 (0.0%)\n",
            "> 37, Missing: 1 (0.0%)\n",
            "> 38, Missing: 577 (2.7%)\n",
            "> 39, Missing: 577 (2.7%)\n",
            "> 40, Missing: 0 (0.0%)\n",
            "> 41, Missing: 0 (0.0%)\n",
            "> 42, Missing: 995 (4.7%)\n",
            "> 43, Missing: 995 (4.7%)\n",
            "> 44, Missing: 995 (4.7%)\n",
            "> 45, Missing: 2 (0.0%)\n",
            "> 46, Missing: 2 (0.0%)\n",
            "> 47, Missing: 2 (0.0%)\n",
            "> 48, Missing: 2 (0.0%)\n",
            "> 49, Missing: 0 (0.0%)\n",
            "> 50, Missing: 0 (0.0%)\n",
            "> 51, Missing: 0 (0.0%)\n",
            "> 52, Missing: 0 (0.0%)\n",
            "> 53, Missing: 0 (0.0%)\n",
            "> 54, Missing: 0 (0.0%)\n",
            "> 55, Missing: 0 (0.0%)\n",
            "> 56, Missing: 0 (0.0%)\n",
            "> 57, Missing: 0 (0.0%)\n",
            "> 58, Missing: 0 (0.0%)\n",
            "> 59, Missing: 0 (0.0%)\n",
            "> 60, Missing: 0 (0.0%)\n",
            "> 61, Missing: 0 (0.0%)\n",
            "> 62, Missing: 0 (0.0%)\n",
            "> 63, Missing: 0 (0.0%)\n",
            "> 64, Missing: 0 (0.0%)\n",
            "> 65, Missing: 0 (0.0%)\n",
            "> 66, Missing: 0 (0.0%)\n",
            "> 67, Missing: 0 (0.0%)\n",
            "> 68, Missing: 0 (0.0%)\n",
            "> 69, Missing: 0 (0.0%)\n",
            "> 70, Missing: 0 (0.0%)\n",
            "> 71, Missing: 0 (0.0%)\n",
            "> 72, Missing: 0 (0.0%)\n",
            "> 73, Missing: 0 (0.0%)\n",
            "> 74, Missing: 0 (0.0%)\n"
          ]
        }
      ],
      "source": [
        "# summarize the number of rows with missing values for each column\n",
        "for i in range(df1.shape[1]):\n",
        " n_miss = df1.iloc[0:df1.shape[0],i].isnull().sum()\n",
        " perc = n_miss / df1.shape[0] * 100\n",
        " print('> %d, Missing: %d (%.1f%%)' % (i, n_miss, perc))"
      ]
    },
    {
      "cell_type": "code",
      "execution_count": 28,
      "metadata": {
        "colab": {
          "base_uri": "https://localhost:8080/"
        },
        "id": "6M9uXqxaHKJm",
        "outputId": "9b0ddf7d-c3bc-4ecc-929d-a9a722a14071"
      },
      "outputs": [
        {
          "output_type": "execute_result",
          "data": {
            "text/plain": [
              "(17039, 74)"
            ]
          },
          "metadata": {},
          "execution_count": 28
        }
      ],
      "source": [
        "X = df1.drop(columns=['price'])\n",
        "y = df1['price']/10000 \n",
        "log_y = np.log(y)\n",
        "Xtrain,Xtest,ytrain,ytest=train_test_split(X,log_y,test_size=0.2,random_state=4011)\n",
        "Xtrain.shape"
      ]
    },
    {
      "cell_type": "code",
      "execution_count": 30,
      "metadata": {
        "colab": {
          "base_uri": "https://localhost:8080/"
        },
        "id": "DooA-kT1HKJo",
        "outputId": "788b7ed3-75f7-434b-8101-b43c777447b2"
      },
      "outputs": [
        {
          "output_type": "execute_result",
          "data": {
            "text/plain": [
              "['1', '3', '5', '7', '9', '15', '18', '24', '27', '30', '33', '36']"
            ]
          },
          "metadata": {},
          "execution_count": 30
        }
      ],
      "source": [
        "# evaluate each strategy on the dataset\n",
        "results = list()\n",
        "strategies = [str(i) for i in [1,3,5,7,9,15,18,24,27,30,33,36]]\n",
        "strategies"
      ]
    },
    {
      "cell_type": "code",
      "execution_count": 31,
      "metadata": {
        "colab": {
          "base_uri": "https://localhost:8080/"
        },
        "id": "JtK75snLHKJq",
        "outputId": "4f0dcf6a-702e-4f3a-e9d1-1048c64c7849"
      },
      "outputs": [
        {
          "output_type": "stream",
          "name": "stdout",
          "text": [
            ">1 -0.196 (0.003)\n",
            ">3 -0.190 (0.002)\n",
            ">5 -0.189 (0.001)\n",
            ">7 -0.189 (0.002)\n",
            ">9 -0.189 (0.002)\n",
            ">15 -0.189 (0.001)\n",
            ">18 -0.189 (0.002)\n",
            ">24 -0.189 (0.001)\n",
            ">27 -0.189 (0.002)\n",
            ">30 -0.189 (0.001)\n",
            ">33 -0.189 (0.001)\n",
            ">36 -0.189 (0.001)\n"
          ]
        }
      ],
      "source": [
        "for s in strategies:\n",
        " # create the modeling pipeline\n",
        " pipeline = Pipeline(steps=[('i', KNNImputer(n_neighbors=int(s))), ('m', RandomForestRegressor())])\n",
        " # evaluate the model\n",
        " cv = KFold(n_splits=5) \n",
        " scores = cross_val_score(pipeline, Xtrain, ytrain, scoring='neg_root_mean_squared_error', cv=cv)\n",
        " # store results\n",
        " results.append(scores)\n",
        " print('>%s %.3f (%.3f)' % (s, mean(scores), std(scores)))"
      ]
    },
    {
      "cell_type": "code",
      "execution_count": 10,
      "metadata": {
        "colab": {
          "base_uri": "https://localhost:8080/",
          "height": 265
        },
        "id": "x_lf_bMWHKJt",
        "outputId": "a9572074-4ab6-4a77-9423-b34f6e5f3dc1"
      },
      "outputs": [
        {
          "output_type": "display_data",
          "data": {
            "text/plain": [
              "<Figure size 432x288 with 1 Axes>"
            ],
            "image/png": "[encoded data removed]"
          },
          "metadata": {
            "needs_background": "light"
          }
        }
      ],
      "source": [
        "# plot performance of pipelines with different hyperparameters for comparison\n",
        "pyplot.boxplot(results, labels=strategies, showmeans=True)\n",
        "pyplot.savefig(\"impute.jpg\")\n",
        "#pyplot.savefig(\"C:/Users/Lenovo/Desktop/git/STAT4011_Project1/figures/impute.jpg\")"
      ]
    },
    {
      "cell_type": "code",
      "execution_count": 11,
      "metadata": {
        "id": "AkVfHY14HKJx"
      },
      "outputs": [],
      "source": [
        "my_imputer = KNNImputer(n_neighbors=7)\n",
        "X_trained_filled = my_imputer.fit_transform(Xtrain)\n",
        "\n",
        "# now transform test\n",
        "X_test_filled = my_imputer.transform(Xtest)"
      ]
    },
    {
      "cell_type": "code",
      "execution_count": 12,
      "metadata": {
        "id": "Kme9Tl21HKJ4"
      },
      "outputs": [],
      "source": [
        "my_scaler= StandardScaler()\n",
        "X_train_standarded = my_scaler.fit_transform(X_trained_filled)\n",
        "X_test_standarded = my_scaler.transform(X_test_filled)"
      ]
    },
    {
      "cell_type": "code",
      "execution_count": 13,
      "metadata": {
        "id": "1AuYpJGdHKJ5"
      },
      "outputs": [],
      "source": [
        "X_train_standarded = pd.DataFrame(X_train_standarded)\n",
        "X_test_standarded = pd.DataFrame(X_test_standarded)\n",
        "ytrain = pd.DataFrame(ytrain)\n",
        "ytest = pd.DataFrame(ytest)"
      ]
    },
    {
      "cell_type": "code",
      "execution_count": 14,
      "metadata": {
        "id": "tCHMWGkiHKJ6"
      },
      "outputs": [],
      "source": [
        "train_data=ytrain.reset_index(drop=True).join(X_train_standarded)\n",
        "test_data=ytest.reset_index(drop=True).join(X_test_standarded)\n",
        "transformed_data=pd.concat([train_data, test_data], axis=0)"
      ]
    },
    {
      "cell_type": "code",
      "execution_count": 19,
      "metadata": {
        "id": "_k3EeYtWHKJ8"
      },
      "outputs": [],
      "source": [
        "#df1.rename(columns={'price':'log_price'}, inplace = True)\n",
        "colnames=df1.columns\n",
        "transformed_data.columns=colnames\n",
        "transformed_data.to_csv(\"Lianjia_tranformed.csv\",index=False)\n",
        "#transformed_data.to_csv(\"C:/Users/Lenovo/Desktop/git/STAT4011_Project1/data/Lianjia_transformed.csv\",index=False)"
      ]
    }
  ],
  "metadata": {
    "colab": {
      "collapsed_sections": [],
      "provenance": []
    },
    "kernelspec": {
      "display_name": "Python 3 (ipykernel)",
      "language": "python",
      "name": "python3"
    },
    "language_info": {
      "codemirror_mode": {
        "name": "ipython",
        "version": 3
      },
      "file_extension": ".py",
      "mimetype": "text/x-python",
      "name": "python",
      "nbconvert_exporter": "python",
      "pygments_lexer": "ipython3",
      "version": "3.9.7"
    }
  },
  "nbformat": 4,
  "nbformat_minor": 0
}